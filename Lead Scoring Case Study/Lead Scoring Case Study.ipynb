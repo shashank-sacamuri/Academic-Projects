{
 "cells": [
  {
   "cell_type": "markdown",
   "metadata": {},
   "source": [
    "## Problem Statement"
   ]
  },
  {
   "cell_type": "markdown",
   "metadata": {},
   "source": [
    "An education company named X Education sells online courses to industry professionals. The company markets its courses on several websites and search engines like Google. Once these people land on the website, they might browse the courses or fill up a form for the course or watch some videos. When these people fill up a form providing their email address or phone number, they are classified to be a lead. Moreover, the company also gets leads through past referrals. \n",
    "\n",
    "Once these leads are acquired, employees from the sales team start making calls, writing emails, etc. Through this process, some of the leads get converted while most do not. The typical lead conversion rate at X education is around 30%. "
   ]
  },
  {
   "cell_type": "markdown",
   "metadata": {},
   "source": [
    "## Business Goal"
   ]
  },
  {
   "cell_type": "markdown",
   "metadata": {},
   "source": [
    "X Education has appointed you to help them select the most promising leads, i.e. the leads that are most likely to convert into paying customers. \n",
    "\n",
    "The company requires you to build a model wherein you need to assign a lead score to each of the leads such that the customers with higher lead score have a higher conversion chance and the customers with lower lead score have a lower conversion chance. \n",
    "\n",
    "The CEO, in particular, has given a ballpark of the target lead conversion rate to be around 80%."
   ]
  },
  {
   "cell_type": "markdown",
   "metadata": {},
   "source": [
    "## Step 1: Inspecting the Dataframe"
   ]
  },
  {
   "cell_type": "code",
   "execution_count": 1,
   "metadata": {},
   "outputs": [],
   "source": [
    "# Suppressing Warnings\n",
    "\n",
    "import warnings\n",
    "warnings.filterwarnings('ignore')"
   ]
  },
  {
   "cell_type": "code",
   "execution_count": 2,
   "metadata": {},
   "outputs": [],
   "source": [
    "# Importing the required libraries\n",
    "\n",
    "import numpy as np\n",
    "import pandas as pd\n",
    "import matplotlib.pyplot as plt\n",
    "%matplotlib inline\n",
    "import seaborn as sns\n",
    "import statsmodels.api as sm\n",
    "\n",
    "from sklearn.model_selection import train_test_split\n",
    "from sklearn import metrics\n",
    "from statsmodels.stats.outliers_influence import variance_inflation_factor\n",
    "from sklearn.metrics import precision_score, recall_score\n",
    "from sklearn.metrics import precision_recall_curve\n",
    "from sklearn.metrics import classification_report\n",
    "from sklearn.preprocessing import StandardScaler\n",
    "from sklearn.linear_model import LogisticRegression\n",
    "from sklearn.feature_selection import RFE"
   ]
  },
  {
   "cell_type": "code",
   "execution_count": 3,
   "metadata": {},
   "outputs": [
    {
     "data": {
      "text/html": [
       "<div>\n",
       "<style scoped>\n",
       "    .dataframe tbody tr th:only-of-type {\n",
       "        vertical-align: middle;\n",
       "    }\n",
       "\n",
       "    .dataframe tbody tr th {\n",
       "        vertical-align: top;\n",
       "    }\n",
       "\n",
       "    .dataframe thead th {\n",
       "        text-align: right;\n",
       "    }\n",
       "</style>\n",
       "<table border=\"1\" class=\"dataframe\">\n",
       "  <thead>\n",
       "    <tr style=\"text-align: right;\">\n",
       "      <th></th>\n",
       "      <th>Prospect ID</th>\n",
       "      <th>Lead Number</th>\n",
       "      <th>Lead Origin</th>\n",
       "      <th>Lead Source</th>\n",
       "      <th>Do Not Email</th>\n",
       "      <th>Do Not Call</th>\n",
       "      <th>Converted</th>\n",
       "      <th>TotalVisits</th>\n",
       "      <th>Total Time Spent on Website</th>\n",
       "      <th>Page Views Per Visit</th>\n",
       "      <th>...</th>\n",
       "      <th>Get updates on DM Content</th>\n",
       "      <th>Lead Profile</th>\n",
       "      <th>City</th>\n",
       "      <th>Asymmetrique Activity Index</th>\n",
       "      <th>Asymmetrique Profile Index</th>\n",
       "      <th>Asymmetrique Activity Score</th>\n",
       "      <th>Asymmetrique Profile Score</th>\n",
       "      <th>I agree to pay the amount through cheque</th>\n",
       "      <th>A free copy of Mastering The Interview</th>\n",
       "      <th>Last Notable Activity</th>\n",
       "    </tr>\n",
       "  </thead>\n",
       "  <tbody>\n",
       "    <tr>\n",
       "      <th>0</th>\n",
       "      <td>7927b2df-8bba-4d29-b9a2-b6e0beafe620</td>\n",
       "      <td>660737</td>\n",
       "      <td>API</td>\n",
       "      <td>Olark Chat</td>\n",
       "      <td>No</td>\n",
       "      <td>No</td>\n",
       "      <td>0</td>\n",
       "      <td>0.0</td>\n",
       "      <td>0</td>\n",
       "      <td>0.0</td>\n",
       "      <td>...</td>\n",
       "      <td>No</td>\n",
       "      <td>Select</td>\n",
       "      <td>Select</td>\n",
       "      <td>02.Medium</td>\n",
       "      <td>02.Medium</td>\n",
       "      <td>15.0</td>\n",
       "      <td>15.0</td>\n",
       "      <td>No</td>\n",
       "      <td>No</td>\n",
       "      <td>Modified</td>\n",
       "    </tr>\n",
       "    <tr>\n",
       "      <th>1</th>\n",
       "      <td>2a272436-5132-4136-86fa-dcc88c88f482</td>\n",
       "      <td>660728</td>\n",
       "      <td>API</td>\n",
       "      <td>Organic Search</td>\n",
       "      <td>No</td>\n",
       "      <td>No</td>\n",
       "      <td>0</td>\n",
       "      <td>5.0</td>\n",
       "      <td>674</td>\n",
       "      <td>2.5</td>\n",
       "      <td>...</td>\n",
       "      <td>No</td>\n",
       "      <td>Select</td>\n",
       "      <td>Select</td>\n",
       "      <td>02.Medium</td>\n",
       "      <td>02.Medium</td>\n",
       "      <td>15.0</td>\n",
       "      <td>15.0</td>\n",
       "      <td>No</td>\n",
       "      <td>No</td>\n",
       "      <td>Email Opened</td>\n",
       "    </tr>\n",
       "    <tr>\n",
       "      <th>2</th>\n",
       "      <td>8cc8c611-a219-4f35-ad23-fdfd2656bd8a</td>\n",
       "      <td>660727</td>\n",
       "      <td>Landing Page Submission</td>\n",
       "      <td>Direct Traffic</td>\n",
       "      <td>No</td>\n",
       "      <td>No</td>\n",
       "      <td>1</td>\n",
       "      <td>2.0</td>\n",
       "      <td>1532</td>\n",
       "      <td>2.0</td>\n",
       "      <td>...</td>\n",
       "      <td>No</td>\n",
       "      <td>Potential Lead</td>\n",
       "      <td>Mumbai</td>\n",
       "      <td>02.Medium</td>\n",
       "      <td>01.High</td>\n",
       "      <td>14.0</td>\n",
       "      <td>20.0</td>\n",
       "      <td>No</td>\n",
       "      <td>Yes</td>\n",
       "      <td>Email Opened</td>\n",
       "    </tr>\n",
       "    <tr>\n",
       "      <th>3</th>\n",
       "      <td>0cc2df48-7cf4-4e39-9de9-19797f9b38cc</td>\n",
       "      <td>660719</td>\n",
       "      <td>Landing Page Submission</td>\n",
       "      <td>Direct Traffic</td>\n",
       "      <td>No</td>\n",
       "      <td>No</td>\n",
       "      <td>0</td>\n",
       "      <td>1.0</td>\n",
       "      <td>305</td>\n",
       "      <td>1.0</td>\n",
       "      <td>...</td>\n",
       "      <td>No</td>\n",
       "      <td>Select</td>\n",
       "      <td>Mumbai</td>\n",
       "      <td>02.Medium</td>\n",
       "      <td>01.High</td>\n",
       "      <td>13.0</td>\n",
       "      <td>17.0</td>\n",
       "      <td>No</td>\n",
       "      <td>No</td>\n",
       "      <td>Modified</td>\n",
       "    </tr>\n",
       "    <tr>\n",
       "      <th>4</th>\n",
       "      <td>3256f628-e534-4826-9d63-4a8b88782852</td>\n",
       "      <td>660681</td>\n",
       "      <td>Landing Page Submission</td>\n",
       "      <td>Google</td>\n",
       "      <td>No</td>\n",
       "      <td>No</td>\n",
       "      <td>1</td>\n",
       "      <td>2.0</td>\n",
       "      <td>1428</td>\n",
       "      <td>1.0</td>\n",
       "      <td>...</td>\n",
       "      <td>No</td>\n",
       "      <td>Select</td>\n",
       "      <td>Mumbai</td>\n",
       "      <td>02.Medium</td>\n",
       "      <td>01.High</td>\n",
       "      <td>15.0</td>\n",
       "      <td>18.0</td>\n",
       "      <td>No</td>\n",
       "      <td>No</td>\n",
       "      <td>Modified</td>\n",
       "    </tr>\n",
       "  </tbody>\n",
       "</table>\n",
       "<p>5 rows × 37 columns</p>\n",
       "</div>"
      ],
      "text/plain": [
       "                            Prospect ID  Lead Number              Lead Origin  \\\n",
       "0  7927b2df-8bba-4d29-b9a2-b6e0beafe620       660737                      API   \n",
       "1  2a272436-5132-4136-86fa-dcc88c88f482       660728                      API   \n",
       "2  8cc8c611-a219-4f35-ad23-fdfd2656bd8a       660727  Landing Page Submission   \n",
       "3  0cc2df48-7cf4-4e39-9de9-19797f9b38cc       660719  Landing Page Submission   \n",
       "4  3256f628-e534-4826-9d63-4a8b88782852       660681  Landing Page Submission   \n",
       "\n",
       "      Lead Source Do Not Email Do Not Call  Converted  TotalVisits  \\\n",
       "0      Olark Chat           No          No          0          0.0   \n",
       "1  Organic Search           No          No          0          5.0   \n",
       "2  Direct Traffic           No          No          1          2.0   \n",
       "3  Direct Traffic           No          No          0          1.0   \n",
       "4          Google           No          No          1          2.0   \n",
       "\n",
       "   Total Time Spent on Website  Page Views Per Visit  ...  \\\n",
       "0                            0                   0.0  ...   \n",
       "1                          674                   2.5  ...   \n",
       "2                         1532                   2.0  ...   \n",
       "3                          305                   1.0  ...   \n",
       "4                         1428                   1.0  ...   \n",
       "\n",
       "  Get updates on DM Content    Lead Profile    City  \\\n",
       "0                        No          Select  Select   \n",
       "1                        No          Select  Select   \n",
       "2                        No  Potential Lead  Mumbai   \n",
       "3                        No          Select  Mumbai   \n",
       "4                        No          Select  Mumbai   \n",
       "\n",
       "  Asymmetrique Activity Index Asymmetrique Profile Index  \\\n",
       "0                   02.Medium                  02.Medium   \n",
       "1                   02.Medium                  02.Medium   \n",
       "2                   02.Medium                    01.High   \n",
       "3                   02.Medium                    01.High   \n",
       "4                   02.Medium                    01.High   \n",
       "\n",
       "  Asymmetrique Activity Score Asymmetrique Profile Score  \\\n",
       "0                        15.0                       15.0   \n",
       "1                        15.0                       15.0   \n",
       "2                        14.0                       20.0   \n",
       "3                        13.0                       17.0   \n",
       "4                        15.0                       18.0   \n",
       "\n",
       "  I agree to pay the amount through cheque  \\\n",
       "0                                       No   \n",
       "1                                       No   \n",
       "2                                       No   \n",
       "3                                       No   \n",
       "4                                       No   \n",
       "\n",
       "  A free copy of Mastering The Interview Last Notable Activity  \n",
       "0                                     No              Modified  \n",
       "1                                     No          Email Opened  \n",
       "2                                    Yes          Email Opened  \n",
       "3                                     No              Modified  \n",
       "4                                     No              Modified  \n",
       "\n",
       "[5 rows x 37 columns]"
      ]
     },
     "execution_count": 3,
     "metadata": {},
     "output_type": "execute_result"
    }
   ],
   "source": [
    "# Importing the Leads.csv dataset\n",
    "\n",
    "leads = pd.read_csv('Leads.csv')\n",
    "\n",
    "# Checking the data top 5 records.\n",
    "leads.head()"
   ]
  },
  {
   "cell_type": "code",
   "execution_count": 4,
   "metadata": {},
   "outputs": [
    {
     "data": {
      "text/plain": [
       "(9240, 37)"
      ]
     },
     "execution_count": 4,
     "metadata": {},
     "output_type": "execute_result"
    }
   ],
   "source": [
    "# Checking total rows and columns count\n",
    "leads.shape"
   ]
  },
  {
   "cell_type": "code",
   "execution_count": 5,
   "metadata": {},
   "outputs": [
    {
     "name": "stdout",
     "output_type": "stream",
     "text": [
      "<class 'pandas.core.frame.DataFrame'>\n",
      "RangeIndex: 9240 entries, 0 to 9239\n",
      "Data columns (total 37 columns):\n",
      " #   Column                                         Non-Null Count  Dtype  \n",
      "---  ------                                         --------------  -----  \n",
      " 0   Prospect ID                                    9240 non-null   object \n",
      " 1   Lead Number                                    9240 non-null   int64  \n",
      " 2   Lead Origin                                    9240 non-null   object \n",
      " 3   Lead Source                                    9204 non-null   object \n",
      " 4   Do Not Email                                   9240 non-null   object \n",
      " 5   Do Not Call                                    9240 non-null   object \n",
      " 6   Converted                                      9240 non-null   int64  \n",
      " 7   TotalVisits                                    9103 non-null   float64\n",
      " 8   Total Time Spent on Website                    9240 non-null   int64  \n",
      " 9   Page Views Per Visit                           9103 non-null   float64\n",
      " 10  Last Activity                                  9137 non-null   object \n",
      " 11  Country                                        6779 non-null   object \n",
      " 12  Specialization                                 7802 non-null   object \n",
      " 13  How did you hear about X Education             7033 non-null   object \n",
      " 14  What is your current occupation                6550 non-null   object \n",
      " 15  What matters most to you in choosing a course  6531 non-null   object \n",
      " 16  Search                                         9240 non-null   object \n",
      " 17  Magazine                                       9240 non-null   object \n",
      " 18  Newspaper Article                              9240 non-null   object \n",
      " 19  X Education Forums                             9240 non-null   object \n",
      " 20  Newspaper                                      9240 non-null   object \n",
      " 21  Digital Advertisement                          9240 non-null   object \n",
      " 22  Through Recommendations                        9240 non-null   object \n",
      " 23  Receive More Updates About Our Courses         9240 non-null   object \n",
      " 24  Tags                                           5887 non-null   object \n",
      " 25  Lead Quality                                   4473 non-null   object \n",
      " 26  Update me on Supply Chain Content              9240 non-null   object \n",
      " 27  Get updates on DM Content                      9240 non-null   object \n",
      " 28  Lead Profile                                   6531 non-null   object \n",
      " 29  City                                           7820 non-null   object \n",
      " 30  Asymmetrique Activity Index                    5022 non-null   object \n",
      " 31  Asymmetrique Profile Index                     5022 non-null   object \n",
      " 32  Asymmetrique Activity Score                    5022 non-null   float64\n",
      " 33  Asymmetrique Profile Score                     5022 non-null   float64\n",
      " 34  I agree to pay the amount through cheque       9240 non-null   object \n",
      " 35  A free copy of Mastering The Interview         9240 non-null   object \n",
      " 36  Last Notable Activity                          9240 non-null   object \n",
      "dtypes: float64(4), int64(3), object(30)\n",
      "memory usage: 2.6+ MB\n"
     ]
    }
   ],
   "source": [
    "# Checking info on dataframe.\n",
    "leads.info()"
   ]
  },
  {
   "cell_type": "code",
   "execution_count": 6,
   "metadata": {},
   "outputs": [
    {
     "data": {
      "text/html": [
       "<div>\n",
       "<style scoped>\n",
       "    .dataframe tbody tr th:only-of-type {\n",
       "        vertical-align: middle;\n",
       "    }\n",
       "\n",
       "    .dataframe tbody tr th {\n",
       "        vertical-align: top;\n",
       "    }\n",
       "\n",
       "    .dataframe thead th {\n",
       "        text-align: right;\n",
       "    }\n",
       "</style>\n",
       "<table border=\"1\" class=\"dataframe\">\n",
       "  <thead>\n",
       "    <tr style=\"text-align: right;\">\n",
       "      <th></th>\n",
       "      <th>Lead Number</th>\n",
       "      <th>Converted</th>\n",
       "      <th>TotalVisits</th>\n",
       "      <th>Total Time Spent on Website</th>\n",
       "      <th>Page Views Per Visit</th>\n",
       "      <th>Asymmetrique Activity Score</th>\n",
       "      <th>Asymmetrique Profile Score</th>\n",
       "    </tr>\n",
       "  </thead>\n",
       "  <tbody>\n",
       "    <tr>\n",
       "      <th>count</th>\n",
       "      <td>9240.000000</td>\n",
       "      <td>9240.000000</td>\n",
       "      <td>9103.000000</td>\n",
       "      <td>9240.000000</td>\n",
       "      <td>9103.000000</td>\n",
       "      <td>5022.000000</td>\n",
       "      <td>5022.000000</td>\n",
       "    </tr>\n",
       "    <tr>\n",
       "      <th>mean</th>\n",
       "      <td>617188.435606</td>\n",
       "      <td>0.385390</td>\n",
       "      <td>3.445238</td>\n",
       "      <td>487.698268</td>\n",
       "      <td>2.362820</td>\n",
       "      <td>14.306252</td>\n",
       "      <td>16.344883</td>\n",
       "    </tr>\n",
       "    <tr>\n",
       "      <th>std</th>\n",
       "      <td>23405.995698</td>\n",
       "      <td>0.486714</td>\n",
       "      <td>4.854853</td>\n",
       "      <td>548.021466</td>\n",
       "      <td>2.161418</td>\n",
       "      <td>1.386694</td>\n",
       "      <td>1.811395</td>\n",
       "    </tr>\n",
       "    <tr>\n",
       "      <th>min</th>\n",
       "      <td>579533.000000</td>\n",
       "      <td>0.000000</td>\n",
       "      <td>0.000000</td>\n",
       "      <td>0.000000</td>\n",
       "      <td>0.000000</td>\n",
       "      <td>7.000000</td>\n",
       "      <td>11.000000</td>\n",
       "    </tr>\n",
       "    <tr>\n",
       "      <th>25%</th>\n",
       "      <td>596484.500000</td>\n",
       "      <td>0.000000</td>\n",
       "      <td>1.000000</td>\n",
       "      <td>12.000000</td>\n",
       "      <td>1.000000</td>\n",
       "      <td>14.000000</td>\n",
       "      <td>15.000000</td>\n",
       "    </tr>\n",
       "    <tr>\n",
       "      <th>50%</th>\n",
       "      <td>615479.000000</td>\n",
       "      <td>0.000000</td>\n",
       "      <td>3.000000</td>\n",
       "      <td>248.000000</td>\n",
       "      <td>2.000000</td>\n",
       "      <td>14.000000</td>\n",
       "      <td>16.000000</td>\n",
       "    </tr>\n",
       "    <tr>\n",
       "      <th>75%</th>\n",
       "      <td>637387.250000</td>\n",
       "      <td>1.000000</td>\n",
       "      <td>5.000000</td>\n",
       "      <td>936.000000</td>\n",
       "      <td>3.000000</td>\n",
       "      <td>15.000000</td>\n",
       "      <td>18.000000</td>\n",
       "    </tr>\n",
       "    <tr>\n",
       "      <th>max</th>\n",
       "      <td>660737.000000</td>\n",
       "      <td>1.000000</td>\n",
       "      <td>251.000000</td>\n",
       "      <td>2272.000000</td>\n",
       "      <td>55.000000</td>\n",
       "      <td>18.000000</td>\n",
       "      <td>20.000000</td>\n",
       "    </tr>\n",
       "  </tbody>\n",
       "</table>\n",
       "</div>"
      ],
      "text/plain": [
       "         Lead Number    Converted  TotalVisits  Total Time Spent on Website  \\\n",
       "count    9240.000000  9240.000000  9103.000000                  9240.000000   \n",
       "mean   617188.435606     0.385390     3.445238                   487.698268   \n",
       "std     23405.995698     0.486714     4.854853                   548.021466   \n",
       "min    579533.000000     0.000000     0.000000                     0.000000   \n",
       "25%    596484.500000     0.000000     1.000000                    12.000000   \n",
       "50%    615479.000000     0.000000     3.000000                   248.000000   \n",
       "75%    637387.250000     1.000000     5.000000                   936.000000   \n",
       "max    660737.000000     1.000000   251.000000                  2272.000000   \n",
       "\n",
       "       Page Views Per Visit  Asymmetrique Activity Score  \\\n",
       "count           9103.000000                  5022.000000   \n",
       "mean               2.362820                    14.306252   \n",
       "std                2.161418                     1.386694   \n",
       "min                0.000000                     7.000000   \n",
       "25%                1.000000                    14.000000   \n",
       "50%                2.000000                    14.000000   \n",
       "75%                3.000000                    15.000000   \n",
       "max               55.000000                    18.000000   \n",
       "\n",
       "       Asymmetrique Profile Score  \n",
       "count                 5022.000000  \n",
       "mean                    16.344883  \n",
       "std                      1.811395  \n",
       "min                     11.000000  \n",
       "25%                     15.000000  \n",
       "50%                     16.000000  \n",
       "75%                     18.000000  \n",
       "max                     20.000000  "
      ]
     },
     "execution_count": 6,
     "metadata": {},
     "output_type": "execute_result"
    }
   ],
   "source": [
    "leads.describe()"
   ]
  },
  {
   "cell_type": "markdown",
   "metadata": {},
   "source": [
    "## Step 2: Data Preparation"
   ]
  },
  {
   "cell_type": "markdown",
   "metadata": {},
   "source": [
    "### 2.1 Checking for duplicate data and remediation"
   ]
  },
  {
   "cell_type": "code",
   "execution_count": 7,
   "metadata": {},
   "outputs": [
    {
     "data": {
      "text/html": [
       "<div>\n",
       "<style scoped>\n",
       "    .dataframe tbody tr th:only-of-type {\n",
       "        vertical-align: middle;\n",
       "    }\n",
       "\n",
       "    .dataframe tbody tr th {\n",
       "        vertical-align: top;\n",
       "    }\n",
       "\n",
       "    .dataframe thead th {\n",
       "        text-align: right;\n",
       "    }\n",
       "</style>\n",
       "<table border=\"1\" class=\"dataframe\">\n",
       "  <thead>\n",
       "    <tr style=\"text-align: right;\">\n",
       "      <th></th>\n",
       "      <th>Prospect ID</th>\n",
       "      <th>Lead Number</th>\n",
       "      <th>Lead Origin</th>\n",
       "      <th>Lead Source</th>\n",
       "      <th>Do Not Email</th>\n",
       "      <th>Do Not Call</th>\n",
       "      <th>Converted</th>\n",
       "      <th>TotalVisits</th>\n",
       "      <th>Total Time Spent on Website</th>\n",
       "      <th>Page Views Per Visit</th>\n",
       "      <th>...</th>\n",
       "      <th>Get updates on DM Content</th>\n",
       "      <th>Lead Profile</th>\n",
       "      <th>City</th>\n",
       "      <th>Asymmetrique Activity Index</th>\n",
       "      <th>Asymmetrique Profile Index</th>\n",
       "      <th>Asymmetrique Activity Score</th>\n",
       "      <th>Asymmetrique Profile Score</th>\n",
       "      <th>I agree to pay the amount through cheque</th>\n",
       "      <th>A free copy of Mastering The Interview</th>\n",
       "      <th>Last Notable Activity</th>\n",
       "    </tr>\n",
       "  </thead>\n",
       "  <tbody>\n",
       "  </tbody>\n",
       "</table>\n",
       "<p>0 rows × 37 columns</p>\n",
       "</div>"
      ],
      "text/plain": [
       "Empty DataFrame\n",
       "Columns: [Prospect ID, Lead Number, Lead Origin, Lead Source, Do Not Email, Do Not Call, Converted, TotalVisits, Total Time Spent on Website, Page Views Per Visit, Last Activity, Country, Specialization, How did you hear about X Education, What is your current occupation, What matters most to you in choosing a course, Search, Magazine, Newspaper Article, X Education Forums, Newspaper, Digital Advertisement, Through Recommendations, Receive More Updates About Our Courses, Tags, Lead Quality, Update me on Supply Chain Content, Get updates on DM Content, Lead Profile, City, Asymmetrique Activity Index, Asymmetrique Profile Index, Asymmetrique Activity Score, Asymmetrique Profile Score, I agree to pay the amount through cheque, A free copy of Mastering The Interview, Last Notable Activity]\n",
       "Index: []\n",
       "\n",
       "[0 rows x 37 columns]"
      ]
     },
     "execution_count": 7,
     "metadata": {},
     "output_type": "execute_result"
    }
   ],
   "source": [
    "# Check for duplicate data in the dataset\n",
    "\n",
    "leads[leads.duplicated(keep=False)]"
   ]
  },
  {
   "cell_type": "markdown",
   "metadata": {},
   "source": [
    "_**There are no Duplicate values in the dataset**_"
   ]
  },
  {
   "cell_type": "code",
   "execution_count": 8,
   "metadata": {},
   "outputs": [],
   "source": [
    "# Replacing 'Select' values in the dataset as missing values\n",
    "\n",
    "leads = leads.replace('Select', np.nan)"
   ]
  },
  {
   "cell_type": "markdown",
   "metadata": {},
   "source": [
    "### 2.2 Check for missing (NaN) values in the dataset and its remediation"
   ]
  },
  {
   "cell_type": "code",
   "execution_count": 9,
   "metadata": {},
   "outputs": [
    {
     "data": {
      "text/plain": [
       "Prospect ID                                       0.00\n",
       "Lead Number                                       0.00\n",
       "Lead Origin                                       0.00\n",
       "Lead Source                                       0.39\n",
       "Do Not Email                                      0.00\n",
       "Do Not Call                                       0.00\n",
       "Converted                                         0.00\n",
       "TotalVisits                                       1.48\n",
       "Total Time Spent on Website                       0.00\n",
       "Page Views Per Visit                              1.48\n",
       "Last Activity                                     1.11\n",
       "Country                                          26.63\n",
       "Specialization                                   36.58\n",
       "How did you hear about X Education               78.46\n",
       "What is your current occupation                  29.11\n",
       "What matters most to you in choosing a course    29.32\n",
       "Search                                            0.00\n",
       "Magazine                                          0.00\n",
       "Newspaper Article                                 0.00\n",
       "X Education Forums                                0.00\n",
       "Newspaper                                         0.00\n",
       "Digital Advertisement                             0.00\n",
       "Through Recommendations                           0.00\n",
       "Receive More Updates About Our Courses            0.00\n",
       "Tags                                             36.29\n",
       "Lead Quality                                     51.59\n",
       "Update me on Supply Chain Content                 0.00\n",
       "Get updates on DM Content                         0.00\n",
       "Lead Profile                                     74.19\n",
       "City                                             39.71\n",
       "Asymmetrique Activity Index                      45.65\n",
       "Asymmetrique Profile Index                       45.65\n",
       "Asymmetrique Activity Score                      45.65\n",
       "Asymmetrique Profile Score                       45.65\n",
       "I agree to pay the amount through cheque          0.00\n",
       "A free copy of Mastering The Interview            0.00\n",
       "Last Notable Activity                             0.00\n",
       "dtype: float64"
      ]
     },
     "execution_count": 9,
     "metadata": {},
     "output_type": "execute_result"
    }
   ],
   "source": [
    "# Percentage of missing values for each variables\n",
    "\n",
    "round(100*(leads.isnull().sum()/len(leads.index)),2)"
   ]
  },
  {
   "cell_type": "markdown",
   "metadata": {},
   "source": [
    "### Missing Values Treatment"
   ]
  },
  {
   "cell_type": "markdown",
   "metadata": {},
   "source": [
    "### 2.2.1 Drop out the variables having more than 40% of missing values"
   ]
  },
  {
   "cell_type": "code",
   "execution_count": 10,
   "metadata": {},
   "outputs": [
    {
     "data": {
      "text/plain": [
       "Prospect ID                                       0.00\n",
       "Lead Number                                       0.00\n",
       "Lead Origin                                       0.00\n",
       "Lead Source                                       0.39\n",
       "Do Not Email                                      0.00\n",
       "Do Not Call                                       0.00\n",
       "Converted                                         0.00\n",
       "TotalVisits                                       1.48\n",
       "Total Time Spent on Website                       0.00\n",
       "Page Views Per Visit                              1.48\n",
       "Last Activity                                     1.11\n",
       "Country                                          26.63\n",
       "Specialization                                   36.58\n",
       "What is your current occupation                  29.11\n",
       "What matters most to you in choosing a course    29.32\n",
       "Search                                            0.00\n",
       "Magazine                                          0.00\n",
       "Newspaper Article                                 0.00\n",
       "X Education Forums                                0.00\n",
       "Newspaper                                         0.00\n",
       "Digital Advertisement                             0.00\n",
       "Through Recommendations                           0.00\n",
       "Receive More Updates About Our Courses            0.00\n",
       "Tags                                             36.29\n",
       "Update me on Supply Chain Content                 0.00\n",
       "Get updates on DM Content                         0.00\n",
       "City                                             39.71\n",
       "I agree to pay the amount through cheque          0.00\n",
       "A free copy of Mastering The Interview            0.00\n",
       "Last Notable Activity                             0.00\n",
       "dtype: float64"
      ]
     },
     "execution_count": 10,
     "metadata": {},
     "output_type": "execute_result"
    }
   ],
   "source": [
    "cols = leads.columns\n",
    "\n",
    "for i in cols:\n",
    "    if round(100*(leads[i].isnull().sum()/len(leads.index)),2) >= 40:\n",
    "        leads.drop(i, axis=1, inplace=True)\n",
    "\n",
    "# Checking Percentage of missing values again\n",
    "\n",
    "round(100*(leads.isnull().sum()/len(leads.index)),2)"
   ]
  },
  {
   "cell_type": "markdown",
   "metadata": {},
   "source": [
    "### 2.2.2 Checking for each variables one by one having less than 40% of missing values"
   ]
  },
  {
   "cell_type": "code",
   "execution_count": 11,
   "metadata": {},
   "outputs": [
    {
     "data": {
      "text/plain": [
       "India                   6492\n",
       "NaN                     2461\n",
       "United States             69\n",
       "United Arab Emirates      53\n",
       "Singapore                 24\n",
       "Saudi Arabia              21\n",
       "United Kingdom            15\n",
       "Australia                 13\n",
       "Qatar                     10\n",
       "Bahrain                    7\n",
       "Hong Kong                  7\n",
       "Oman                       6\n",
       "France                     6\n",
       "unknown                    5\n",
       "Nigeria                    4\n",
       "Canada                     4\n",
       "South Africa               4\n",
       "Kuwait                     4\n",
       "Germany                    4\n",
       "Sweden                     3\n",
       "Netherlands                2\n",
       "Ghana                      2\n",
       "Belgium                    2\n",
       "Asia/Pacific Region        2\n",
       "Bangladesh                 2\n",
       "Uganda                     2\n",
       "Italy                      2\n",
       "China                      2\n",
       "Philippines                2\n",
       "Sri Lanka                  1\n",
       "Denmark                    1\n",
       "Kenya                      1\n",
       "Tanzania                   1\n",
       "Indonesia                  1\n",
       "Liberia                    1\n",
       "Malaysia                   1\n",
       "Vietnam                    1\n",
       "Switzerland                1\n",
       "Russia                     1\n",
       "Name: Country, dtype: int64"
      ]
     },
     "execution_count": 11,
     "metadata": {},
     "output_type": "execute_result"
    }
   ],
   "source": [
    "# Checking value counts for the Country column \n",
    "\n",
    "leads['Country'].value_counts(dropna=False)"
   ]
  },
  {
   "cell_type": "code",
   "execution_count": 12,
   "metadata": {},
   "outputs": [
    {
     "data": {
      "text/plain": [
       "70.26"
      ]
     },
     "execution_count": 12,
     "metadata": {},
     "output_type": "execute_result"
    }
   ],
   "source": [
    "# Checking percentage of 'India' in the Country column\n",
    "round(100*(sum(leads['Country']=='India')/len(leads.index)),2)"
   ]
  },
  {
   "cell_type": "code",
   "execution_count": 13,
   "metadata": {},
   "outputs": [],
   "source": [
    "# Imputing the missing values in the Country column with 'India'\n",
    "leads['Country'] = leads['Country'].replace(np.nan,'India')"
   ]
  },
  {
   "cell_type": "code",
   "execution_count": 14,
   "metadata": {},
   "outputs": [
    {
     "data": {
      "text/plain": [
       "96.89"
      ]
     },
     "execution_count": 14,
     "metadata": {},
     "output_type": "execute_result"
    }
   ],
   "source": [
    "# Checking percentage of 'India' in the Country column again\n",
    "round(100*(sum(leads['Country']=='India')/len(leads.index)),2)"
   ]
  },
  {
   "cell_type": "code",
   "execution_count": 15,
   "metadata": {},
   "outputs": [],
   "source": [
    "# As 'India' constitutes nearly 97% of the values in the Country column after imputation, this column can be dropped from our analysis.\n",
    "\n",
    "leads.drop(['Country'], axis=1, inplace=True)"
   ]
  },
  {
   "cell_type": "code",
   "execution_count": 16,
   "metadata": {},
   "outputs": [
    {
     "data": {
      "text/plain": [
       "NaN                                  3380\n",
       "Finance Management                    976\n",
       "Human Resource Management             848\n",
       "Marketing Management                  838\n",
       "Operations Management                 503\n",
       "Business Administration               403\n",
       "IT Projects Management                366\n",
       "Supply Chain Management               349\n",
       "Banking, Investment And Insurance     338\n",
       "Media and Advertising                 203\n",
       "Travel and Tourism                    203\n",
       "International Business                178\n",
       "Healthcare Management                 159\n",
       "Hospitality Management                114\n",
       "E-COMMERCE                            112\n",
       "Retail Management                     100\n",
       "Rural and Agribusiness                 73\n",
       "E-Business                             57\n",
       "Services Excellence                    40\n",
       "Name: Specialization, dtype: int64"
      ]
     },
     "execution_count": 16,
     "metadata": {},
     "output_type": "execute_result"
    }
   ],
   "source": [
    "# Checking value counts for the Specialization column \n",
    "\n",
    "leads['Specialization'].value_counts(dropna=False)"
   ]
  },
  {
   "cell_type": "code",
   "execution_count": 17,
   "metadata": {},
   "outputs": [],
   "source": [
    "# The missing values here could be due to the customers being students\n",
    "# Therefore, replacing missing values as 'Not Mentioned'\n",
    "\n",
    "leads['Specialization'] = leads['Specialization'].replace(np.nan,'Not Mentioned')"
   ]
  },
  {
   "cell_type": "code",
   "execution_count": 18,
   "metadata": {},
   "outputs": [
    {
     "data": {
      "text/plain": [
       "Unemployed              5600\n",
       "NaN                     2690\n",
       "Working Professional     706\n",
       "Student                  210\n",
       "Other                     16\n",
       "Housewife                 10\n",
       "Businessman                8\n",
       "Name: What is your current occupation, dtype: int64"
      ]
     },
     "execution_count": 18,
     "metadata": {},
     "output_type": "execute_result"
    }
   ],
   "source": [
    "# Checking value counts for the 'What is your current occupation' column \n",
    "\n",
    "leads['What is your current occupation'].value_counts(dropna=False)"
   ]
  },
  {
   "cell_type": "code",
   "execution_count": 19,
   "metadata": {},
   "outputs": [
    {
     "data": {
      "text/plain": [
       "60.61"
      ]
     },
     "execution_count": 19,
     "metadata": {},
     "output_type": "execute_result"
    }
   ],
   "source": [
    "# Checking percentage of 'Unemployed' in the 'What is your current occupation' column\n",
    "round(100*(sum(leads['What is your current occupation']=='Unemployed')/len(leads.index)),2)"
   ]
  },
  {
   "cell_type": "code",
   "execution_count": 20,
   "metadata": {},
   "outputs": [],
   "source": [
    "# Imputing the missing values with 'Unemployed'\n",
    "\n",
    "leads['What is your current occupation'] = leads['What is your current occupation'].replace(np.nan,'Unemployed')"
   ]
  },
  {
   "cell_type": "code",
   "execution_count": 21,
   "metadata": {},
   "outputs": [
    {
     "data": {
      "text/plain": [
       "89.72"
      ]
     },
     "execution_count": 21,
     "metadata": {},
     "output_type": "execute_result"
    }
   ],
   "source": [
    "# Checking percentage of 'Unemployed' again\n",
    "round(100*(sum(leads['What is your current occupation']=='Unemployed')/len(leads.index)),2)"
   ]
  },
  {
   "cell_type": "code",
   "execution_count": 22,
   "metadata": {},
   "outputs": [
    {
     "data": {
      "text/plain": [
       "Better Career Prospects      6528\n",
       "NaN                          2709\n",
       "Flexibility & Convenience       2\n",
       "Other                           1\n",
       "Name: What matters most to you in choosing a course, dtype: int64"
      ]
     },
     "execution_count": 22,
     "metadata": {},
     "output_type": "execute_result"
    }
   ],
   "source": [
    "# Checking value counts for the 'What matters most to you in choosing a course' column \n",
    "\n",
    "leads['What matters most to you in choosing a course'].value_counts(dropna=False)"
   ]
  },
  {
   "cell_type": "code",
   "execution_count": 23,
   "metadata": {},
   "outputs": [],
   "source": [
    "# Imputing the missing values with 'Better Career Prospects'\n",
    "\n",
    "leads['What matters most to you in choosing a course'] = leads['What matters most to you in choosing a course'].replace(np.nan,'Better Career Prospects')"
   ]
  },
  {
   "cell_type": "code",
   "execution_count": 24,
   "metadata": {},
   "outputs": [
    {
     "data": {
      "text/plain": [
       "99.97"
      ]
     },
     "execution_count": 24,
     "metadata": {},
     "output_type": "execute_result"
    }
   ],
   "source": [
    "# Checking percentage of 'Better Career Prospects' in 'What matters most to you in choosing a course' column\n",
    "round(100*(sum(leads['What matters most to you in choosing a course']=='Better Career Prospects')/len(leads.index)),2)"
   ]
  },
  {
   "cell_type": "code",
   "execution_count": 25,
   "metadata": {},
   "outputs": [],
   "source": [
    "# As 'Better Career Prospects' constitutes 99.97% of the values, this column can be dropped from our analysis.\n",
    "\n",
    "leads.drop(['What matters most to you in choosing a course'], axis=1, inplace=True)"
   ]
  },
  {
   "cell_type": "code",
   "execution_count": 26,
   "metadata": {},
   "outputs": [
    {
     "data": {
      "text/plain": [
       "NaN                                                  3353\n",
       "Will revert after reading the email                  2072\n",
       "Ringing                                              1203\n",
       "Interested in other courses                           513\n",
       "Already a student                                     465\n",
       "Closed by Horizzon                                    358\n",
       "switched off                                          240\n",
       "Busy                                                  186\n",
       "Lost to EINS                                          175\n",
       "Not doing further education                           145\n",
       "Interested  in full time MBA                          117\n",
       "Graduation in progress                                111\n",
       "invalid number                                         83\n",
       "Diploma holder (Not Eligible)                          63\n",
       "wrong number given                                     47\n",
       "opp hangup                                             33\n",
       "number not provided                                    27\n",
       "in touch with EINS                                     12\n",
       "Lost to Others                                          7\n",
       "Want to take admission but has financial problems       6\n",
       "Still Thinking                                          6\n",
       "In confusion whether part time or DLP                   5\n",
       "Interested in Next batch                                5\n",
       "Lateral student                                         3\n",
       "University not recognized                               2\n",
       "Shall take in the next coming month                     2\n",
       "Recognition issue (DEC approval)                        1\n",
       "Name: Tags, dtype: int64"
      ]
     },
     "execution_count": 26,
     "metadata": {},
     "output_type": "execute_result"
    }
   ],
   "source": [
    "# Checking value counts for the 'Tags' column \n",
    "\n",
    "leads['Tags'].value_counts(dropna=False)"
   ]
  },
  {
   "cell_type": "code",
   "execution_count": 27,
   "metadata": {},
   "outputs": [],
   "source": [
    "# Replacing missing values as 'Not Mentioned'\n",
    "\n",
    "leads['Tags'] = leads['Tags'].replace(np.nan,'Not Mentioned')"
   ]
  },
  {
   "cell_type": "code",
   "execution_count": 28,
   "metadata": {},
   "outputs": [],
   "source": [
    "# Grouping together low frequency categories as 'Other_Tags' \n",
    "\n",
    "leads['Tags'] = leads['Tags'].replace(['switched off','Busy','Lost to EINS','Not doing further education','Interested  in full time MBA','Graduation in progress','invalid number','Diploma holder (Not Eligible)','wrong number given','opp hangup','number not provided','in touch with EINS','Lost to Others','Still Thinking','Want to take admission but has financial problems','In confusion whether part time or DLP','Interested in Next batch','Lateral student','University not recognized','Shall take in the next coming month','Recognition issue (DEC approval)'],'Other_Tags')"
   ]
  },
  {
   "cell_type": "code",
   "execution_count": 29,
   "metadata": {},
   "outputs": [
    {
     "data": {
      "text/plain": [
       "NaN                            3669\n",
       "Mumbai                         3222\n",
       "Thane & Outskirts               752\n",
       "Other Cities                    686\n",
       "Other Cities of Maharashtra     457\n",
       "Other Metro Cities              380\n",
       "Tier II Cities                   74\n",
       "Name: City, dtype: int64"
      ]
     },
     "execution_count": 29,
     "metadata": {},
     "output_type": "execute_result"
    }
   ],
   "source": [
    "# Checking value counts for the 'City' column \n",
    "\n",
    "leads['City'].value_counts(dropna=False)"
   ]
  },
  {
   "cell_type": "code",
   "execution_count": 30,
   "metadata": {},
   "outputs": [
    {
     "data": {
      "text/plain": [
       "34.87"
      ]
     },
     "execution_count": 30,
     "metadata": {},
     "output_type": "execute_result"
    }
   ],
   "source": [
    "# Checking percentage of 'Mumbai' in City column\n",
    "round(100*(sum(leads['City']=='Mumbai')/len(leads.index)),2)"
   ]
  },
  {
   "cell_type": "code",
   "execution_count": 31,
   "metadata": {},
   "outputs": [],
   "source": [
    "# Imputing missing values as 'Mumbai'\n",
    "\n",
    "leads['City'] = leads['City'].replace(np.nan,'Mumbai')"
   ]
  },
  {
   "cell_type": "code",
   "execution_count": 32,
   "metadata": {},
   "outputs": [
    {
     "data": {
      "text/plain": [
       "Google               2868\n",
       "Direct Traffic       2543\n",
       "Olark Chat           1755\n",
       "Organic Search       1154\n",
       "Reference             534\n",
       "Welingak Website      142\n",
       "Referral Sites        125\n",
       "Facebook               55\n",
       "NaN                    36\n",
       "bing                    6\n",
       "google                  5\n",
       "Click2call              4\n",
       "Live Chat               2\n",
       "Social Media            2\n",
       "Press_Release           2\n",
       "NC_EDM                  1\n",
       "welearnblog_Home        1\n",
       "youtubechannel          1\n",
       "WeLearn                 1\n",
       "testone                 1\n",
       "blog                    1\n",
       "Pay per Click Ads       1\n",
       "Name: Lead Source, dtype: int64"
      ]
     },
     "execution_count": 32,
     "metadata": {},
     "output_type": "execute_result"
    }
   ],
   "source": [
    "# Checking value counts for the 'Lead Source' column \n",
    "\n",
    "leads['Lead Source'].value_counts(dropna=False)"
   ]
  },
  {
   "cell_type": "code",
   "execution_count": 33,
   "metadata": {},
   "outputs": [],
   "source": [
    "# Here 'Google'/'google' appears in two different cases. Therefore converting all values to uppercase 'Google'\n",
    "# Also Imputing missing values with 'Google'\n",
    "\n",
    "leads['Lead Source'] = leads['Lead Source'].replace('google','Google')\n",
    "leads['Lead Source'] = leads['Lead Source'].replace(np.nan,'Google')"
   ]
  },
  {
   "cell_type": "code",
   "execution_count": 34,
   "metadata": {},
   "outputs": [
    {
     "data": {
      "text/plain": [
       "31.48"
      ]
     },
     "execution_count": 34,
     "metadata": {},
     "output_type": "execute_result"
    }
   ],
   "source": [
    "# Checking percentage of 'Google' in 'Lead Source' column\n",
    "round(100*(sum(leads['Lead Source']=='Google')/len(leads.index)),2)"
   ]
  },
  {
   "cell_type": "code",
   "execution_count": 35,
   "metadata": {},
   "outputs": [],
   "source": [
    "# Grouping the categories 'Facebook' and 'Social Media' together as 'Social Media'\n",
    "# Grouping together low frequency categories as 'Other_Sources'  \n",
    "\n",
    "leads['Lead Source'] = leads['Lead Source'].replace(['Facebook','Social Media'],'Social Media')\n",
    "leads['Lead Source'] = leads['Lead Source'].replace(['bing','Click2call','Live Chat','Press_Release','WeLearn','testone','NC_EDM','blog','youtubechannel','welearnblog_Home','Pay per Click Ads'],'Other_Sources')"
   ]
  },
  {
   "cell_type": "code",
   "execution_count": 36,
   "metadata": {},
   "outputs": [
    {
     "data": {
      "text/plain": [
       "0.0      2189\n",
       "2.0      1680\n",
       "3.0      1306\n",
       "4.0      1120\n",
       "5.0       783\n",
       "6.0       466\n",
       "1.0       395\n",
       "7.0       309\n",
       "8.0       224\n",
       "9.0       164\n",
       "NaN       137\n",
       "10.0      114\n",
       "11.0       86\n",
       "13.0       48\n",
       "12.0       45\n",
       "14.0       36\n",
       "16.0       21\n",
       "15.0       18\n",
       "17.0       16\n",
       "18.0       15\n",
       "20.0       12\n",
       "19.0        9\n",
       "21.0        6\n",
       "23.0        6\n",
       "27.0        5\n",
       "25.0        5\n",
       "24.0        5\n",
       "22.0        3\n",
       "26.0        2\n",
       "29.0        2\n",
       "28.0        2\n",
       "115.0       1\n",
       "54.0        1\n",
       "43.0        1\n",
       "30.0        1\n",
       "32.0        1\n",
       "74.0        1\n",
       "251.0       1\n",
       "41.0        1\n",
       "141.0       1\n",
       "42.0        1\n",
       "55.0        1\n",
       "Name: TotalVisits, dtype: int64"
      ]
     },
     "execution_count": 36,
     "metadata": {},
     "output_type": "execute_result"
    }
   ],
   "source": [
    "# Checking value counts for the 'TotalVisits' column \n",
    "\n",
    "leads['TotalVisits'].value_counts(dropna=False)"
   ]
  },
  {
   "cell_type": "code",
   "execution_count": 37,
   "metadata": {},
   "outputs": [
    {
     "data": {
      "text/plain": [
       "3.0"
      ]
     },
     "execution_count": 37,
     "metadata": {},
     "output_type": "execute_result"
    }
   ],
   "source": [
    "# Median of 'TotalVisits' column\n",
    "\n",
    "leads['TotalVisits'].median()"
   ]
  },
  {
   "cell_type": "code",
   "execution_count": 38,
   "metadata": {},
   "outputs": [],
   "source": [
    "# Imputing missing values with the median value of '3.0'\n",
    "leads['TotalVisits'] = leads['TotalVisits'].replace(np.nan, leads['TotalVisits'].median())"
   ]
  },
  {
   "cell_type": "code",
   "execution_count": 39,
   "metadata": {},
   "outputs": [
    {
     "data": {
      "text/plain": [
       "0.00    2189\n",
       "2.00    1795\n",
       "3.00    1196\n",
       "4.00     896\n",
       "1.00     651\n",
       "        ... \n",
       "1.45       1\n",
       "1.64       1\n",
       "1.21       1\n",
       "2.14       1\n",
       "3.83       1\n",
       "Name: Page Views Per Visit, Length: 115, dtype: int64"
      ]
     },
     "execution_count": 39,
     "metadata": {},
     "output_type": "execute_result"
    }
   ],
   "source": [
    "# Checking value counts for the 'Page Views Per Visit' column \n",
    "\n",
    "leads['Page Views Per Visit'].value_counts(dropna=False)"
   ]
  },
  {
   "cell_type": "code",
   "execution_count": 40,
   "metadata": {},
   "outputs": [
    {
     "data": {
      "text/plain": [
       "2.0"
      ]
     },
     "execution_count": 40,
     "metadata": {},
     "output_type": "execute_result"
    }
   ],
   "source": [
    "# Median of 'Page Views Per Visit' column\n",
    "\n",
    "leads['Page Views Per Visit'].median()"
   ]
  },
  {
   "cell_type": "code",
   "execution_count": 41,
   "metadata": {},
   "outputs": [],
   "source": [
    "# Imputing missing values with the median value of '2.0'\n",
    "leads['Page Views Per Visit'] = leads['Page Views Per Visit'].replace(np.nan, leads['Page Views Per Visit'].median())"
   ]
  },
  {
   "cell_type": "code",
   "execution_count": 42,
   "metadata": {},
   "outputs": [
    {
     "data": {
      "text/plain": [
       "Email Opened                    3437\n",
       "SMS Sent                        2745\n",
       "Olark Chat Conversation          973\n",
       "Page Visited on Website          640\n",
       "Converted to Lead                428\n",
       "Email Bounced                    326\n",
       "Email Link Clicked               267\n",
       "Form Submitted on Website        116\n",
       "NaN                              103\n",
       "Unreachable                       93\n",
       "Unsubscribed                      61\n",
       "Had a Phone Conversation          30\n",
       "Approached upfront                 9\n",
       "View in browser link Clicked       6\n",
       "Email Received                     2\n",
       "Email Marked Spam                  2\n",
       "Visited Booth in Tradeshow         1\n",
       "Resubscribed to emails             1\n",
       "Name: Last Activity, dtype: int64"
      ]
     },
     "execution_count": 42,
     "metadata": {},
     "output_type": "execute_result"
    }
   ],
   "source": [
    "# Checking value counts for the 'Last Activity' column \n",
    "\n",
    "leads['Last Activity'].value_counts(dropna=False)"
   ]
  },
  {
   "cell_type": "code",
   "execution_count": 43,
   "metadata": {},
   "outputs": [],
   "source": [
    "# There is no information about the Last Activity of certain customers. \n",
    "# Therefore, replacing missing values as 'No Information'\n",
    "\n",
    "leads['Last Activity'] = leads['Last Activity'].replace(np.nan, 'No Information')"
   ]
  },
  {
   "cell_type": "code",
   "execution_count": 44,
   "metadata": {},
   "outputs": [],
   "source": [
    "# Grouping together low frequency categories as 'Other_Activity' \n",
    "\n",
    "leads['Last Activity'] = leads['Last Activity'].replace(['No Information','Unreachable','Unsubscribed','Had a Phone Conversation','Approached upfront','View in browser link Clicked','Email Received','Email Marked Spam','Resubscribed to emails','Visited Booth in Tradeshow'], 'Other_Activity')"
   ]
  },
  {
   "cell_type": "code",
   "execution_count": 45,
   "metadata": {},
   "outputs": [
    {
     "data": {
      "text/plain": [
       "Prospect ID                                 0.0\n",
       "Lead Number                                 0.0\n",
       "Lead Origin                                 0.0\n",
       "Lead Source                                 0.0\n",
       "Do Not Email                                0.0\n",
       "Do Not Call                                 0.0\n",
       "Converted                                   0.0\n",
       "TotalVisits                                 0.0\n",
       "Total Time Spent on Website                 0.0\n",
       "Page Views Per Visit                        0.0\n",
       "Last Activity                               0.0\n",
       "Specialization                              0.0\n",
       "What is your current occupation             0.0\n",
       "Search                                      0.0\n",
       "Magazine                                    0.0\n",
       "Newspaper Article                           0.0\n",
       "X Education Forums                          0.0\n",
       "Newspaper                                   0.0\n",
       "Digital Advertisement                       0.0\n",
       "Through Recommendations                     0.0\n",
       "Receive More Updates About Our Courses      0.0\n",
       "Tags                                        0.0\n",
       "Update me on Supply Chain Content           0.0\n",
       "Get updates on DM Content                   0.0\n",
       "City                                        0.0\n",
       "I agree to pay the amount through cheque    0.0\n",
       "A free copy of Mastering The Interview      0.0\n",
       "Last Notable Activity                       0.0\n",
       "dtype: float64"
      ]
     },
     "execution_count": 45,
     "metadata": {},
     "output_type": "execute_result"
    }
   ],
   "source": [
    "# Checking Percentage of missing values again\n",
    "\n",
    "round(100*(leads.isnull().sum()/len(leads.index)),2)"
   ]
  },
  {
   "cell_type": "markdown",
   "metadata": {},
   "source": [
    "### Finally now we do not have any variables with missing values"
   ]
  },
  {
   "cell_type": "markdown",
   "metadata": {},
   "source": [
    "### 2.3 Handling Imbalanced Data i.e. one value in majority and other one in minority"
   ]
  },
  {
   "cell_type": "code",
   "execution_count": 46,
   "metadata": {},
   "outputs": [
    {
     "data": {
      "text/plain": [
       "No     8506\n",
       "Yes     734\n",
       "Name: Do Not Email, dtype: int64"
      ]
     },
     "execution_count": 46,
     "metadata": {},
     "output_type": "execute_result"
    }
   ],
   "source": [
    "leads['Do Not Email'].value_counts(dropna=False)"
   ]
  },
  {
   "cell_type": "code",
   "execution_count": 47,
   "metadata": {},
   "outputs": [
    {
     "data": {
      "text/plain": [
       "No     9238\n",
       "Yes       2\n",
       "Name: Do Not Call, dtype: int64"
      ]
     },
     "execution_count": 47,
     "metadata": {},
     "output_type": "execute_result"
    }
   ],
   "source": [
    "leads['Do Not Call'].value_counts(dropna=False)"
   ]
  },
  {
   "cell_type": "code",
   "execution_count": 48,
   "metadata": {},
   "outputs": [
    {
     "data": {
      "text/plain": [
       "No     9226\n",
       "Yes      14\n",
       "Name: Search, dtype: int64"
      ]
     },
     "execution_count": 48,
     "metadata": {},
     "output_type": "execute_result"
    }
   ],
   "source": [
    "leads['Search'].value_counts(dropna=False)"
   ]
  },
  {
   "cell_type": "code",
   "execution_count": 49,
   "metadata": {},
   "outputs": [
    {
     "data": {
      "text/plain": [
       "No    9240\n",
       "Name: Magazine, dtype: int64"
      ]
     },
     "execution_count": 49,
     "metadata": {},
     "output_type": "execute_result"
    }
   ],
   "source": [
    "leads['Magazine'].value_counts(dropna=False)"
   ]
  },
  {
   "cell_type": "code",
   "execution_count": 50,
   "metadata": {},
   "outputs": [
    {
     "data": {
      "text/plain": [
       "No     9238\n",
       "Yes       2\n",
       "Name: Newspaper Article, dtype: int64"
      ]
     },
     "execution_count": 50,
     "metadata": {},
     "output_type": "execute_result"
    }
   ],
   "source": [
    "leads['Newspaper Article'].value_counts(dropna=False)"
   ]
  },
  {
   "cell_type": "code",
   "execution_count": 51,
   "metadata": {},
   "outputs": [
    {
     "data": {
      "text/plain": [
       "No     9239\n",
       "Yes       1\n",
       "Name: X Education Forums, dtype: int64"
      ]
     },
     "execution_count": 51,
     "metadata": {},
     "output_type": "execute_result"
    }
   ],
   "source": [
    "leads['X Education Forums'].value_counts(dropna=False)"
   ]
  },
  {
   "cell_type": "code",
   "execution_count": 52,
   "metadata": {},
   "outputs": [
    {
     "data": {
      "text/plain": [
       "No     9239\n",
       "Yes       1\n",
       "Name: Newspaper, dtype: int64"
      ]
     },
     "execution_count": 52,
     "metadata": {},
     "output_type": "execute_result"
    }
   ],
   "source": [
    "leads['Newspaper'].value_counts(dropna=False)"
   ]
  },
  {
   "cell_type": "code",
   "execution_count": 53,
   "metadata": {},
   "outputs": [
    {
     "data": {
      "text/plain": [
       "No     9236\n",
       "Yes       4\n",
       "Name: Digital Advertisement, dtype: int64"
      ]
     },
     "execution_count": 53,
     "metadata": {},
     "output_type": "execute_result"
    }
   ],
   "source": [
    "leads['Digital Advertisement'].value_counts(dropna=False)"
   ]
  },
  {
   "cell_type": "code",
   "execution_count": 54,
   "metadata": {},
   "outputs": [
    {
     "data": {
      "text/plain": [
       "No     9233\n",
       "Yes       7\n",
       "Name: Through Recommendations, dtype: int64"
      ]
     },
     "execution_count": 54,
     "metadata": {},
     "output_type": "execute_result"
    }
   ],
   "source": [
    "leads['Through Recommendations'].value_counts(dropna=False)"
   ]
  },
  {
   "cell_type": "code",
   "execution_count": 55,
   "metadata": {},
   "outputs": [
    {
     "data": {
      "text/plain": [
       "No    9240\n",
       "Name: Receive More Updates About Our Courses, dtype: int64"
      ]
     },
     "execution_count": 55,
     "metadata": {},
     "output_type": "execute_result"
    }
   ],
   "source": [
    "leads['Receive More Updates About Our Courses'].value_counts(dropna=False)"
   ]
  },
  {
   "cell_type": "code",
   "execution_count": 56,
   "metadata": {},
   "outputs": [
    {
     "data": {
      "text/plain": [
       "No    9240\n",
       "Name: Update me on Supply Chain Content, dtype: int64"
      ]
     },
     "execution_count": 56,
     "metadata": {},
     "output_type": "execute_result"
    }
   ],
   "source": [
    "leads['Update me on Supply Chain Content'].value_counts(dropna=False)"
   ]
  },
  {
   "cell_type": "code",
   "execution_count": 57,
   "metadata": {},
   "outputs": [
    {
     "data": {
      "text/plain": [
       "No    9240\n",
       "Name: Get updates on DM Content, dtype: int64"
      ]
     },
     "execution_count": 57,
     "metadata": {},
     "output_type": "execute_result"
    }
   ],
   "source": [
    "leads['Get updates on DM Content'].value_counts(dropna=False)"
   ]
  },
  {
   "cell_type": "code",
   "execution_count": 58,
   "metadata": {},
   "outputs": [
    {
     "data": {
      "text/plain": [
       "No    9240\n",
       "Name: I agree to pay the amount through cheque, dtype: int64"
      ]
     },
     "execution_count": 58,
     "metadata": {},
     "output_type": "execute_result"
    }
   ],
   "source": [
    "leads['I agree to pay the amount through cheque'].value_counts(dropna=False)"
   ]
  },
  {
   "cell_type": "code",
   "execution_count": 59,
   "metadata": {},
   "outputs": [
    {
     "data": {
      "text/plain": [
       "No     6352\n",
       "Yes    2888\n",
       "Name: A free copy of Mastering The Interview, dtype: int64"
      ]
     },
     "execution_count": 59,
     "metadata": {},
     "output_type": "execute_result"
    }
   ],
   "source": [
    "leads['A free copy of Mastering The Interview'].value_counts(dropna=False)"
   ]
  },
  {
   "cell_type": "markdown",
   "metadata": {},
   "source": [
    "#### As an observation from above following variables contain highly imbalanced values and as a remediation these variables should be dropped off from the dataset:\n",
    "Do Not Call\n",
    "Search                                      \n",
    "Magazine                                   \n",
    "Newspaper Article                           \n",
    "X Education Forums                         \n",
    "Newspaper                                  \n",
    "Digital Advertisement                       \n",
    "Through Recommendations                    \n",
    "Receive More Updates About Our Courses  \n",
    "Update me on Supply Chain Content       \n",
    "Get updates on DM Content   \n",
    "I agree to pay the amount through cheque"
   ]
  },
  {
   "cell_type": "code",
   "execution_count": 60,
   "metadata": {},
   "outputs": [],
   "source": [
    "# Dropping off the above stated columns from the dataframe\n",
    "leads = leads.drop(['Do Not Call','Search','Magazine','Newspaper Article','X Education Forums','Newspaper','Digital Advertisement','Through Recommendations','Receive More Updates About Our Courses','Update me on Supply Chain Content','Get updates on DM Content','I agree to pay the amount through cheque'], axis=1)                       "
   ]
  },
  {
   "cell_type": "markdown",
   "metadata": {},
   "source": [
    "### 2.4 Dropping of the insignificant columns"
   ]
  },
  {
   "cell_type": "code",
   "execution_count": 61,
   "metadata": {},
   "outputs": [],
   "source": [
    "# Dropping the additional columns 'Prospect ID' and 'Lead Number' as these columns data are just the sequence nos. that adds no significance to calculations \n",
    "leads = leads.drop(['Prospect ID','Lead Number'], axis=1)                       "
   ]
  },
  {
   "cell_type": "code",
   "execution_count": 62,
   "metadata": {},
   "outputs": [
    {
     "data": {
      "text/plain": [
       "(9240, 14)"
      ]
     },
     "execution_count": 62,
     "metadata": {},
     "output_type": "execute_result"
    }
   ],
   "source": [
    "leads.shape"
   ]
  },
  {
   "cell_type": "code",
   "execution_count": 63,
   "metadata": {},
   "outputs": [
    {
     "name": "stdout",
     "output_type": "stream",
     "text": [
      "<class 'pandas.core.frame.DataFrame'>\n",
      "RangeIndex: 9240 entries, 0 to 9239\n",
      "Data columns (total 14 columns):\n",
      " #   Column                                  Non-Null Count  Dtype  \n",
      "---  ------                                  --------------  -----  \n",
      " 0   Lead Origin                             9240 non-null   object \n",
      " 1   Lead Source                             9240 non-null   object \n",
      " 2   Do Not Email                            9240 non-null   object \n",
      " 3   Converted                               9240 non-null   int64  \n",
      " 4   TotalVisits                             9240 non-null   float64\n",
      " 5   Total Time Spent on Website             9240 non-null   int64  \n",
      " 6   Page Views Per Visit                    9240 non-null   float64\n",
      " 7   Last Activity                           9240 non-null   object \n",
      " 8   Specialization                          9240 non-null   object \n",
      " 9   What is your current occupation         9240 non-null   object \n",
      " 10  Tags                                    9240 non-null   object \n",
      " 11  City                                    9240 non-null   object \n",
      " 12  A free copy of Mastering The Interview  9240 non-null   object \n",
      " 13  Last Notable Activity                   9240 non-null   object \n",
      "dtypes: float64(2), int64(2), object(10)\n",
      "memory usage: 1010.8+ KB\n"
     ]
    }
   ],
   "source": [
    "leads.info()"
   ]
  },
  {
   "cell_type": "code",
   "execution_count": 64,
   "metadata": {},
   "outputs": [
    {
     "data": {
      "text/html": [
       "<div>\n",
       "<style scoped>\n",
       "    .dataframe tbody tr th:only-of-type {\n",
       "        vertical-align: middle;\n",
       "    }\n",
       "\n",
       "    .dataframe tbody tr th {\n",
       "        vertical-align: top;\n",
       "    }\n",
       "\n",
       "    .dataframe thead th {\n",
       "        text-align: right;\n",
       "    }\n",
       "</style>\n",
       "<table border=\"1\" class=\"dataframe\">\n",
       "  <thead>\n",
       "    <tr style=\"text-align: right;\">\n",
       "      <th></th>\n",
       "      <th>Lead Origin</th>\n",
       "      <th>Lead Source</th>\n",
       "      <th>Do Not Email</th>\n",
       "      <th>Converted</th>\n",
       "      <th>TotalVisits</th>\n",
       "      <th>Total Time Spent on Website</th>\n",
       "      <th>Page Views Per Visit</th>\n",
       "      <th>Last Activity</th>\n",
       "      <th>Specialization</th>\n",
       "      <th>What is your current occupation</th>\n",
       "      <th>Tags</th>\n",
       "      <th>City</th>\n",
       "      <th>A free copy of Mastering The Interview</th>\n",
       "      <th>Last Notable Activity</th>\n",
       "    </tr>\n",
       "  </thead>\n",
       "  <tbody>\n",
       "    <tr>\n",
       "      <th>0</th>\n",
       "      <td>API</td>\n",
       "      <td>Olark Chat</td>\n",
       "      <td>No</td>\n",
       "      <td>0</td>\n",
       "      <td>0.0</td>\n",
       "      <td>0</td>\n",
       "      <td>0.0</td>\n",
       "      <td>Page Visited on Website</td>\n",
       "      <td>Not Mentioned</td>\n",
       "      <td>Unemployed</td>\n",
       "      <td>Interested in other courses</td>\n",
       "      <td>Mumbai</td>\n",
       "      <td>No</td>\n",
       "      <td>Modified</td>\n",
       "    </tr>\n",
       "    <tr>\n",
       "      <th>1</th>\n",
       "      <td>API</td>\n",
       "      <td>Organic Search</td>\n",
       "      <td>No</td>\n",
       "      <td>0</td>\n",
       "      <td>5.0</td>\n",
       "      <td>674</td>\n",
       "      <td>2.5</td>\n",
       "      <td>Email Opened</td>\n",
       "      <td>Not Mentioned</td>\n",
       "      <td>Unemployed</td>\n",
       "      <td>Ringing</td>\n",
       "      <td>Mumbai</td>\n",
       "      <td>No</td>\n",
       "      <td>Email Opened</td>\n",
       "    </tr>\n",
       "    <tr>\n",
       "      <th>2</th>\n",
       "      <td>Landing Page Submission</td>\n",
       "      <td>Direct Traffic</td>\n",
       "      <td>No</td>\n",
       "      <td>1</td>\n",
       "      <td>2.0</td>\n",
       "      <td>1532</td>\n",
       "      <td>2.0</td>\n",
       "      <td>Email Opened</td>\n",
       "      <td>Business Administration</td>\n",
       "      <td>Student</td>\n",
       "      <td>Will revert after reading the email</td>\n",
       "      <td>Mumbai</td>\n",
       "      <td>Yes</td>\n",
       "      <td>Email Opened</td>\n",
       "    </tr>\n",
       "    <tr>\n",
       "      <th>3</th>\n",
       "      <td>Landing Page Submission</td>\n",
       "      <td>Direct Traffic</td>\n",
       "      <td>No</td>\n",
       "      <td>0</td>\n",
       "      <td>1.0</td>\n",
       "      <td>305</td>\n",
       "      <td>1.0</td>\n",
       "      <td>Other_Activity</td>\n",
       "      <td>Media and Advertising</td>\n",
       "      <td>Unemployed</td>\n",
       "      <td>Ringing</td>\n",
       "      <td>Mumbai</td>\n",
       "      <td>No</td>\n",
       "      <td>Modified</td>\n",
       "    </tr>\n",
       "    <tr>\n",
       "      <th>4</th>\n",
       "      <td>Landing Page Submission</td>\n",
       "      <td>Google</td>\n",
       "      <td>No</td>\n",
       "      <td>1</td>\n",
       "      <td>2.0</td>\n",
       "      <td>1428</td>\n",
       "      <td>1.0</td>\n",
       "      <td>Converted to Lead</td>\n",
       "      <td>Not Mentioned</td>\n",
       "      <td>Unemployed</td>\n",
       "      <td>Will revert after reading the email</td>\n",
       "      <td>Mumbai</td>\n",
       "      <td>No</td>\n",
       "      <td>Modified</td>\n",
       "    </tr>\n",
       "  </tbody>\n",
       "</table>\n",
       "</div>"
      ],
      "text/plain": [
       "               Lead Origin     Lead Source Do Not Email  Converted  \\\n",
       "0                      API      Olark Chat           No          0   \n",
       "1                      API  Organic Search           No          0   \n",
       "2  Landing Page Submission  Direct Traffic           No          1   \n",
       "3  Landing Page Submission  Direct Traffic           No          0   \n",
       "4  Landing Page Submission          Google           No          1   \n",
       "\n",
       "   TotalVisits  Total Time Spent on Website  Page Views Per Visit  \\\n",
       "0          0.0                            0                   0.0   \n",
       "1          5.0                          674                   2.5   \n",
       "2          2.0                         1532                   2.0   \n",
       "3          1.0                          305                   1.0   \n",
       "4          2.0                         1428                   1.0   \n",
       "\n",
       "             Last Activity           Specialization  \\\n",
       "0  Page Visited on Website            Not Mentioned   \n",
       "1             Email Opened            Not Mentioned   \n",
       "2             Email Opened  Business Administration   \n",
       "3           Other_Activity    Media and Advertising   \n",
       "4        Converted to Lead            Not Mentioned   \n",
       "\n",
       "  What is your current occupation                                 Tags  \\\n",
       "0                      Unemployed          Interested in other courses   \n",
       "1                      Unemployed                              Ringing   \n",
       "2                         Student  Will revert after reading the email   \n",
       "3                      Unemployed                              Ringing   \n",
       "4                      Unemployed  Will revert after reading the email   \n",
       "\n",
       "     City A free copy of Mastering The Interview Last Notable Activity  \n",
       "0  Mumbai                                     No              Modified  \n",
       "1  Mumbai                                     No          Email Opened  \n",
       "2  Mumbai                                    Yes          Email Opened  \n",
       "3  Mumbai                                     No              Modified  \n",
       "4  Mumbai                                     No              Modified  "
      ]
     },
     "execution_count": 64,
     "metadata": {},
     "output_type": "execute_result"
    }
   ],
   "source": [
    "leads.head()"
   ]
  },
  {
   "cell_type": "markdown",
   "metadata": {},
   "source": [
    "### 2.5 Handling Outlier Data"
   ]
  },
  {
   "cell_type": "code",
   "execution_count": 65,
   "metadata": {},
   "outputs": [
    {
     "data": {
      "text/html": [
       "<div>\n",
       "<style scoped>\n",
       "    .dataframe tbody tr th:only-of-type {\n",
       "        vertical-align: middle;\n",
       "    }\n",
       "\n",
       "    .dataframe tbody tr th {\n",
       "        vertical-align: top;\n",
       "    }\n",
       "\n",
       "    .dataframe thead th {\n",
       "        text-align: right;\n",
       "    }\n",
       "</style>\n",
       "<table border=\"1\" class=\"dataframe\">\n",
       "  <thead>\n",
       "    <tr style=\"text-align: right;\">\n",
       "      <th></th>\n",
       "      <th>Converted</th>\n",
       "      <th>TotalVisits</th>\n",
       "      <th>Total Time Spent on Website</th>\n",
       "      <th>Page Views Per Visit</th>\n",
       "    </tr>\n",
       "  </thead>\n",
       "  <tbody>\n",
       "    <tr>\n",
       "      <th>count</th>\n",
       "      <td>9240.000000</td>\n",
       "      <td>9240.000000</td>\n",
       "      <td>9240.000000</td>\n",
       "      <td>9240.000000</td>\n",
       "    </tr>\n",
       "    <tr>\n",
       "      <th>mean</th>\n",
       "      <td>0.385390</td>\n",
       "      <td>3.438636</td>\n",
       "      <td>487.698268</td>\n",
       "      <td>2.357440</td>\n",
       "    </tr>\n",
       "    <tr>\n",
       "      <th>std</th>\n",
       "      <td>0.486714</td>\n",
       "      <td>4.819024</td>\n",
       "      <td>548.021466</td>\n",
       "      <td>2.145781</td>\n",
       "    </tr>\n",
       "    <tr>\n",
       "      <th>min</th>\n",
       "      <td>0.000000</td>\n",
       "      <td>0.000000</td>\n",
       "      <td>0.000000</td>\n",
       "      <td>0.000000</td>\n",
       "    </tr>\n",
       "    <tr>\n",
       "      <th>25%</th>\n",
       "      <td>0.000000</td>\n",
       "      <td>1.000000</td>\n",
       "      <td>12.000000</td>\n",
       "      <td>1.000000</td>\n",
       "    </tr>\n",
       "    <tr>\n",
       "      <th>50%</th>\n",
       "      <td>0.000000</td>\n",
       "      <td>3.000000</td>\n",
       "      <td>248.000000</td>\n",
       "      <td>2.000000</td>\n",
       "    </tr>\n",
       "    <tr>\n",
       "      <th>75%</th>\n",
       "      <td>1.000000</td>\n",
       "      <td>5.000000</td>\n",
       "      <td>936.000000</td>\n",
       "      <td>3.000000</td>\n",
       "    </tr>\n",
       "    <tr>\n",
       "      <th>90%</th>\n",
       "      <td>1.000000</td>\n",
       "      <td>7.000000</td>\n",
       "      <td>1380.000000</td>\n",
       "      <td>5.000000</td>\n",
       "    </tr>\n",
       "    <tr>\n",
       "      <th>95%</th>\n",
       "      <td>1.000000</td>\n",
       "      <td>10.000000</td>\n",
       "      <td>1562.000000</td>\n",
       "      <td>6.000000</td>\n",
       "    </tr>\n",
       "    <tr>\n",
       "      <th>99%</th>\n",
       "      <td>1.000000</td>\n",
       "      <td>17.000000</td>\n",
       "      <td>1840.610000</td>\n",
       "      <td>9.000000</td>\n",
       "    </tr>\n",
       "    <tr>\n",
       "      <th>max</th>\n",
       "      <td>1.000000</td>\n",
       "      <td>251.000000</td>\n",
       "      <td>2272.000000</td>\n",
       "      <td>55.000000</td>\n",
       "    </tr>\n",
       "  </tbody>\n",
       "</table>\n",
       "</div>"
      ],
      "text/plain": [
       "         Converted  TotalVisits  Total Time Spent on Website  \\\n",
       "count  9240.000000  9240.000000                  9240.000000   \n",
       "mean      0.385390     3.438636                   487.698268   \n",
       "std       0.486714     4.819024                   548.021466   \n",
       "min       0.000000     0.000000                     0.000000   \n",
       "25%       0.000000     1.000000                    12.000000   \n",
       "50%       0.000000     3.000000                   248.000000   \n",
       "75%       1.000000     5.000000                   936.000000   \n",
       "90%       1.000000     7.000000                  1380.000000   \n",
       "95%       1.000000    10.000000                  1562.000000   \n",
       "99%       1.000000    17.000000                  1840.610000   \n",
       "max       1.000000   251.000000                  2272.000000   \n",
       "\n",
       "       Page Views Per Visit  \n",
       "count           9240.000000  \n",
       "mean               2.357440  \n",
       "std                2.145781  \n",
       "min                0.000000  \n",
       "25%                1.000000  \n",
       "50%                2.000000  \n",
       "75%                3.000000  \n",
       "90%                5.000000  \n",
       "95%                6.000000  \n",
       "99%                9.000000  \n",
       "max               55.000000  "
      ]
     },
     "execution_count": 65,
     "metadata": {},
     "output_type": "execute_result"
    }
   ],
   "source": [
    "# Checking outliers at 25%, 50%, 75%, 90%, 95% and 99%\n",
    "leads.describe(percentiles=[.25, .5, .75, .90, .95, .99])"
   ]
  },
  {
   "cell_type": "markdown",
   "metadata": {},
   "source": [
    "**It can be seen that outliers exist in the 'TotalVisits' and 'Page Views Per Visit' columns as observed from below plotting** "
   ]
  },
  {
   "cell_type": "code",
   "execution_count": 66,
   "metadata": {},
   "outputs": [
    {
     "data": {
      "image/png": "[encoded data removed]",
      "text/plain": [
       "<Figure size 1296x360 with 3 Axes>"
      ]
     },
     "metadata": {
      "needs_background": "light"
     },
     "output_type": "display_data"
    }
   ],
   "source": [
    "plt.figure(figsize=(18,5))\n",
    "plt.subplot(1,3,1)\n",
    "sns.boxplot(y = 'TotalVisits', data = leads)\n",
    "plt.subplot(1,3,2)\n",
    "sns.boxplot(y = 'Total Time Spent on Website', data = leads)\n",
    "plt.subplot(1,3,3)\n",
    "sns.boxplot(y = 'Page Views Per Visit', data = leads)\n",
    "plt.show()"
   ]
  },
  {
   "cell_type": "code",
   "execution_count": 67,
   "metadata": {},
   "outputs": [],
   "source": [
    "# removing (statistical) outliers for 'TotalVisits' column above 99%\n",
    "\n",
    "Q1 = leads['TotalVisits'].quantile(0.99)\n",
    "leads = leads[leads['TotalVisits'] <= Q1]"
   ]
  },
  {
   "cell_type": "code",
   "execution_count": 68,
   "metadata": {},
   "outputs": [
    {
     "data": {
      "image/png": "[encoded data removed]",
      "text/plain": [
       "<Figure size 432x288 with 1 Axes>"
      ]
     },
     "metadata": {
      "needs_background": "light"
     },
     "output_type": "display_data"
    }
   ],
   "source": [
    "sns.boxplot(y = 'TotalVisits', data = leads)\n",
    "plt.show()"
   ]
  },
  {
   "cell_type": "code",
   "execution_count": 69,
   "metadata": {},
   "outputs": [],
   "source": [
    "# removing (statistical) outliers for 'Page Views Per Visit' column above 99%\n",
    "\n",
    "Q2 = leads['Page Views Per Visit'].quantile(0.99)\n",
    "leads = leads[leads['Page Views Per Visit'] <= Q2]"
   ]
  },
  {
   "cell_type": "code",
   "execution_count": 70,
   "metadata": {},
   "outputs": [
    {
     "data": {
      "image/png": "[encoded data removed]",
      "text/plain": [
       "<Figure size 432x288 with 1 Axes>"
      ]
     },
     "metadata": {
      "needs_background": "light"
     },
     "output_type": "display_data"
    }
   ],
   "source": [
    "sns.boxplot(y = 'Page Views Per Visit', data = leads)\n",
    "plt.show()"
   ]
  },
  {
   "cell_type": "code",
   "execution_count": 71,
   "metadata": {},
   "outputs": [
    {
     "name": "stdout",
     "output_type": "stream",
     "text": [
      "<class 'pandas.core.frame.DataFrame'>\n",
      "Int64Index: 9090 entries, 0 to 9239\n",
      "Data columns (total 14 columns):\n",
      " #   Column                                  Non-Null Count  Dtype  \n",
      "---  ------                                  --------------  -----  \n",
      " 0   Lead Origin                             9090 non-null   object \n",
      " 1   Lead Source                             9090 non-null   object \n",
      " 2   Do Not Email                            9090 non-null   object \n",
      " 3   Converted                               9090 non-null   int64  \n",
      " 4   TotalVisits                             9090 non-null   float64\n",
      " 5   Total Time Spent on Website             9090 non-null   int64  \n",
      " 6   Page Views Per Visit                    9090 non-null   float64\n",
      " 7   Last Activity                           9090 non-null   object \n",
      " 8   Specialization                          9090 non-null   object \n",
      " 9   What is your current occupation         9090 non-null   object \n",
      " 10  Tags                                    9090 non-null   object \n",
      " 11  City                                    9090 non-null   object \n",
      " 12  A free copy of Mastering The Interview  9090 non-null   object \n",
      " 13  Last Notable Activity                   9090 non-null   object \n",
      "dtypes: float64(2), int64(2), object(10)\n",
      "memory usage: 1.0+ MB\n"
     ]
    }
   ],
   "source": [
    "# Printing column names of final dataset after cleaning\n",
    "leads.info()"
   ]
  },
  {
   "cell_type": "code",
   "execution_count": 72,
   "metadata": {},
   "outputs": [
    {
     "data": {
      "text/plain": [
       "(9090, 14)"
      ]
     },
     "execution_count": 72,
     "metadata": {},
     "output_type": "execute_result"
    }
   ],
   "source": [
    "leads.shape"
   ]
  },
  {
   "cell_type": "code",
   "execution_count": 73,
   "metadata": {},
   "outputs": [
    {
     "data": {
      "text/plain": [
       "98.38"
      ]
     },
     "execution_count": 73,
     "metadata": {},
     "output_type": "execute_result"
    }
   ],
   "source": [
    "# Determining the percentage of rows retained\n",
    "\n",
    "round(100*(len(leads)/9240),2)"
   ]
  },
  {
   "cell_type": "markdown",
   "metadata": {},
   "source": [
    "**Therefore, 98.38 % of the data has been retained.**"
   ]
  },
  {
   "cell_type": "markdown",
   "metadata": {},
   "source": [
    "## Step 3: Data Analysis"
   ]
  },
  {
   "cell_type": "markdown",
   "metadata": {},
   "source": [
    "**Categorical Variables Analysis**"
   ]
  },
  {
   "cell_type": "markdown",
   "metadata": {},
   "source": [
    "#### Plotting the graph for categorical variable 'Lead Origin'"
   ]
  },
  {
   "cell_type": "code",
   "execution_count": 74,
   "metadata": {},
   "outputs": [
    {
     "data": {
      "text/plain": [
       "Landing Page Submission    4769\n",
       "API                        3548\n",
       "Lead Add Form               717\n",
       "Lead Import                  55\n",
       "Quick Add Form                1\n",
       "Name: Lead Origin, dtype: int64"
      ]
     },
     "execution_count": 74,
     "metadata": {},
     "output_type": "execute_result"
    }
   ],
   "source": [
    "leads['Lead Origin'].value_counts()"
   ]
  },
  {
   "cell_type": "code",
   "execution_count": 75,
   "metadata": {},
   "outputs": [],
   "source": [
    "leads['Lead Origin'] = leads['Lead Origin'].replace(['Lead Add Form','Quick Add Form'],'Forms')"
   ]
  },
  {
   "cell_type": "code",
   "execution_count": 76,
   "metadata": {},
   "outputs": [
    {
     "data": {
      "image/png": "[encoded data removed]",
      "text/plain": [
       "<Figure size 576x360 with 1 Axes>"
      ]
     },
     "metadata": {},
     "output_type": "display_data"
    }
   ],
   "source": [
    "sns.set_style('whitegrid')\n",
    "\n",
    "plt.figure(figsize=(8,5))\n",
    "sns.countplot(x='Lead Origin', hue='Converted', data=leads, palette='BuGn')\n",
    "plt.title('Lead Origin vs Converted', fontsize=14)\n",
    "plt.xticks(rotation=90)\n",
    "plt.show()"
   ]
  },
  {
   "cell_type": "markdown",
   "metadata": {},
   "source": [
    "#### Plotting the graph for categorical variable 'Lead Source'"
   ]
  },
  {
   "cell_type": "code",
   "execution_count": 77,
   "metadata": {},
   "outputs": [
    {
     "data": {
      "image/png": "[encoded data removed]",
      "text/plain": [
       "<Figure size 1080x432 with 1 Axes>"
      ]
     },
     "metadata": {},
     "output_type": "display_data"
    }
   ],
   "source": [
    "plt.figure(figsize=(15,6))\n",
    "sns.countplot(x='Lead Source', hue='Converted', data=leads, palette='BuGn')\n",
    "plt.title('Lead Source vs Converted', fontsize=14)\n",
    "plt.xticks(rotation=90)\n",
    "plt.show()"
   ]
  },
  {
   "cell_type": "markdown",
   "metadata": {},
   "source": [
    "#### Plotting the graph for categorical variable 'Do Not Email'"
   ]
  },
  {
   "cell_type": "code",
   "execution_count": 78,
   "metadata": {},
   "outputs": [
    {
     "data": {
      "image/png": "[encoded data removed]",
      "text/plain": [
       "<Figure size 360x360 with 1 Axes>"
      ]
     },
     "metadata": {},
     "output_type": "display_data"
    }
   ],
   "source": [
    "plt.figure(figsize=(5,5))\n",
    "sns.countplot(x='Do Not Email', hue='Converted', data=leads, palette='BuGn')\n",
    "plt.title('Do Not Email vs Converted', fontsize=14)\n",
    "plt.show()"
   ]
  },
  {
   "cell_type": "markdown",
   "metadata": {},
   "source": [
    "#### Plotting the graph for categorical variable 'Last Activity'"
   ]
  },
  {
   "cell_type": "code",
   "execution_count": 79,
   "metadata": {},
   "outputs": [
    {
     "data": {
      "image/png": "[encoded data removed]",
      "text/plain": [
       "<Figure size 1080x432 with 1 Axes>"
      ]
     },
     "metadata": {},
     "output_type": "display_data"
    }
   ],
   "source": [
    "plt.figure(figsize=(15,6))\n",
    "sns.countplot(x='Last Activity', hue='Converted', data=leads, palette='BuGn')\n",
    "plt.title('Last Activity vs Converted', fontsize=14)\n",
    "plt.xticks(rotation=90)\n",
    "plt.show()"
   ]
  },
  {
   "cell_type": "markdown",
   "metadata": {},
   "source": [
    "#### Plotting the graph for categorical variable 'Specialization'"
   ]
  },
  {
   "cell_type": "code",
   "execution_count": 80,
   "metadata": {},
   "outputs": [
    {
     "data": {
      "image/png": "[encoded data removed]",
      "text/plain": [
       "<Figure size 1080x432 with 1 Axes>"
      ]
     },
     "metadata": {},
     "output_type": "display_data"
    }
   ],
   "source": [
    "plt.figure(figsize=(15,6))\n",
    "sns.countplot(x='Specialization', hue='Converted', data=leads, palette='BuGn')\n",
    "plt.title('Specialization vs Converted', fontsize=14)\n",
    "plt.xticks(rotation=90)\n",
    "plt.show()"
   ]
  },
  {
   "cell_type": "code",
   "execution_count": 81,
   "metadata": {},
   "outputs": [],
   "source": [
    "# Grouping together the all the Management related specializations as 'Management_Specializations'. \n",
    "# since they show almost a similar trend in leads acquired vs leads converted.\n",
    "\n",
    "leads['Specialization'] = leads['Specialization'].replace(['Supply Chain Management','IT Projects Management','Finance Management','Human Resource Management','Marketing Management','Operations Management','Retail Management','Hospitality Management','Healthcare Management'],'Management_Specializations')"
   ]
  },
  {
   "cell_type": "code",
   "execution_count": 82,
   "metadata": {},
   "outputs": [
    {
     "data": {
      "image/png": "[encoded data removed]",
      "text/plain": [
       "<Figure size 1080x432 with 1 Axes>"
      ]
     },
     "metadata": {},
     "output_type": "display_data"
    }
   ],
   "source": [
    "plt.figure(figsize=(15,6))\n",
    "sns.countplot(x='Specialization', hue='Converted', data=leads, palette='BuGn')\n",
    "plt.title('Specialization vs Converted', fontsize=14)\n",
    "plt.xticks(rotation=90)\n",
    "plt.show()"
   ]
  },
  {
   "cell_type": "markdown",
   "metadata": {},
   "source": [
    "#### Plotting the graph for categorical variable 'What is your current occupation'"
   ]
  },
  {
   "cell_type": "code",
   "execution_count": 83,
   "metadata": {},
   "outputs": [
    {
     "data": {
      "image/png": "[encoded data removed]",
      "text/plain": [
       "<Figure size 720x432 with 1 Axes>"
      ]
     },
     "metadata": {},
     "output_type": "display_data"
    }
   ],
   "source": [
    "plt.figure(figsize=(10,6))\n",
    "sns.countplot(x='What is your current occupation', hue='Converted', data=leads, palette='BuGn')\n",
    "plt.title('What is your current occupation vs Converted', fontsize=14)\n",
    "plt.xticks(rotation=90)\n",
    "plt.show()"
   ]
  },
  {
   "cell_type": "markdown",
   "metadata": {},
   "source": [
    "#### Plotting the graph for categorical variable 'Tags'"
   ]
  },
  {
   "cell_type": "code",
   "execution_count": 84,
   "metadata": {},
   "outputs": [
    {
     "data": {
      "image/png": "[encoded data removed]",
      "text/plain": [
       "<Figure size 1080x432 with 1 Axes>"
      ]
     },
     "metadata": {},
     "output_type": "display_data"
    }
   ],
   "source": [
    "plt.figure(figsize=(15,6))\n",
    "sns.countplot(x='Tags', hue='Converted', data=leads, palette='BuGn')\n",
    "plt.title('Tags vs Converted', fontsize=14)\n",
    "plt.xticks(rotation=90)\n",
    "plt.show()"
   ]
  },
  {
   "cell_type": "markdown",
   "metadata": {},
   "source": [
    "#### Plotting the graph for categorical variable 'City'"
   ]
  },
  {
   "cell_type": "code",
   "execution_count": 85,
   "metadata": {},
   "outputs": [
    {
     "data": {
      "image/png": "[encoded data removed]",
      "text/plain": [
       "<Figure size 720x360 with 1 Axes>"
      ]
     },
     "metadata": {},
     "output_type": "display_data"
    }
   ],
   "source": [
    "plt.figure(figsize=(10,5))\n",
    "sns.countplot(x='City', hue='Converted', data=leads, palette='BuGn')\n",
    "plt.title('City vs Converted', fontsize=14)\n",
    "plt.xticks(rotation=90)\n",
    "plt.show()"
   ]
  },
  {
   "cell_type": "markdown",
   "metadata": {},
   "source": [
    "#### Plotting the graph for categorical variable 'A free copy of Mastering The Interview'"
   ]
  },
  {
   "cell_type": "code",
   "execution_count": 86,
   "metadata": {},
   "outputs": [
    {
     "data": {
      "image/png": "[encoded data removed]",
      "text/plain": [
       "<Figure size 360x360 with 1 Axes>"
      ]
     },
     "metadata": {},
     "output_type": "display_data"
    }
   ],
   "source": [
    "plt.figure(figsize=(5,5))\n",
    "sns.countplot(x='A free copy of Mastering The Interview', hue='Converted', data=leads, palette='BuGn')\n",
    "plt.title('A free copy of Mastering The Interview vs Converted', fontsize=14)\n",
    "plt.show()"
   ]
  },
  {
   "cell_type": "markdown",
   "metadata": {},
   "source": [
    "#### Plotting the graph for categorical variable 'Last Notable Activity'"
   ]
  },
  {
   "cell_type": "code",
   "execution_count": 87,
   "metadata": {},
   "outputs": [
    {
     "data": {
      "text/plain": [
       "Modified                        3361\n",
       "Email Opened                    2789\n",
       "SMS Sent                        2143\n",
       "Page Visited on Website          288\n",
       "Olark Chat Conversation          182\n",
       "Email Link Clicked               170\n",
       "Email Bounced                     59\n",
       "Unsubscribed                      46\n",
       "Unreachable                       32\n",
       "Had a Phone Conversation          13\n",
       "Email Marked Spam                  2\n",
       "Approached upfront                 1\n",
       "View in browser link Clicked       1\n",
       "Email Received                     1\n",
       "Form Submitted on Website          1\n",
       "Resubscribed to emails             1\n",
       "Name: Last Notable Activity, dtype: int64"
      ]
     },
     "execution_count": 87,
     "metadata": {},
     "output_type": "execute_result"
    }
   ],
   "source": [
    "leads['Last Notable Activity'].value_counts()"
   ]
  },
  {
   "cell_type": "code",
   "execution_count": 88,
   "metadata": {},
   "outputs": [],
   "source": [
    "# Grouping together low frequency categories as 'Other_Notable_Activity' \n",
    "\n",
    "leads['Last Notable Activity'] = leads['Last Notable Activity'].replace(['Email Bounced','Unsubscribed','Unreachable','Had a Phone Conversation','Email Marked Spam','Resubscribed to emails','View in browser link Clicked','Approached upfront','Email Received','Form Submitted on Website'],'Other_Notable_Activity')"
   ]
  },
  {
   "cell_type": "code",
   "execution_count": 89,
   "metadata": {},
   "outputs": [
    {
     "data": {
      "image/png": "[encoded data removed]",
      "text/plain": [
       "<Figure size 1080x432 with 1 Axes>"
      ]
     },
     "metadata": {},
     "output_type": "display_data"
    }
   ],
   "source": [
    "plt.figure(figsize=(15,6))\n",
    "sns.countplot(x='Last Notable Activity', hue='Converted', data=leads, palette='BuGn')\n",
    "plt.title('Last Notable Activity vs Converted', fontsize=14)\n",
    "plt.xticks(rotation=90)\n",
    "plt.show()"
   ]
  },
  {
   "cell_type": "markdown",
   "metadata": {},
   "source": [
    "## Step 4: Dummy Variable Creation"
   ]
  },
  {
   "cell_type": "markdown",
   "metadata": {},
   "source": [
    "#### Substituting the value 1 for 'Yes' and 0 for 'No'"
   ]
  },
  {
   "cell_type": "code",
   "execution_count": 90,
   "metadata": {},
   "outputs": [],
   "source": [
    "# List of variables to map\n",
    "\n",
    "varlist =  ['Do Not Email', 'A free copy of Mastering The Interview']\n",
    "\n",
    "# Defining the map function\n",
    "def binary_map(x):\n",
    "    return x.map({'Yes': 1, \"No\": 0})\n",
    "\n",
    "# Applying the function to the housing list\n",
    "leads[varlist] = leads[varlist].apply(binary_map)"
   ]
  },
  {
   "cell_type": "markdown",
   "metadata": {},
   "source": [
    "**Creating dummy features for each categorical variables analysed above with multiple levels**"
   ]
  },
  {
   "cell_type": "code",
   "execution_count": 91,
   "metadata": {},
   "outputs": [],
   "source": [
    "# Creating a dummy variable for some of the categorical variables and dropping the first one.\n",
    "dummy = pd.get_dummies(leads[['Lead Origin', 'Lead Source', 'Last Activity', 'Specialization', 'What is your current occupation', 'Tags', 'City', 'Last Notable Activity']], drop_first=True)\n",
    "\n",
    "# Adding the results to the master dataframe\n",
    "leads = pd.concat([leads, dummy], axis=1)"
   ]
  },
  {
   "cell_type": "markdown",
   "metadata": {},
   "source": [
    "**Dropping the repeated original variables**"
   ]
  },
  {
   "cell_type": "code",
   "execution_count": 92,
   "metadata": {},
   "outputs": [],
   "source": [
    "# We have created dummies for the below variables, so we can drop them\n",
    "leads = leads.drop(['Lead Origin', 'Lead Source', 'Last Activity', 'Specialization', 'What is your current occupation', 'Tags', 'City', 'Last Notable Activity'], 1)"
   ]
  },
  {
   "cell_type": "code",
   "execution_count": 93,
   "metadata": {},
   "outputs": [
    {
     "data": {
      "text/html": [
       "<div>\n",
       "<style scoped>\n",
       "    .dataframe tbody tr th:only-of-type {\n",
       "        vertical-align: middle;\n",
       "    }\n",
       "\n",
       "    .dataframe tbody tr th {\n",
       "        vertical-align: top;\n",
       "    }\n",
       "\n",
       "    .dataframe thead th {\n",
       "        text-align: right;\n",
       "    }\n",
       "</style>\n",
       "<table border=\"1\" class=\"dataframe\">\n",
       "  <thead>\n",
       "    <tr style=\"text-align: right;\">\n",
       "      <th></th>\n",
       "      <th>Do Not Email</th>\n",
       "      <th>Converted</th>\n",
       "      <th>TotalVisits</th>\n",
       "      <th>Total Time Spent on Website</th>\n",
       "      <th>Page Views Per Visit</th>\n",
       "      <th>A free copy of Mastering The Interview</th>\n",
       "      <th>Lead Origin_Forms</th>\n",
       "      <th>Lead Origin_Landing Page Submission</th>\n",
       "      <th>Lead Origin_Lead Import</th>\n",
       "      <th>Lead Source_Google</th>\n",
       "      <th>...</th>\n",
       "      <th>City_Other Cities of Maharashtra</th>\n",
       "      <th>City_Other Metro Cities</th>\n",
       "      <th>City_Thane &amp; Outskirts</th>\n",
       "      <th>City_Tier II Cities</th>\n",
       "      <th>Last Notable Activity_Email Opened</th>\n",
       "      <th>Last Notable Activity_Modified</th>\n",
       "      <th>Last Notable Activity_Olark Chat Conversation</th>\n",
       "      <th>Last Notable Activity_Other_Notable_Activity</th>\n",
       "      <th>Last Notable Activity_Page Visited on Website</th>\n",
       "      <th>Last Notable Activity_SMS Sent</th>\n",
       "    </tr>\n",
       "  </thead>\n",
       "  <tbody>\n",
       "    <tr>\n",
       "      <th>0</th>\n",
       "      <td>0</td>\n",
       "      <td>0</td>\n",
       "      <td>0.0</td>\n",
       "      <td>0</td>\n",
       "      <td>0.0</td>\n",
       "      <td>0</td>\n",
       "      <td>0</td>\n",
       "      <td>0</td>\n",
       "      <td>0</td>\n",
       "      <td>0</td>\n",
       "      <td>...</td>\n",
       "      <td>0</td>\n",
       "      <td>0</td>\n",
       "      <td>0</td>\n",
       "      <td>0</td>\n",
       "      <td>0</td>\n",
       "      <td>1</td>\n",
       "      <td>0</td>\n",
       "      <td>0</td>\n",
       "      <td>0</td>\n",
       "      <td>0</td>\n",
       "    </tr>\n",
       "    <tr>\n",
       "      <th>1</th>\n",
       "      <td>0</td>\n",
       "      <td>0</td>\n",
       "      <td>5.0</td>\n",
       "      <td>674</td>\n",
       "      <td>2.5</td>\n",
       "      <td>0</td>\n",
       "      <td>0</td>\n",
       "      <td>0</td>\n",
       "      <td>0</td>\n",
       "      <td>0</td>\n",
       "      <td>...</td>\n",
       "      <td>0</td>\n",
       "      <td>0</td>\n",
       "      <td>0</td>\n",
       "      <td>0</td>\n",
       "      <td>1</td>\n",
       "      <td>0</td>\n",
       "      <td>0</td>\n",
       "      <td>0</td>\n",
       "      <td>0</td>\n",
       "      <td>0</td>\n",
       "    </tr>\n",
       "    <tr>\n",
       "      <th>2</th>\n",
       "      <td>0</td>\n",
       "      <td>1</td>\n",
       "      <td>2.0</td>\n",
       "      <td>1532</td>\n",
       "      <td>2.0</td>\n",
       "      <td>1</td>\n",
       "      <td>0</td>\n",
       "      <td>1</td>\n",
       "      <td>0</td>\n",
       "      <td>0</td>\n",
       "      <td>...</td>\n",
       "      <td>0</td>\n",
       "      <td>0</td>\n",
       "      <td>0</td>\n",
       "      <td>0</td>\n",
       "      <td>1</td>\n",
       "      <td>0</td>\n",
       "      <td>0</td>\n",
       "      <td>0</td>\n",
       "      <td>0</td>\n",
       "      <td>0</td>\n",
       "    </tr>\n",
       "    <tr>\n",
       "      <th>3</th>\n",
       "      <td>0</td>\n",
       "      <td>0</td>\n",
       "      <td>1.0</td>\n",
       "      <td>305</td>\n",
       "      <td>1.0</td>\n",
       "      <td>0</td>\n",
       "      <td>0</td>\n",
       "      <td>1</td>\n",
       "      <td>0</td>\n",
       "      <td>0</td>\n",
       "      <td>...</td>\n",
       "      <td>0</td>\n",
       "      <td>0</td>\n",
       "      <td>0</td>\n",
       "      <td>0</td>\n",
       "      <td>0</td>\n",
       "      <td>1</td>\n",
       "      <td>0</td>\n",
       "      <td>0</td>\n",
       "      <td>0</td>\n",
       "      <td>0</td>\n",
       "    </tr>\n",
       "    <tr>\n",
       "      <th>4</th>\n",
       "      <td>0</td>\n",
       "      <td>1</td>\n",
       "      <td>2.0</td>\n",
       "      <td>1428</td>\n",
       "      <td>1.0</td>\n",
       "      <td>0</td>\n",
       "      <td>0</td>\n",
       "      <td>1</td>\n",
       "      <td>0</td>\n",
       "      <td>1</td>\n",
       "      <td>...</td>\n",
       "      <td>0</td>\n",
       "      <td>0</td>\n",
       "      <td>0</td>\n",
       "      <td>0</td>\n",
       "      <td>0</td>\n",
       "      <td>1</td>\n",
       "      <td>0</td>\n",
       "      <td>0</td>\n",
       "      <td>0</td>\n",
       "      <td>0</td>\n",
       "    </tr>\n",
       "  </tbody>\n",
       "</table>\n",
       "<p>5 rows × 57 columns</p>\n",
       "</div>"
      ],
      "text/plain": [
       "   Do Not Email  Converted  TotalVisits  Total Time Spent on Website  \\\n",
       "0             0          0          0.0                            0   \n",
       "1             0          0          5.0                          674   \n",
       "2             0          1          2.0                         1532   \n",
       "3             0          0          1.0                          305   \n",
       "4             0          1          2.0                         1428   \n",
       "\n",
       "   Page Views Per Visit  A free copy of Mastering The Interview  \\\n",
       "0                   0.0                                       0   \n",
       "1                   2.5                                       0   \n",
       "2                   2.0                                       1   \n",
       "3                   1.0                                       0   \n",
       "4                   1.0                                       0   \n",
       "\n",
       "   Lead Origin_Forms  Lead Origin_Landing Page Submission  \\\n",
       "0                  0                                    0   \n",
       "1                  0                                    0   \n",
       "2                  0                                    1   \n",
       "3                  0                                    1   \n",
       "4                  0                                    1   \n",
       "\n",
       "   Lead Origin_Lead Import  Lead Source_Google  ...  \\\n",
       "0                        0                   0  ...   \n",
       "1                        0                   0  ...   \n",
       "2                        0                   0  ...   \n",
       "3                        0                   0  ...   \n",
       "4                        0                   1  ...   \n",
       "\n",
       "   City_Other Cities of Maharashtra  City_Other Metro Cities  \\\n",
       "0                                 0                        0   \n",
       "1                                 0                        0   \n",
       "2                                 0                        0   \n",
       "3                                 0                        0   \n",
       "4                                 0                        0   \n",
       "\n",
       "   City_Thane & Outskirts  City_Tier II Cities  \\\n",
       "0                       0                    0   \n",
       "1                       0                    0   \n",
       "2                       0                    0   \n",
       "3                       0                    0   \n",
       "4                       0                    0   \n",
       "\n",
       "   Last Notable Activity_Email Opened  Last Notable Activity_Modified  \\\n",
       "0                                   0                               1   \n",
       "1                                   1                               0   \n",
       "2                                   1                               0   \n",
       "3                                   0                               1   \n",
       "4                                   0                               1   \n",
       "\n",
       "   Last Notable Activity_Olark Chat Conversation  \\\n",
       "0                                              0   \n",
       "1                                              0   \n",
       "2                                              0   \n",
       "3                                              0   \n",
       "4                                              0   \n",
       "\n",
       "   Last Notable Activity_Other_Notable_Activity  \\\n",
       "0                                             0   \n",
       "1                                             0   \n",
       "2                                             0   \n",
       "3                                             0   \n",
       "4                                             0   \n",
       "\n",
       "   Last Notable Activity_Page Visited on Website  \\\n",
       "0                                              0   \n",
       "1                                              0   \n",
       "2                                              0   \n",
       "3                                              0   \n",
       "4                                              0   \n",
       "\n",
       "   Last Notable Activity_SMS Sent  \n",
       "0                               0  \n",
       "1                               0  \n",
       "2                               0  \n",
       "3                               0  \n",
       "4                               0  \n",
       "\n",
       "[5 rows x 57 columns]"
      ]
     },
     "execution_count": 93,
     "metadata": {},
     "output_type": "execute_result"
    }
   ],
   "source": [
    "leads.head()"
   ]
  },
  {
   "cell_type": "code",
   "execution_count": 94,
   "metadata": {},
   "outputs": [
    {
     "name": "stdout",
     "output_type": "stream",
     "text": [
      "<class 'pandas.core.frame.DataFrame'>\n",
      "Int64Index: 9090 entries, 0 to 9239\n",
      "Data columns (total 57 columns):\n",
      " #   Column                                                Non-Null Count  Dtype  \n",
      "---  ------                                                --------------  -----  \n",
      " 0   Do Not Email                                          9090 non-null   int64  \n",
      " 1   Converted                                             9090 non-null   int64  \n",
      " 2   TotalVisits                                           9090 non-null   float64\n",
      " 3   Total Time Spent on Website                           9090 non-null   int64  \n",
      " 4   Page Views Per Visit                                  9090 non-null   float64\n",
      " 5   A free copy of Mastering The Interview                9090 non-null   int64  \n",
      " 6   Lead Origin_Forms                                     9090 non-null   uint8  \n",
      " 7   Lead Origin_Landing Page Submission                   9090 non-null   uint8  \n",
      " 8   Lead Origin_Lead Import                               9090 non-null   uint8  \n",
      " 9   Lead Source_Google                                    9090 non-null   uint8  \n",
      " 10  Lead Source_Olark Chat                                9090 non-null   uint8  \n",
      " 11  Lead Source_Organic Search                            9090 non-null   uint8  \n",
      " 12  Lead Source_Other_Sources                             9090 non-null   uint8  \n",
      " 13  Lead Source_Reference                                 9090 non-null   uint8  \n",
      " 14  Lead Source_Referral Sites                            9090 non-null   uint8  \n",
      " 15  Lead Source_Social Media                              9090 non-null   uint8  \n",
      " 16  Lead Source_Welingak Website                          9090 non-null   uint8  \n",
      " 17  Last Activity_Email Bounced                           9090 non-null   uint8  \n",
      " 18  Last Activity_Email Link Clicked                      9090 non-null   uint8  \n",
      " 19  Last Activity_Email Opened                            9090 non-null   uint8  \n",
      " 20  Last Activity_Form Submitted on Website               9090 non-null   uint8  \n",
      " 21  Last Activity_Olark Chat Conversation                 9090 non-null   uint8  \n",
      " 22  Last Activity_Other_Activity                          9090 non-null   uint8  \n",
      " 23  Last Activity_Page Visited on Website                 9090 non-null   uint8  \n",
      " 24  Last Activity_SMS Sent                                9090 non-null   uint8  \n",
      " 25  Specialization_Business Administration                9090 non-null   uint8  \n",
      " 26  Specialization_E-Business                             9090 non-null   uint8  \n",
      " 27  Specialization_E-COMMERCE                             9090 non-null   uint8  \n",
      " 28  Specialization_International Business                 9090 non-null   uint8  \n",
      " 29  Specialization_Management_Specializations             9090 non-null   uint8  \n",
      " 30  Specialization_Media and Advertising                  9090 non-null   uint8  \n",
      " 31  Specialization_Not Mentioned                          9090 non-null   uint8  \n",
      " 32  Specialization_Rural and Agribusiness                 9090 non-null   uint8  \n",
      " 33  Specialization_Services Excellence                    9090 non-null   uint8  \n",
      " 34  Specialization_Travel and Tourism                     9090 non-null   uint8  \n",
      " 35  What is your current occupation_Housewife             9090 non-null   uint8  \n",
      " 36  What is your current occupation_Other                 9090 non-null   uint8  \n",
      " 37  What is your current occupation_Student               9090 non-null   uint8  \n",
      " 38  What is your current occupation_Unemployed            9090 non-null   uint8  \n",
      " 39  What is your current occupation_Working Professional  9090 non-null   uint8  \n",
      " 40  Tags_Closed by Horizzon                               9090 non-null   uint8  \n",
      " 41  Tags_Interested in other courses                      9090 non-null   uint8  \n",
      " 42  Tags_Not Mentioned                                    9090 non-null   uint8  \n",
      " 43  Tags_Other_Tags                                       9090 non-null   uint8  \n",
      " 44  Tags_Ringing                                          9090 non-null   uint8  \n",
      " 45  Tags_Will revert after reading the email              9090 non-null   uint8  \n",
      " 46  City_Other Cities                                     9090 non-null   uint8  \n",
      " 47  City_Other Cities of Maharashtra                      9090 non-null   uint8  \n",
      " 48  City_Other Metro Cities                               9090 non-null   uint8  \n",
      " 49  City_Thane & Outskirts                                9090 non-null   uint8  \n",
      " 50  City_Tier II Cities                                   9090 non-null   uint8  \n",
      " 51  Last Notable Activity_Email Opened                    9090 non-null   uint8  \n",
      " 52  Last Notable Activity_Modified                        9090 non-null   uint8  \n",
      " 53  Last Notable Activity_Olark Chat Conversation         9090 non-null   uint8  \n",
      " 54  Last Notable Activity_Other_Notable_Activity          9090 non-null   uint8  \n",
      " 55  Last Notable Activity_Page Visited on Website         9090 non-null   uint8  \n",
      " 56  Last Notable Activity_SMS Sent                        9090 non-null   uint8  \n",
      "dtypes: float64(2), int64(4), uint8(51)\n",
      "memory usage: 1.2 MB\n"
     ]
    }
   ],
   "source": [
    "leads.info(verbose=True)"
   ]
  },
  {
   "cell_type": "markdown",
   "metadata": {},
   "source": [
    "## Step 5: Test-Train Split"
   ]
  },
  {
   "cell_type": "code",
   "execution_count": 95,
   "metadata": {},
   "outputs": [
    {
     "data": {
      "text/html": [
       "<div>\n",
       "<style scoped>\n",
       "    .dataframe tbody tr th:only-of-type {\n",
       "        vertical-align: middle;\n",
       "    }\n",
       "\n",
       "    .dataframe tbody tr th {\n",
       "        vertical-align: top;\n",
       "    }\n",
       "\n",
       "    .dataframe thead th {\n",
       "        text-align: right;\n",
       "    }\n",
       "</style>\n",
       "<table border=\"1\" class=\"dataframe\">\n",
       "  <thead>\n",
       "    <tr style=\"text-align: right;\">\n",
       "      <th></th>\n",
       "      <th>Do Not Email</th>\n",
       "      <th>TotalVisits</th>\n",
       "      <th>Total Time Spent on Website</th>\n",
       "      <th>Page Views Per Visit</th>\n",
       "      <th>A free copy of Mastering The Interview</th>\n",
       "      <th>Lead Origin_Forms</th>\n",
       "      <th>Lead Origin_Landing Page Submission</th>\n",
       "      <th>Lead Origin_Lead Import</th>\n",
       "      <th>Lead Source_Google</th>\n",
       "      <th>Lead Source_Olark Chat</th>\n",
       "      <th>...</th>\n",
       "      <th>City_Other Cities of Maharashtra</th>\n",
       "      <th>City_Other Metro Cities</th>\n",
       "      <th>City_Thane &amp; Outskirts</th>\n",
       "      <th>City_Tier II Cities</th>\n",
       "      <th>Last Notable Activity_Email Opened</th>\n",
       "      <th>Last Notable Activity_Modified</th>\n",
       "      <th>Last Notable Activity_Olark Chat Conversation</th>\n",
       "      <th>Last Notable Activity_Other_Notable_Activity</th>\n",
       "      <th>Last Notable Activity_Page Visited on Website</th>\n",
       "      <th>Last Notable Activity_SMS Sent</th>\n",
       "    </tr>\n",
       "  </thead>\n",
       "  <tbody>\n",
       "    <tr>\n",
       "      <th>0</th>\n",
       "      <td>0</td>\n",
       "      <td>0.0</td>\n",
       "      <td>0</td>\n",
       "      <td>0.0</td>\n",
       "      <td>0</td>\n",
       "      <td>0</td>\n",
       "      <td>0</td>\n",
       "      <td>0</td>\n",
       "      <td>0</td>\n",
       "      <td>1</td>\n",
       "      <td>...</td>\n",
       "      <td>0</td>\n",
       "      <td>0</td>\n",
       "      <td>0</td>\n",
       "      <td>0</td>\n",
       "      <td>0</td>\n",
       "      <td>1</td>\n",
       "      <td>0</td>\n",
       "      <td>0</td>\n",
       "      <td>0</td>\n",
       "      <td>0</td>\n",
       "    </tr>\n",
       "    <tr>\n",
       "      <th>1</th>\n",
       "      <td>0</td>\n",
       "      <td>5.0</td>\n",
       "      <td>674</td>\n",
       "      <td>2.5</td>\n",
       "      <td>0</td>\n",
       "      <td>0</td>\n",
       "      <td>0</td>\n",
       "      <td>0</td>\n",
       "      <td>0</td>\n",
       "      <td>0</td>\n",
       "      <td>...</td>\n",
       "      <td>0</td>\n",
       "      <td>0</td>\n",
       "      <td>0</td>\n",
       "      <td>0</td>\n",
       "      <td>1</td>\n",
       "      <td>0</td>\n",
       "      <td>0</td>\n",
       "      <td>0</td>\n",
       "      <td>0</td>\n",
       "      <td>0</td>\n",
       "    </tr>\n",
       "    <tr>\n",
       "      <th>2</th>\n",
       "      <td>0</td>\n",
       "      <td>2.0</td>\n",
       "      <td>1532</td>\n",
       "      <td>2.0</td>\n",
       "      <td>1</td>\n",
       "      <td>0</td>\n",
       "      <td>1</td>\n",
       "      <td>0</td>\n",
       "      <td>0</td>\n",
       "      <td>0</td>\n",
       "      <td>...</td>\n",
       "      <td>0</td>\n",
       "      <td>0</td>\n",
       "      <td>0</td>\n",
       "      <td>0</td>\n",
       "      <td>1</td>\n",
       "      <td>0</td>\n",
       "      <td>0</td>\n",
       "      <td>0</td>\n",
       "      <td>0</td>\n",
       "      <td>0</td>\n",
       "    </tr>\n",
       "    <tr>\n",
       "      <th>3</th>\n",
       "      <td>0</td>\n",
       "      <td>1.0</td>\n",
       "      <td>305</td>\n",
       "      <td>1.0</td>\n",
       "      <td>0</td>\n",
       "      <td>0</td>\n",
       "      <td>1</td>\n",
       "      <td>0</td>\n",
       "      <td>0</td>\n",
       "      <td>0</td>\n",
       "      <td>...</td>\n",
       "      <td>0</td>\n",
       "      <td>0</td>\n",
       "      <td>0</td>\n",
       "      <td>0</td>\n",
       "      <td>0</td>\n",
       "      <td>1</td>\n",
       "      <td>0</td>\n",
       "      <td>0</td>\n",
       "      <td>0</td>\n",
       "      <td>0</td>\n",
       "    </tr>\n",
       "    <tr>\n",
       "      <th>4</th>\n",
       "      <td>0</td>\n",
       "      <td>2.0</td>\n",
       "      <td>1428</td>\n",
       "      <td>1.0</td>\n",
       "      <td>0</td>\n",
       "      <td>0</td>\n",
       "      <td>1</td>\n",
       "      <td>0</td>\n",
       "      <td>1</td>\n",
       "      <td>0</td>\n",
       "      <td>...</td>\n",
       "      <td>0</td>\n",
       "      <td>0</td>\n",
       "      <td>0</td>\n",
       "      <td>0</td>\n",
       "      <td>0</td>\n",
       "      <td>1</td>\n",
       "      <td>0</td>\n",
       "      <td>0</td>\n",
       "      <td>0</td>\n",
       "      <td>0</td>\n",
       "    </tr>\n",
       "  </tbody>\n",
       "</table>\n",
       "<p>5 rows × 56 columns</p>\n",
       "</div>"
      ],
      "text/plain": [
       "   Do Not Email  TotalVisits  Total Time Spent on Website  \\\n",
       "0             0          0.0                            0   \n",
       "1             0          5.0                          674   \n",
       "2             0          2.0                         1532   \n",
       "3             0          1.0                          305   \n",
       "4             0          2.0                         1428   \n",
       "\n",
       "   Page Views Per Visit  A free copy of Mastering The Interview  \\\n",
       "0                   0.0                                       0   \n",
       "1                   2.5                                       0   \n",
       "2                   2.0                                       1   \n",
       "3                   1.0                                       0   \n",
       "4                   1.0                                       0   \n",
       "\n",
       "   Lead Origin_Forms  Lead Origin_Landing Page Submission  \\\n",
       "0                  0                                    0   \n",
       "1                  0                                    0   \n",
       "2                  0                                    1   \n",
       "3                  0                                    1   \n",
       "4                  0                                    1   \n",
       "\n",
       "   Lead Origin_Lead Import  Lead Source_Google  Lead Source_Olark Chat  ...  \\\n",
       "0                        0                   0                       1  ...   \n",
       "1                        0                   0                       0  ...   \n",
       "2                        0                   0                       0  ...   \n",
       "3                        0                   0                       0  ...   \n",
       "4                        0                   1                       0  ...   \n",
       "\n",
       "   City_Other Cities of Maharashtra  City_Other Metro Cities  \\\n",
       "0                                 0                        0   \n",
       "1                                 0                        0   \n",
       "2                                 0                        0   \n",
       "3                                 0                        0   \n",
       "4                                 0                        0   \n",
       "\n",
       "   City_Thane & Outskirts  City_Tier II Cities  \\\n",
       "0                       0                    0   \n",
       "1                       0                    0   \n",
       "2                       0                    0   \n",
       "3                       0                    0   \n",
       "4                       0                    0   \n",
       "\n",
       "   Last Notable Activity_Email Opened  Last Notable Activity_Modified  \\\n",
       "0                                   0                               1   \n",
       "1                                   1                               0   \n",
       "2                                   1                               0   \n",
       "3                                   0                               1   \n",
       "4                                   0                               1   \n",
       "\n",
       "   Last Notable Activity_Olark Chat Conversation  \\\n",
       "0                                              0   \n",
       "1                                              0   \n",
       "2                                              0   \n",
       "3                                              0   \n",
       "4                                              0   \n",
       "\n",
       "   Last Notable Activity_Other_Notable_Activity  \\\n",
       "0                                             0   \n",
       "1                                             0   \n",
       "2                                             0   \n",
       "3                                             0   \n",
       "4                                             0   \n",
       "\n",
       "   Last Notable Activity_Page Visited on Website  \\\n",
       "0                                              0   \n",
       "1                                              0   \n",
       "2                                              0   \n",
       "3                                              0   \n",
       "4                                              0   \n",
       "\n",
       "   Last Notable Activity_SMS Sent  \n",
       "0                               0  \n",
       "1                               0  \n",
       "2                               0  \n",
       "3                               0  \n",
       "4                               0  \n",
       "\n",
       "[5 rows x 56 columns]"
      ]
     },
     "execution_count": 95,
     "metadata": {},
     "output_type": "execute_result"
    }
   ],
   "source": [
    "# Putting feature variable to X\n",
    "X = leads.drop(['Converted'], axis=1)\n",
    "X.head()"
   ]
  },
  {
   "cell_type": "code",
   "execution_count": 96,
   "metadata": {},
   "outputs": [
    {
     "data": {
      "text/plain": [
       "0    0\n",
       "1    0\n",
       "2    1\n",
       "3    0\n",
       "4    1\n",
       "Name: Converted, dtype: int64"
      ]
     },
     "execution_count": 96,
     "metadata": {},
     "output_type": "execute_result"
    }
   ],
   "source": [
    "# Putting target variable to y\n",
    "y = leads['Converted']\n",
    "y.head()"
   ]
  },
  {
   "cell_type": "code",
   "execution_count": 97,
   "metadata": {},
   "outputs": [],
   "source": [
    "# Splitting the data into train and test dataset using train_test_split function.\n",
    "X_train, X_test, y_train, y_test = train_test_split(X, y, train_size=0.7, test_size=0.3, random_state=100)"
   ]
  },
  {
   "cell_type": "code",
   "execution_count": 98,
   "metadata": {},
   "outputs": [
    {
     "name": "stdout",
     "output_type": "stream",
     "text": [
      "Train dataset shape:  (6363, 56)\n",
      "Test dataset shape:  (2727, 56)\n"
     ]
    }
   ],
   "source": [
    "print('Train dataset shape: ', X_train.shape)\n",
    "\n",
    "print('Test dataset shape: ', X_test.shape)"
   ]
  },
  {
   "cell_type": "markdown",
   "metadata": {},
   "source": [
    "## Step 6: Feature Scaling"
   ]
  },
  {
   "cell_type": "code",
   "execution_count": 99,
   "metadata": {},
   "outputs": [
    {
     "data": {
      "text/html": [
       "<div>\n",
       "<style scoped>\n",
       "    .dataframe tbody tr th:only-of-type {\n",
       "        vertical-align: middle;\n",
       "    }\n",
       "\n",
       "    .dataframe tbody tr th {\n",
       "        vertical-align: top;\n",
       "    }\n",
       "\n",
       "    .dataframe thead th {\n",
       "        text-align: right;\n",
       "    }\n",
       "</style>\n",
       "<table border=\"1\" class=\"dataframe\">\n",
       "  <thead>\n",
       "    <tr style=\"text-align: right;\">\n",
       "      <th></th>\n",
       "      <th>Do Not Email</th>\n",
       "      <th>TotalVisits</th>\n",
       "      <th>Total Time Spent on Website</th>\n",
       "      <th>Page Views Per Visit</th>\n",
       "      <th>A free copy of Mastering The Interview</th>\n",
       "      <th>Lead Origin_Forms</th>\n",
       "      <th>Lead Origin_Landing Page Submission</th>\n",
       "      <th>Lead Origin_Lead Import</th>\n",
       "      <th>Lead Source_Google</th>\n",
       "      <th>Lead Source_Olark Chat</th>\n",
       "      <th>...</th>\n",
       "      <th>City_Other Cities of Maharashtra</th>\n",
       "      <th>City_Other Metro Cities</th>\n",
       "      <th>City_Thane &amp; Outskirts</th>\n",
       "      <th>City_Tier II Cities</th>\n",
       "      <th>Last Notable Activity_Email Opened</th>\n",
       "      <th>Last Notable Activity_Modified</th>\n",
       "      <th>Last Notable Activity_Olark Chat Conversation</th>\n",
       "      <th>Last Notable Activity_Other_Notable_Activity</th>\n",
       "      <th>Last Notable Activity_Page Visited on Website</th>\n",
       "      <th>Last Notable Activity_SMS Sent</th>\n",
       "    </tr>\n",
       "  </thead>\n",
       "  <tbody>\n",
       "    <tr>\n",
       "      <th>302</th>\n",
       "      <td>0</td>\n",
       "      <td>1.336782</td>\n",
       "      <td>-0.428736</td>\n",
       "      <td>0.044021</td>\n",
       "      <td>0</td>\n",
       "      <td>0</td>\n",
       "      <td>0</td>\n",
       "      <td>0</td>\n",
       "      <td>0</td>\n",
       "      <td>0</td>\n",
       "      <td>...</td>\n",
       "      <td>0</td>\n",
       "      <td>0</td>\n",
       "      <td>0</td>\n",
       "      <td>0</td>\n",
       "      <td>1</td>\n",
       "      <td>0</td>\n",
       "      <td>0</td>\n",
       "      <td>0</td>\n",
       "      <td>0</td>\n",
       "      <td>0</td>\n",
       "    </tr>\n",
       "    <tr>\n",
       "      <th>6087</th>\n",
       "      <td>1</td>\n",
       "      <td>-1.094877</td>\n",
       "      <td>-0.887355</td>\n",
       "      <td>-1.206716</td>\n",
       "      <td>0</td>\n",
       "      <td>0</td>\n",
       "      <td>0</td>\n",
       "      <td>0</td>\n",
       "      <td>0</td>\n",
       "      <td>1</td>\n",
       "      <td>...</td>\n",
       "      <td>0</td>\n",
       "      <td>0</td>\n",
       "      <td>0</td>\n",
       "      <td>0</td>\n",
       "      <td>0</td>\n",
       "      <td>1</td>\n",
       "      <td>0</td>\n",
       "      <td>0</td>\n",
       "      <td>0</td>\n",
       "      <td>0</td>\n",
       "    </tr>\n",
       "    <tr>\n",
       "      <th>1033</th>\n",
       "      <td>0</td>\n",
       "      <td>0.642022</td>\n",
       "      <td>-0.025151</td>\n",
       "      <td>1.477269</td>\n",
       "      <td>0</td>\n",
       "      <td>0</td>\n",
       "      <td>0</td>\n",
       "      <td>0</td>\n",
       "      <td>1</td>\n",
       "      <td>0</td>\n",
       "      <td>...</td>\n",
       "      <td>0</td>\n",
       "      <td>0</td>\n",
       "      <td>0</td>\n",
       "      <td>0</td>\n",
       "      <td>1</td>\n",
       "      <td>0</td>\n",
       "      <td>0</td>\n",
       "      <td>0</td>\n",
       "      <td>0</td>\n",
       "      <td>0</td>\n",
       "    </tr>\n",
       "    <tr>\n",
       "      <th>7656</th>\n",
       "      <td>1</td>\n",
       "      <td>0.989402</td>\n",
       "      <td>-0.241619</td>\n",
       "      <td>2.014065</td>\n",
       "      <td>1</td>\n",
       "      <td>0</td>\n",
       "      <td>1</td>\n",
       "      <td>0</td>\n",
       "      <td>0</td>\n",
       "      <td>0</td>\n",
       "      <td>...</td>\n",
       "      <td>0</td>\n",
       "      <td>0</td>\n",
       "      <td>0</td>\n",
       "      <td>0</td>\n",
       "      <td>0</td>\n",
       "      <td>0</td>\n",
       "      <td>0</td>\n",
       "      <td>0</td>\n",
       "      <td>0</td>\n",
       "      <td>1</td>\n",
       "    </tr>\n",
       "    <tr>\n",
       "      <th>3241</th>\n",
       "      <td>0</td>\n",
       "      <td>0.294642</td>\n",
       "      <td>0.897591</td>\n",
       "      <td>-0.492776</td>\n",
       "      <td>1</td>\n",
       "      <td>0</td>\n",
       "      <td>1</td>\n",
       "      <td>0</td>\n",
       "      <td>0</td>\n",
       "      <td>0</td>\n",
       "      <td>...</td>\n",
       "      <td>0</td>\n",
       "      <td>0</td>\n",
       "      <td>0</td>\n",
       "      <td>0</td>\n",
       "      <td>0</td>\n",
       "      <td>0</td>\n",
       "      <td>0</td>\n",
       "      <td>0</td>\n",
       "      <td>0</td>\n",
       "      <td>1</td>\n",
       "    </tr>\n",
       "  </tbody>\n",
       "</table>\n",
       "<p>5 rows × 56 columns</p>\n",
       "</div>"
      ],
      "text/plain": [
       "      Do Not Email  TotalVisits  Total Time Spent on Website  \\\n",
       "302              0     1.336782                    -0.428736   \n",
       "6087             1    -1.094877                    -0.887355   \n",
       "1033             0     0.642022                    -0.025151   \n",
       "7656             1     0.989402                    -0.241619   \n",
       "3241             0     0.294642                     0.897591   \n",
       "\n",
       "      Page Views Per Visit  A free copy of Mastering The Interview  \\\n",
       "302               0.044021                                       0   \n",
       "6087             -1.206716                                       0   \n",
       "1033              1.477269                                       0   \n",
       "7656              2.014065                                       1   \n",
       "3241             -0.492776                                       1   \n",
       "\n",
       "      Lead Origin_Forms  Lead Origin_Landing Page Submission  \\\n",
       "302                   0                                    0   \n",
       "6087                  0                                    0   \n",
       "1033                  0                                    0   \n",
       "7656                  0                                    1   \n",
       "3241                  0                                    1   \n",
       "\n",
       "      Lead Origin_Lead Import  Lead Source_Google  Lead Source_Olark Chat  \\\n",
       "302                         0                   0                       0   \n",
       "6087                        0                   0                       1   \n",
       "1033                        0                   1                       0   \n",
       "7656                        0                   0                       0   \n",
       "3241                        0                   0                       0   \n",
       "\n",
       "      ...  City_Other Cities of Maharashtra  City_Other Metro Cities  \\\n",
       "302   ...                                 0                        0   \n",
       "6087  ...                                 0                        0   \n",
       "1033  ...                                 0                        0   \n",
       "7656  ...                                 0                        0   \n",
       "3241  ...                                 0                        0   \n",
       "\n",
       "      City_Thane & Outskirts  City_Tier II Cities  \\\n",
       "302                        0                    0   \n",
       "6087                       0                    0   \n",
       "1033                       0                    0   \n",
       "7656                       0                    0   \n",
       "3241                       0                    0   \n",
       "\n",
       "      Last Notable Activity_Email Opened  Last Notable Activity_Modified  \\\n",
       "302                                    1                               0   \n",
       "6087                                   0                               1   \n",
       "1033                                   1                               0   \n",
       "7656                                   0                               0   \n",
       "3241                                   0                               0   \n",
       "\n",
       "      Last Notable Activity_Olark Chat Conversation  \\\n",
       "302                                               0   \n",
       "6087                                              0   \n",
       "1033                                              0   \n",
       "7656                                              0   \n",
       "3241                                              0   \n",
       "\n",
       "      Last Notable Activity_Other_Notable_Activity  \\\n",
       "302                                              0   \n",
       "6087                                             0   \n",
       "1033                                             0   \n",
       "7656                                             0   \n",
       "3241                                             0   \n",
       "\n",
       "      Last Notable Activity_Page Visited on Website  \\\n",
       "302                                               0   \n",
       "6087                                              0   \n",
       "1033                                              0   \n",
       "7656                                              0   \n",
       "3241                                              0   \n",
       "\n",
       "      Last Notable Activity_SMS Sent  \n",
       "302                                0  \n",
       "6087                               0  \n",
       "1033                               0  \n",
       "7656                               1  \n",
       "3241                               1  \n",
       "\n",
       "[5 rows x 56 columns]"
      ]
     },
     "execution_count": 99,
     "metadata": {},
     "output_type": "execute_result"
    }
   ],
   "source": [
    "# Scaling the following columns 'TotalVisits','Total Time Spent on Website' and 'Page Views Per Visit'\n",
    "scaler = StandardScaler()\n",
    "\n",
    "X_train[['TotalVisits','Total Time Spent on Website','Page Views Per Visit']] = scaler.fit_transform(X_train[['TotalVisits','Total Time Spent on Website','Page Views Per Visit']])\n",
    "\n",
    "X_train.head()"
   ]
  },
  {
   "cell_type": "code",
   "execution_count": 100,
   "metadata": {},
   "outputs": [
    {
     "data": {
      "text/plain": [
       "38.448844884488445"
      ]
     },
     "execution_count": 100,
     "metadata": {},
     "output_type": "execute_result"
    }
   ],
   "source": [
    "### Checking the Conversion Rate percentage\n",
    "\n",
    "converted = (sum(leads['Converted'])/len(leads['Converted'].index))*100\n",
    "converted"
   ]
  },
  {
   "cell_type": "markdown",
   "metadata": {},
   "source": [
    "**We conclude that we have almost 38.4% conversion rate**"
   ]
  },
  {
   "cell_type": "markdown",
   "metadata": {},
   "source": [
    "## Step 7: Model Building"
   ]
  },
  {
   "cell_type": "markdown",
   "metadata": {},
   "source": [
    "#### Running the First Training Model\n",
    "\n",
    "#### Building Model 1"
   ]
  },
  {
   "cell_type": "code",
   "execution_count": 101,
   "metadata": {},
   "outputs": [
    {
     "data": {
      "text/html": [
       "<table class=\"simpletable\">\n",
       "<caption>Generalized Linear Model Regression Results</caption>\n",
       "<tr>\n",
       "  <th>Dep. Variable:</th>       <td>Converted</td>    <th>  No. Observations:  </th>  <td>  6363</td> \n",
       "</tr>\n",
       "<tr>\n",
       "  <th>Model:</th>                  <td>GLM</td>       <th>  Df Residuals:      </th>  <td>  6306</td> \n",
       "</tr>\n",
       "<tr>\n",
       "  <th>Model Family:</th>        <td>Binomial</td>     <th>  Df Model:          </th>  <td>    56</td> \n",
       "</tr>\n",
       "<tr>\n",
       "  <th>Link Function:</th>         <td>logit</td>      <th>  Scale:             </th> <td>  1.0000</td>\n",
       "</tr>\n",
       "<tr>\n",
       "  <th>Method:</th>                <td>IRLS</td>       <th>  Log-Likelihood:    </th> <td> -1465.9</td>\n",
       "</tr>\n",
       "<tr>\n",
       "  <th>Date:</th>            <td>Sun, 11 Apr 2021</td> <th>  Deviance:          </th> <td>  2931.7</td>\n",
       "</tr>\n",
       "<tr>\n",
       "  <th>Time:</th>                <td>22:28:55</td>     <th>  Pearson chi2:      </th> <td>7.66e+03</td>\n",
       "</tr>\n",
       "<tr>\n",
       "  <th>No. Iterations:</th>         <td>21</td>        <th>                     </th>     <td> </td>   \n",
       "</tr>\n",
       "<tr>\n",
       "  <th>Covariance Type:</th>     <td>nonrobust</td>    <th>                     </th>     <td> </td>   \n",
       "</tr>\n",
       "</table>\n",
       "<table class=\"simpletable\">\n",
       "<tr>\n",
       "                            <td></td>                              <th>coef</th>     <th>std err</th>      <th>z</th>      <th>P>|z|</th>  <th>[0.025</th>    <th>0.975]</th>  \n",
       "</tr>\n",
       "<tr>\n",
       "  <th>const</th>                                                <td>   -3.6214</td> <td>    1.673</td> <td>   -2.165</td> <td> 0.030</td> <td>   -6.900</td> <td>   -0.343</td>\n",
       "</tr>\n",
       "<tr>\n",
       "  <th>Do Not Email</th>                                         <td>   -1.2134</td> <td>    0.258</td> <td>   -4.696</td> <td> 0.000</td> <td>   -1.720</td> <td>   -0.707</td>\n",
       "</tr>\n",
       "<tr>\n",
       "  <th>TotalVisits</th>                                          <td>    0.2620</td> <td>    0.071</td> <td>    3.672</td> <td> 0.000</td> <td>    0.122</td> <td>    0.402</td>\n",
       "</tr>\n",
       "<tr>\n",
       "  <th>Total Time Spent on Website</th>                          <td>    1.1085</td> <td>    0.056</td> <td>   19.758</td> <td> 0.000</td> <td>    0.999</td> <td>    1.218</td>\n",
       "</tr>\n",
       "<tr>\n",
       "  <th>Page Views Per Visit</th>                                 <td>   -0.2928</td> <td>    0.084</td> <td>   -3.501</td> <td> 0.000</td> <td>   -0.457</td> <td>   -0.129</td>\n",
       "</tr>\n",
       "<tr>\n",
       "  <th>A free copy of Mastering The Interview</th>               <td>   -0.0655</td> <td>    0.158</td> <td>   -0.414</td> <td> 0.679</td> <td>   -0.376</td> <td>    0.245</td>\n",
       "</tr>\n",
       "<tr>\n",
       "  <th>Lead Origin_Forms</th>                                    <td>    3.6192</td> <td>    0.965</td> <td>    3.749</td> <td> 0.000</td> <td>    1.727</td> <td>    5.511</td>\n",
       "</tr>\n",
       "<tr>\n",
       "  <th>Lead Origin_Landing Page Submission</th>                  <td>   -0.3752</td> <td>    0.208</td> <td>   -1.807</td> <td> 0.071</td> <td>   -0.782</td> <td>    0.032</td>\n",
       "</tr>\n",
       "<tr>\n",
       "  <th>Lead Origin_Lead Import</th>                              <td>    1.2479</td> <td>    1.760</td> <td>    0.709</td> <td> 0.478</td> <td>   -2.203</td> <td>    4.698</td>\n",
       "</tr>\n",
       "<tr>\n",
       "  <th>Lead Source_Google</th>                                   <td>    0.0669</td> <td>    0.165</td> <td>    0.405</td> <td> 0.685</td> <td>   -0.257</td> <td>    0.390</td>\n",
       "</tr>\n",
       "<tr>\n",
       "  <th>Lead Source_Olark Chat</th>                               <td>    0.9729</td> <td>    0.225</td> <td>    4.326</td> <td> 0.000</td> <td>    0.532</td> <td>    1.414</td>\n",
       "</tr>\n",
       "<tr>\n",
       "  <th>Lead Source_Organic Search</th>                           <td>   -0.3754</td> <td>    0.195</td> <td>   -1.924</td> <td> 0.054</td> <td>   -0.758</td> <td>    0.007</td>\n",
       "</tr>\n",
       "<tr>\n",
       "  <th>Lead Source_Other_Sources</th>                            <td>    0.9359</td> <td>    0.990</td> <td>    0.945</td> <td> 0.345</td> <td>   -1.005</td> <td>    2.877</td>\n",
       "</tr>\n",
       "<tr>\n",
       "  <th>Lead Source_Reference</th>                                <td>   -2.1193</td> <td>    1.031</td> <td>   -2.055</td> <td> 0.040</td> <td>   -4.141</td> <td>   -0.098</td>\n",
       "</tr>\n",
       "<tr>\n",
       "  <th>Lead Source_Referral Sites</th>                           <td>    0.0569</td> <td>    0.463</td> <td>    0.123</td> <td> 0.902</td> <td>   -0.851</td> <td>    0.965</td>\n",
       "</tr>\n",
       "<tr>\n",
       "  <th>Lead Source_Social Media</th>                             <td>   -1.2361</td> <td>    1.577</td> <td>   -0.784</td> <td> 0.433</td> <td>   -4.328</td> <td>    1.855</td>\n",
       "</tr>\n",
       "<tr>\n",
       "  <th>Lead Source_Welingak Website</th>                         <td>    2.6586</td> <td>    1.399</td> <td>    1.900</td> <td> 0.057</td> <td>   -0.084</td> <td>    5.402</td>\n",
       "</tr>\n",
       "<tr>\n",
       "  <th>Last Activity_Email Bounced</th>                          <td>   -0.9427</td> <td>    0.616</td> <td>   -1.530</td> <td> 0.126</td> <td>   -2.151</td> <td>    0.265</td>\n",
       "</tr>\n",
       "<tr>\n",
       "  <th>Last Activity_Email Link Clicked</th>                     <td>    0.3261</td> <td>    0.573</td> <td>    0.569</td> <td> 0.569</td> <td>   -0.796</td> <td>    1.448</td>\n",
       "</tr>\n",
       "<tr>\n",
       "  <th>Last Activity_Email Opened</th>                           <td>    0.7413</td> <td>    0.327</td> <td>    2.266</td> <td> 0.023</td> <td>    0.100</td> <td>    1.382</td>\n",
       "</tr>\n",
       "<tr>\n",
       "  <th>Last Activity_Form Submitted on Website</th>              <td>    0.5499</td> <td>    0.484</td> <td>    1.137</td> <td> 0.256</td> <td>   -0.398</td> <td>    1.498</td>\n",
       "</tr>\n",
       "<tr>\n",
       "  <th>Last Activity_Olark Chat Conversation</th>                <td>   -0.4947</td> <td>    0.358</td> <td>   -1.383</td> <td> 0.167</td> <td>   -1.196</td> <td>    0.206</td>\n",
       "</tr>\n",
       "<tr>\n",
       "  <th>Last Activity_Other_Activity</th>                         <td>   -0.1617</td> <td>    0.530</td> <td>   -0.305</td> <td> 0.760</td> <td>   -1.201</td> <td>    0.878</td>\n",
       "</tr>\n",
       "<tr>\n",
       "  <th>Last Activity_Page Visited on Website</th>                <td>   -0.2949</td> <td>    0.437</td> <td>   -0.675</td> <td> 0.500</td> <td>   -1.152</td> <td>    0.562</td>\n",
       "</tr>\n",
       "<tr>\n",
       "  <th>Last Activity_SMS Sent</th>                               <td>    1.1262</td> <td>    0.323</td> <td>    3.490</td> <td> 0.000</td> <td>    0.494</td> <td>    1.759</td>\n",
       "</tr>\n",
       "<tr>\n",
       "  <th>Specialization_Business Administration</th>               <td>   -0.1250</td> <td>    0.352</td> <td>   -0.355</td> <td> 0.723</td> <td>   -0.815</td> <td>    0.565</td>\n",
       "</tr>\n",
       "<tr>\n",
       "  <th>Specialization_E-Business</th>                            <td>    0.0974</td> <td>    0.620</td> <td>    0.157</td> <td> 0.875</td> <td>   -1.119</td> <td>    1.314</td>\n",
       "</tr>\n",
       "<tr>\n",
       "  <th>Specialization_E-COMMERCE</th>                            <td>    0.6419</td> <td>    0.496</td> <td>    1.294</td> <td> 0.196</td> <td>   -0.330</td> <td>    1.614</td>\n",
       "</tr>\n",
       "<tr>\n",
       "  <th>Specialization_International Business</th>                <td>   -0.3372</td> <td>    0.445</td> <td>   -0.757</td> <td> 0.449</td> <td>   -1.210</td> <td>    0.535</td>\n",
       "</tr>\n",
       "<tr>\n",
       "  <th>Specialization_Management_Specializations</th>            <td>   -0.0697</td> <td>    0.276</td> <td>   -0.253</td> <td> 0.800</td> <td>   -0.610</td> <td>    0.471</td>\n",
       "</tr>\n",
       "<tr>\n",
       "  <th>Specialization_Media and Advertising</th>                 <td>   -0.0362</td> <td>    0.437</td> <td>   -0.083</td> <td> 0.934</td> <td>   -0.893</td> <td>    0.821</td>\n",
       "</tr>\n",
       "<tr>\n",
       "  <th>Specialization_Not Mentioned</th>                         <td>   -0.0656</td> <td>    0.329</td> <td>   -0.199</td> <td> 0.842</td> <td>   -0.711</td> <td>    0.580</td>\n",
       "</tr>\n",
       "<tr>\n",
       "  <th>Specialization_Rural and Agribusiness</th>                <td>   -0.0362</td> <td>    0.639</td> <td>   -0.057</td> <td> 0.955</td> <td>   -1.289</td> <td>    1.217</td>\n",
       "</tr>\n",
       "<tr>\n",
       "  <th>Specialization_Services Excellence</th>                   <td>   -0.3277</td> <td>    0.748</td> <td>   -0.438</td> <td> 0.661</td> <td>   -1.794</td> <td>    1.139</td>\n",
       "</tr>\n",
       "<tr>\n",
       "  <th>Specialization_Travel and Tourism</th>                    <td>   -0.7750</td> <td>    0.486</td> <td>   -1.593</td> <td> 0.111</td> <td>   -1.728</td> <td>    0.178</td>\n",
       "</tr>\n",
       "<tr>\n",
       "  <th>What is your current occupation_Housewife</th>            <td>   17.6037</td> <td> 1.46e+04</td> <td>    0.001</td> <td> 0.999</td> <td>-2.86e+04</td> <td> 2.86e+04</td>\n",
       "</tr>\n",
       "<tr>\n",
       "  <th>What is your current occupation_Other</th>                <td>   -1.5197</td> <td>    1.819</td> <td>   -0.835</td> <td> 0.404</td> <td>   -5.086</td> <td>    2.046</td>\n",
       "</tr>\n",
       "<tr>\n",
       "  <th>What is your current occupation_Student</th>              <td>   -1.4144</td> <td>    1.463</td> <td>   -0.967</td> <td> 0.334</td> <td>   -4.282</td> <td>    1.453</td>\n",
       "</tr>\n",
       "<tr>\n",
       "  <th>What is your current occupation_Unemployed</th>           <td>   -2.0343</td> <td>    1.372</td> <td>   -1.482</td> <td> 0.138</td> <td>   -4.724</td> <td>    0.655</td>\n",
       "</tr>\n",
       "<tr>\n",
       "  <th>What is your current occupation_Working Professional</th> <td>   -1.1028</td> <td>    1.404</td> <td>   -0.785</td> <td> 0.432</td> <td>   -3.855</td> <td>    1.650</td>\n",
       "</tr>\n",
       "<tr>\n",
       "  <th>Tags_Closed by Horizzon</th>                              <td>    9.2600</td> <td>    0.958</td> <td>    9.666</td> <td> 0.000</td> <td>    7.382</td> <td>   11.138</td>\n",
       "</tr>\n",
       "<tr>\n",
       "  <th>Tags_Interested in other courses</th>                     <td>    0.8695</td> <td>    0.739</td> <td>    1.176</td> <td> 0.240</td> <td>   -0.579</td> <td>    2.319</td>\n",
       "</tr>\n",
       "<tr>\n",
       "  <th>Tags_Not Mentioned</th>                                   <td>    3.2836</td> <td>    0.622</td> <td>    5.275</td> <td> 0.000</td> <td>    2.064</td> <td>    4.504</td>\n",
       "</tr>\n",
       "<tr>\n",
       "  <th>Tags_Other_Tags</th>                                      <td>    3.4161</td> <td>    0.626</td> <td>    5.456</td> <td> 0.000</td> <td>    2.189</td> <td>    4.643</td>\n",
       "</tr>\n",
       "<tr>\n",
       "  <th>Tags_Ringing</th>                                         <td>    0.2290</td> <td>    0.658</td> <td>    0.348</td> <td> 0.728</td> <td>   -1.061</td> <td>    1.519</td>\n",
       "</tr>\n",
       "<tr>\n",
       "  <th>Tags_Will revert after reading the email</th>             <td>    7.4592</td> <td>    0.642</td> <td>   11.615</td> <td> 0.000</td> <td>    6.201</td> <td>    8.718</td>\n",
       "</tr>\n",
       "<tr>\n",
       "  <th>City_Other Cities</th>                                    <td>    0.3149</td> <td>    0.199</td> <td>    1.584</td> <td> 0.113</td> <td>   -0.075</td> <td>    0.705</td>\n",
       "</tr>\n",
       "<tr>\n",
       "  <th>City_Other Cities of Maharashtra</th>                     <td>   -0.0277</td> <td>    0.225</td> <td>   -0.124</td> <td> 0.902</td> <td>   -0.468</td> <td>    0.412</td>\n",
       "</tr>\n",
       "<tr>\n",
       "  <th>City_Other Metro Cities</th>                              <td>   -0.4862</td> <td>    0.274</td> <td>   -1.773</td> <td> 0.076</td> <td>   -1.024</td> <td>    0.051</td>\n",
       "</tr>\n",
       "<tr>\n",
       "  <th>City_Thane & Outskirts</th>                               <td>   -0.1192</td> <td>    0.197</td> <td>   -0.604</td> <td> 0.546</td> <td>   -0.506</td> <td>    0.268</td>\n",
       "</tr>\n",
       "<tr>\n",
       "  <th>City_Tier II Cities</th>                                  <td>    0.4423</td> <td>    0.572</td> <td>    0.773</td> <td> 0.439</td> <td>   -0.679</td> <td>    1.563</td>\n",
       "</tr>\n",
       "<tr>\n",
       "  <th>Last Notable Activity_Email Opened</th>                   <td>    0.2666</td> <td>    0.638</td> <td>    0.418</td> <td> 0.676</td> <td>   -0.984</td> <td>    1.518</td>\n",
       "</tr>\n",
       "<tr>\n",
       "  <th>Last Notable Activity_Modified</th>                       <td>   -0.0270</td> <td>    0.609</td> <td>   -0.044</td> <td> 0.965</td> <td>   -1.220</td> <td>    1.166</td>\n",
       "</tr>\n",
       "<tr>\n",
       "  <th>Last Notable Activity_Olark Chat Conversation</th>        <td>   -0.1226</td> <td>    0.746</td> <td>   -0.164</td> <td> 0.869</td> <td>   -1.584</td> <td>    1.339</td>\n",
       "</tr>\n",
       "<tr>\n",
       "  <th>Last Notable Activity_Other_Notable_Activity</th>         <td>    1.9557</td> <td>    0.825</td> <td>    2.370</td> <td> 0.018</td> <td>    0.338</td> <td>    3.573</td>\n",
       "</tr>\n",
       "<tr>\n",
       "  <th>Last Notable Activity_Page Visited on Website</th>        <td>    0.7589</td> <td>    0.747</td> <td>    1.016</td> <td> 0.310</td> <td>   -0.706</td> <td>    2.223</td>\n",
       "</tr>\n",
       "<tr>\n",
       "  <th>Last Notable Activity_SMS Sent</th>                       <td>    1.7472</td> <td>    0.638</td> <td>    2.739</td> <td> 0.006</td> <td>    0.497</td> <td>    2.997</td>\n",
       "</tr>\n",
       "</table>"
      ],
      "text/plain": [
       "<class 'statsmodels.iolib.summary.Summary'>\n",
       "\"\"\"\n",
       "                 Generalized Linear Model Regression Results                  \n",
       "==============================================================================\n",
       "Dep. Variable:              Converted   No. Observations:                 6363\n",
       "Model:                            GLM   Df Residuals:                     6306\n",
       "Model Family:                Binomial   Df Model:                           56\n",
       "Link Function:                  logit   Scale:                          1.0000\n",
       "Method:                          IRLS   Log-Likelihood:                -1465.9\n",
       "Date:                Sun, 11 Apr 2021   Deviance:                       2931.7\n",
       "Time:                        22:28:55   Pearson chi2:                 7.66e+03\n",
       "No. Iterations:                    21                                         \n",
       "Covariance Type:            nonrobust                                         \n",
       "========================================================================================================================\n",
       "                                                           coef    std err          z      P>|z|      [0.025      0.975]\n",
       "------------------------------------------------------------------------------------------------------------------------\n",
       "const                                                   -3.6214      1.673     -2.165      0.030      -6.900      -0.343\n",
       "Do Not Email                                            -1.2134      0.258     -4.696      0.000      -1.720      -0.707\n",
       "TotalVisits                                              0.2620      0.071      3.672      0.000       0.122       0.402\n",
       "Total Time Spent on Website                              1.1085      0.056     19.758      0.000       0.999       1.218\n",
       "Page Views Per Visit                                    -0.2928      0.084     -3.501      0.000      -0.457      -0.129\n",
       "A free copy of Mastering The Interview                  -0.0655      0.158     -0.414      0.679      -0.376       0.245\n",
       "Lead Origin_Forms                                        3.6192      0.965      3.749      0.000       1.727       5.511\n",
       "Lead Origin_Landing Page Submission                     -0.3752      0.208     -1.807      0.071      -0.782       0.032\n",
       "Lead Origin_Lead Import                                  1.2479      1.760      0.709      0.478      -2.203       4.698\n",
       "Lead Source_Google                                       0.0669      0.165      0.405      0.685      -0.257       0.390\n",
       "Lead Source_Olark Chat                                   0.9729      0.225      4.326      0.000       0.532       1.414\n",
       "Lead Source_Organic Search                              -0.3754      0.195     -1.924      0.054      -0.758       0.007\n",
       "Lead Source_Other_Sources                                0.9359      0.990      0.945      0.345      -1.005       2.877\n",
       "Lead Source_Reference                                   -2.1193      1.031     -2.055      0.040      -4.141      -0.098\n",
       "Lead Source_Referral Sites                               0.0569      0.463      0.123      0.902      -0.851       0.965\n",
       "Lead Source_Social Media                                -1.2361      1.577     -0.784      0.433      -4.328       1.855\n",
       "Lead Source_Welingak Website                             2.6586      1.399      1.900      0.057      -0.084       5.402\n",
       "Last Activity_Email Bounced                             -0.9427      0.616     -1.530      0.126      -2.151       0.265\n",
       "Last Activity_Email Link Clicked                         0.3261      0.573      0.569      0.569      -0.796       1.448\n",
       "Last Activity_Email Opened                               0.7413      0.327      2.266      0.023       0.100       1.382\n",
       "Last Activity_Form Submitted on Website                  0.5499      0.484      1.137      0.256      -0.398       1.498\n",
       "Last Activity_Olark Chat Conversation                   -0.4947      0.358     -1.383      0.167      -1.196       0.206\n",
       "Last Activity_Other_Activity                            -0.1617      0.530     -0.305      0.760      -1.201       0.878\n",
       "Last Activity_Page Visited on Website                   -0.2949      0.437     -0.675      0.500      -1.152       0.562\n",
       "Last Activity_SMS Sent                                   1.1262      0.323      3.490      0.000       0.494       1.759\n",
       "Specialization_Business Administration                  -0.1250      0.352     -0.355      0.723      -0.815       0.565\n",
       "Specialization_E-Business                                0.0974      0.620      0.157      0.875      -1.119       1.314\n",
       "Specialization_E-COMMERCE                                0.6419      0.496      1.294      0.196      -0.330       1.614\n",
       "Specialization_International Business                   -0.3372      0.445     -0.757      0.449      -1.210       0.535\n",
       "Specialization_Management_Specializations               -0.0697      0.276     -0.253      0.800      -0.610       0.471\n",
       "Specialization_Media and Advertising                    -0.0362      0.437     -0.083      0.934      -0.893       0.821\n",
       "Specialization_Not Mentioned                            -0.0656      0.329     -0.199      0.842      -0.711       0.580\n",
       "Specialization_Rural and Agribusiness                   -0.0362      0.639     -0.057      0.955      -1.289       1.217\n",
       "Specialization_Services Excellence                      -0.3277      0.748     -0.438      0.661      -1.794       1.139\n",
       "Specialization_Travel and Tourism                       -0.7750      0.486     -1.593      0.111      -1.728       0.178\n",
       "What is your current occupation_Housewife               17.6037   1.46e+04      0.001      0.999   -2.86e+04    2.86e+04\n",
       "What is your current occupation_Other                   -1.5197      1.819     -0.835      0.404      -5.086       2.046\n",
       "What is your current occupation_Student                 -1.4144      1.463     -0.967      0.334      -4.282       1.453\n",
       "What is your current occupation_Unemployed              -2.0343      1.372     -1.482      0.138      -4.724       0.655\n",
       "What is your current occupation_Working Professional    -1.1028      1.404     -0.785      0.432      -3.855       1.650\n",
       "Tags_Closed by Horizzon                                  9.2600      0.958      9.666      0.000       7.382      11.138\n",
       "Tags_Interested in other courses                         0.8695      0.739      1.176      0.240      -0.579       2.319\n",
       "Tags_Not Mentioned                                       3.2836      0.622      5.275      0.000       2.064       4.504\n",
       "Tags_Other_Tags                                          3.4161      0.626      5.456      0.000       2.189       4.643\n",
       "Tags_Ringing                                             0.2290      0.658      0.348      0.728      -1.061       1.519\n",
       "Tags_Will revert after reading the email                 7.4592      0.642     11.615      0.000       6.201       8.718\n",
       "City_Other Cities                                        0.3149      0.199      1.584      0.113      -0.075       0.705\n",
       "City_Other Cities of Maharashtra                        -0.0277      0.225     -0.124      0.902      -0.468       0.412\n",
       "City_Other Metro Cities                                 -0.4862      0.274     -1.773      0.076      -1.024       0.051\n",
       "City_Thane & Outskirts                                  -0.1192      0.197     -0.604      0.546      -0.506       0.268\n",
       "City_Tier II Cities                                      0.4423      0.572      0.773      0.439      -0.679       1.563\n",
       "Last Notable Activity_Email Opened                       0.2666      0.638      0.418      0.676      -0.984       1.518\n",
       "Last Notable Activity_Modified                          -0.0270      0.609     -0.044      0.965      -1.220       1.166\n",
       "Last Notable Activity_Olark Chat Conversation           -0.1226      0.746     -0.164      0.869      -1.584       1.339\n",
       "Last Notable Activity_Other_Notable_Activity             1.9557      0.825      2.370      0.018       0.338       3.573\n",
       "Last Notable Activity_Page Visited on Website            0.7589      0.747      1.016      0.310      -0.706       2.223\n",
       "Last Notable Activity_SMS Sent                           1.7472      0.638      2.739      0.006       0.497       2.997\n",
       "========================================================================================================================\n",
       "\"\"\""
      ]
     },
     "execution_count": 101,
     "metadata": {},
     "output_type": "execute_result"
    }
   ],
   "source": [
    "# Logistic regression model\n",
    "lm1 = sm.GLM(y_train,(sm.add_constant(X_train)), family = sm.families.Binomial())\n",
    "lm1.fit().summary()"
   ]
  },
  {
   "cell_type": "markdown",
   "metadata": {},
   "source": [
    "## Step 8: Feature Selection Using RFE"
   ]
  },
  {
   "cell_type": "code",
   "execution_count": 102,
   "metadata": {},
   "outputs": [
    {
     "data": {
      "text/plain": [
       "array([ True, False,  True, False, False,  True, False, False, False,\n",
       "        True, False, False,  True, False, False,  True,  True, False,\n",
       "        True, False, False, False, False,  True, False, False, False,\n",
       "       False, False, False, False, False, False,  True, False, False,\n",
       "        True,  True, False,  True,  True,  True,  True,  True,  True,\n",
       "       False, False, False, False, False, False, False, False,  True,\n",
       "       False,  True])"
      ]
     },
     "execution_count": 102,
     "metadata": {},
     "output_type": "execute_result"
    }
   ],
   "source": [
    "# Creating the logistic regression instance\n",
    "lr = LogisticRegression()\n",
    "\n",
    "# running RFE with 20 variables as output. As a result out of 56 variables, 36 will be eliminated based on RFE\n",
    "rfe = RFE(lr, 20)\n",
    "rfe = rfe.fit(X_train, y_train)\n",
    "rfe.support_"
   ]
  },
  {
   "cell_type": "code",
   "execution_count": 103,
   "metadata": {},
   "outputs": [
    {
     "data": {
      "text/plain": [
       "[('Do Not Email', True, 1),\n",
       " ('TotalVisits', False, 16),\n",
       " ('Total Time Spent on Website', True, 1),\n",
       " ('Page Views Per Visit', False, 15),\n",
       " ('A free copy of Mastering The Interview', False, 24),\n",
       " ('Lead Origin_Forms', True, 1),\n",
       " ('Lead Origin_Landing Page Submission', False, 7),\n",
       " ('Lead Origin_Lead Import', False, 26),\n",
       " ('Lead Source_Google', False, 27),\n",
       " ('Lead Source_Olark Chat', True, 1),\n",
       " ('Lead Source_Organic Search', False, 11),\n",
       " ('Lead Source_Other_Sources', False, 4),\n",
       " ('Lead Source_Reference', True, 1),\n",
       " ('Lead Source_Referral Sites', False, 33),\n",
       " ('Lead Source_Social Media', False, 22),\n",
       " ('Lead Source_Welingak Website', True, 1),\n",
       " ('Last Activity_Email Bounced', True, 1),\n",
       " ('Last Activity_Email Link Clicked', False, 36),\n",
       " ('Last Activity_Email Opened', True, 1),\n",
       " ('Last Activity_Form Submitted on Website', False, 8),\n",
       " ('Last Activity_Olark Chat Conversation', False, 2),\n",
       " ('Last Activity_Other_Activity', False, 30),\n",
       " ('Last Activity_Page Visited on Website', False, 20),\n",
       " ('Last Activity_SMS Sent', True, 1),\n",
       " ('Specialization_Business Administration', False, 29),\n",
       " ('Specialization_E-Business', False, 23),\n",
       " ('Specialization_E-COMMERCE', False, 6),\n",
       " ('Specialization_International Business', False, 18),\n",
       " ('Specialization_Management_Specializations', False, 32),\n",
       " ('Specialization_Media and Advertising', False, 34),\n",
       " ('Specialization_Not Mentioned', False, 31),\n",
       " ('Specialization_Rural and Agribusiness', False, 35),\n",
       " ('Specialization_Services Excellence', False, 19),\n",
       " ('Specialization_Travel and Tourism', True, 1),\n",
       " ('What is your current occupation_Housewife', False, 12),\n",
       " ('What is your current occupation_Other', False, 25),\n",
       " ('What is your current occupation_Student', True, 1),\n",
       " ('What is your current occupation_Unemployed', True, 1),\n",
       " ('What is your current occupation_Working Professional', False, 5),\n",
       " ('Tags_Closed by Horizzon', True, 1),\n",
       " ('Tags_Interested in other courses', True, 1),\n",
       " ('Tags_Not Mentioned', True, 1),\n",
       " ('Tags_Other_Tags', True, 1),\n",
       " ('Tags_Ringing', True, 1),\n",
       " ('Tags_Will revert after reading the email', True, 1),\n",
       " ('City_Other Cities', False, 13),\n",
       " ('City_Other Cities of Maharashtra', False, 37),\n",
       " ('City_Other Metro Cities', False, 3),\n",
       " ('City_Thane & Outskirts', False, 28),\n",
       " ('City_Tier II Cities', False, 14),\n",
       " ('Last Notable Activity_Email Opened', False, 17),\n",
       " ('Last Notable Activity_Modified', False, 9),\n",
       " ('Last Notable Activity_Olark Chat Conversation', False, 10),\n",
       " ('Last Notable Activity_Other_Notable_Activity', True, 1),\n",
       " ('Last Notable Activity_Page Visited on Website', False, 21),\n",
       " ('Last Notable Activity_SMS Sent', True, 1)]"
      ]
     },
     "execution_count": 103,
     "metadata": {},
     "output_type": "execute_result"
    }
   ],
   "source": [
    "list(zip(X_train.columns, rfe.support_, rfe.ranking_))"
   ]
  },
  {
   "cell_type": "code",
   "execution_count": 104,
   "metadata": {},
   "outputs": [
    {
     "data": {
      "text/plain": [
       "Index(['Do Not Email', 'Total Time Spent on Website', 'Lead Origin_Forms',\n",
       "       'Lead Source_Olark Chat', 'Lead Source_Reference',\n",
       "       'Lead Source_Welingak Website', 'Last Activity_Email Bounced',\n",
       "       'Last Activity_Email Opened', 'Last Activity_SMS Sent',\n",
       "       'Specialization_Travel and Tourism',\n",
       "       'What is your current occupation_Student',\n",
       "       'What is your current occupation_Unemployed', 'Tags_Closed by Horizzon',\n",
       "       'Tags_Interested in other courses', 'Tags_Not Mentioned',\n",
       "       'Tags_Other_Tags', 'Tags_Ringing',\n",
       "       'Tags_Will revert after reading the email',\n",
       "       'Last Notable Activity_Other_Notable_Activity',\n",
       "       'Last Notable Activity_SMS Sent'],\n",
       "      dtype='object')"
      ]
     },
     "execution_count": 104,
     "metadata": {},
     "output_type": "execute_result"
    }
   ],
   "source": [
    "# Storing the variable names from the X_train dataframe having rfe.support_ value as True into another variable col\n",
    "col = X_train.columns[rfe.support_]\n",
    "col"
   ]
  },
  {
   "cell_type": "markdown",
   "metadata": {},
   "source": [
    "#### Building Model 2"
   ]
  },
  {
   "cell_type": "code",
   "execution_count": 105,
   "metadata": {},
   "outputs": [
    {
     "data": {
      "text/html": [
       "<table class=\"simpletable\">\n",
       "<caption>Generalized Linear Model Regression Results</caption>\n",
       "<tr>\n",
       "  <th>Dep. Variable:</th>       <td>Converted</td>    <th>  No. Observations:  </th>  <td>  6363</td> \n",
       "</tr>\n",
       "<tr>\n",
       "  <th>Model:</th>                  <td>GLM</td>       <th>  Df Residuals:      </th>  <td>  6342</td> \n",
       "</tr>\n",
       "<tr>\n",
       "  <th>Model Family:</th>        <td>Binomial</td>     <th>  Df Model:          </th>  <td>    20</td> \n",
       "</tr>\n",
       "<tr>\n",
       "  <th>Link Function:</th>         <td>logit</td>      <th>  Scale:             </th> <td>  1.0000</td>\n",
       "</tr>\n",
       "<tr>\n",
       "  <th>Method:</th>                <td>IRLS</td>       <th>  Log-Likelihood:    </th> <td> -1501.1</td>\n",
       "</tr>\n",
       "<tr>\n",
       "  <th>Date:</th>            <td>Sun, 11 Apr 2021</td> <th>  Deviance:          </th> <td>  3002.2</td>\n",
       "</tr>\n",
       "<tr>\n",
       "  <th>Time:</th>                <td>22:28:59</td>     <th>  Pearson chi2:      </th> <td>7.14e+03</td>\n",
       "</tr>\n",
       "<tr>\n",
       "  <th>No. Iterations:</th>          <td>8</td>        <th>                     </th>     <td> </td>   \n",
       "</tr>\n",
       "<tr>\n",
       "  <th>Covariance Type:</th>     <td>nonrobust</td>    <th>                     </th>     <td> </td>   \n",
       "</tr>\n",
       "</table>\n",
       "<table class=\"simpletable\">\n",
       "<tr>\n",
       "                        <td></td>                          <th>coef</th>     <th>std err</th>      <th>z</th>      <th>P>|z|</th>  <th>[0.025</th>    <th>0.975]</th>  \n",
       "</tr>\n",
       "<tr>\n",
       "  <th>const</th>                                        <td>   -5.0331</td> <td>    0.682</td> <td>   -7.382</td> <td> 0.000</td> <td>   -6.369</td> <td>   -3.697</td>\n",
       "</tr>\n",
       "<tr>\n",
       "  <th>Do Not Email</th>                                 <td>   -1.2422</td> <td>    0.251</td> <td>   -4.948</td> <td> 0.000</td> <td>   -1.734</td> <td>   -0.750</td>\n",
       "</tr>\n",
       "<tr>\n",
       "  <th>Total Time Spent on Website</th>                  <td>    1.1033</td> <td>    0.055</td> <td>   20.236</td> <td> 0.000</td> <td>    0.996</td> <td>    1.210</td>\n",
       "</tr>\n",
       "<tr>\n",
       "  <th>Lead Origin_Forms</th>                            <td>    4.0352</td> <td>    0.937</td> <td>    4.306</td> <td> 0.000</td> <td>    2.199</td> <td>    5.872</td>\n",
       "</tr>\n",
       "<tr>\n",
       "  <th>Lead Source_Olark Chat</th>                       <td>    1.2379</td> <td>    0.135</td> <td>    9.156</td> <td> 0.000</td> <td>    0.973</td> <td>    1.503</td>\n",
       "</tr>\n",
       "<tr>\n",
       "  <th>Lead Source_Reference</th>                        <td>   -2.1160</td> <td>    0.994</td> <td>   -2.130</td> <td> 0.033</td> <td>   -4.064</td> <td>   -0.168</td>\n",
       "</tr>\n",
       "<tr>\n",
       "  <th>Lead Source_Welingak Website</th>                 <td>    2.6218</td> <td>    1.377</td> <td>    1.904</td> <td> 0.057</td> <td>   -0.077</td> <td>    5.321</td>\n",
       "</tr>\n",
       "<tr>\n",
       "  <th>Last Activity_Email Bounced</th>                  <td>   -0.9187</td> <td>    0.527</td> <td>   -1.744</td> <td> 0.081</td> <td>   -1.951</td> <td>    0.114</td>\n",
       "</tr>\n",
       "<tr>\n",
       "  <th>Last Activity_Email Opened</th>                   <td>    0.9948</td> <td>    0.128</td> <td>    7.791</td> <td> 0.000</td> <td>    0.745</td> <td>    1.245</td>\n",
       "</tr>\n",
       "<tr>\n",
       "  <th>Last Activity_SMS Sent</th>                       <td>    1.0946</td> <td>    0.196</td> <td>    5.574</td> <td> 0.000</td> <td>    0.710</td> <td>    1.480</td>\n",
       "</tr>\n",
       "<tr>\n",
       "  <th>Specialization_Travel and Tourism</th>            <td>   -0.8795</td> <td>    0.397</td> <td>   -2.216</td> <td> 0.027</td> <td>   -1.657</td> <td>   -0.102</td>\n",
       "</tr>\n",
       "<tr>\n",
       "  <th>What is your current occupation_Student</th>      <td>   -0.3705</td> <td>    0.558</td> <td>   -0.664</td> <td> 0.507</td> <td>   -1.464</td> <td>    0.723</td>\n",
       "</tr>\n",
       "<tr>\n",
       "  <th>What is your current occupation_Unemployed</th>   <td>   -0.8903</td> <td>    0.289</td> <td>   -3.085</td> <td> 0.002</td> <td>   -1.456</td> <td>   -0.325</td>\n",
       "</tr>\n",
       "<tr>\n",
       "  <th>Tags_Closed by Horizzon</th>                      <td>    9.0559</td> <td>    0.948</td> <td>    9.554</td> <td> 0.000</td> <td>    7.198</td> <td>   10.914</td>\n",
       "</tr>\n",
       "<tr>\n",
       "  <th>Tags_Interested in other courses</th>             <td>    0.7216</td> <td>    0.727</td> <td>    0.993</td> <td> 0.321</td> <td>   -0.703</td> <td>    2.146</td>\n",
       "</tr>\n",
       "<tr>\n",
       "  <th>Tags_Not Mentioned</th>                           <td>    3.2016</td> <td>    0.613</td> <td>    5.219</td> <td> 0.000</td> <td>    1.999</td> <td>    4.404</td>\n",
       "</tr>\n",
       "<tr>\n",
       "  <th>Tags_Other_Tags</th>                              <td>    3.2366</td> <td>    0.617</td> <td>    5.247</td> <td> 0.000</td> <td>    2.028</td> <td>    4.446</td>\n",
       "</tr>\n",
       "<tr>\n",
       "  <th>Tags_Ringing</th>                                 <td>    0.1055</td> <td>    0.651</td> <td>    0.162</td> <td> 0.871</td> <td>   -1.170</td> <td>    1.381</td>\n",
       "</tr>\n",
       "<tr>\n",
       "  <th>Tags_Will revert after reading the email</th>     <td>    7.2569</td> <td>    0.630</td> <td>   11.515</td> <td> 0.000</td> <td>    6.022</td> <td>    8.492</td>\n",
       "</tr>\n",
       "<tr>\n",
       "  <th>Last Notable Activity_Other_Notable_Activity</th> <td>    1.8177</td> <td>    0.463</td> <td>    3.928</td> <td> 0.000</td> <td>    0.911</td> <td>    2.725</td>\n",
       "</tr>\n",
       "<tr>\n",
       "  <th>Last Notable Activity_SMS Sent</th>               <td>    1.7376</td> <td>    0.191</td> <td>    9.097</td> <td> 0.000</td> <td>    1.363</td> <td>    2.112</td>\n",
       "</tr>\n",
       "</table>"
      ],
      "text/plain": [
       "<class 'statsmodels.iolib.summary.Summary'>\n",
       "\"\"\"\n",
       "                 Generalized Linear Model Regression Results                  \n",
       "==============================================================================\n",
       "Dep. Variable:              Converted   No. Observations:                 6363\n",
       "Model:                            GLM   Df Residuals:                     6342\n",
       "Model Family:                Binomial   Df Model:                           20\n",
       "Link Function:                  logit   Scale:                          1.0000\n",
       "Method:                          IRLS   Log-Likelihood:                -1501.1\n",
       "Date:                Sun, 11 Apr 2021   Deviance:                       3002.2\n",
       "Time:                        22:28:59   Pearson chi2:                 7.14e+03\n",
       "No. Iterations:                     8                                         \n",
       "Covariance Type:            nonrobust                                         \n",
       "================================================================================================================\n",
       "                                                   coef    std err          z      P>|z|      [0.025      0.975]\n",
       "----------------------------------------------------------------------------------------------------------------\n",
       "const                                           -5.0331      0.682     -7.382      0.000      -6.369      -3.697\n",
       "Do Not Email                                    -1.2422      0.251     -4.948      0.000      -1.734      -0.750\n",
       "Total Time Spent on Website                      1.1033      0.055     20.236      0.000       0.996       1.210\n",
       "Lead Origin_Forms                                4.0352      0.937      4.306      0.000       2.199       5.872\n",
       "Lead Source_Olark Chat                           1.2379      0.135      9.156      0.000       0.973       1.503\n",
       "Lead Source_Reference                           -2.1160      0.994     -2.130      0.033      -4.064      -0.168\n",
       "Lead Source_Welingak Website                     2.6218      1.377      1.904      0.057      -0.077       5.321\n",
       "Last Activity_Email Bounced                     -0.9187      0.527     -1.744      0.081      -1.951       0.114\n",
       "Last Activity_Email Opened                       0.9948      0.128      7.791      0.000       0.745       1.245\n",
       "Last Activity_SMS Sent                           1.0946      0.196      5.574      0.000       0.710       1.480\n",
       "Specialization_Travel and Tourism               -0.8795      0.397     -2.216      0.027      -1.657      -0.102\n",
       "What is your current occupation_Student         -0.3705      0.558     -0.664      0.507      -1.464       0.723\n",
       "What is your current occupation_Unemployed      -0.8903      0.289     -3.085      0.002      -1.456      -0.325\n",
       "Tags_Closed by Horizzon                          9.0559      0.948      9.554      0.000       7.198      10.914\n",
       "Tags_Interested in other courses                 0.7216      0.727      0.993      0.321      -0.703       2.146\n",
       "Tags_Not Mentioned                               3.2016      0.613      5.219      0.000       1.999       4.404\n",
       "Tags_Other_Tags                                  3.2366      0.617      5.247      0.000       2.028       4.446\n",
       "Tags_Ringing                                     0.1055      0.651      0.162      0.871      -1.170       1.381\n",
       "Tags_Will revert after reading the email         7.2569      0.630     11.515      0.000       6.022       8.492\n",
       "Last Notable Activity_Other_Notable_Activity     1.8177      0.463      3.928      0.000       0.911       2.725\n",
       "Last Notable Activity_SMS Sent                   1.7376      0.191      9.097      0.000       1.363       2.112\n",
       "================================================================================================================\n",
       "\"\"\""
      ]
     },
     "execution_count": 105,
     "metadata": {},
     "output_type": "execute_result"
    }
   ],
   "source": [
    "# Building Model-2 after dropping 36 variables and checking the summary.\n",
    "\n",
    "X_train_sm = sm.add_constant(X_train[col])\n",
    "lm2 = sm.GLM(y_train,X_train_sm, family = sm.families.Binomial())\n",
    "res = lm2.fit()\n",
    "res.summary()"
   ]
  },
  {
   "cell_type": "markdown",
   "metadata": {},
   "source": [
    "#### Dropping the column 'Tags_Ringing' since it has high p-value hence it is insignificant."
   ]
  },
  {
   "cell_type": "code",
   "execution_count": 106,
   "metadata": {},
   "outputs": [
    {
     "data": {
      "text/plain": [
       "Index(['Do Not Email', 'Total Time Spent on Website', 'Lead Origin_Forms',\n",
       "       'Lead Source_Olark Chat', 'Lead Source_Reference',\n",
       "       'Lead Source_Welingak Website', 'Last Activity_Email Bounced',\n",
       "       'Last Activity_Email Opened', 'Last Activity_SMS Sent',\n",
       "       'Specialization_Travel and Tourism',\n",
       "       'What is your current occupation_Student',\n",
       "       'What is your current occupation_Unemployed', 'Tags_Closed by Horizzon',\n",
       "       'Tags_Interested in other courses', 'Tags_Not Mentioned',\n",
       "       'Tags_Other_Tags', 'Tags_Will revert after reading the email',\n",
       "       'Last Notable Activity_Other_Notable_Activity',\n",
       "       'Last Notable Activity_SMS Sent'],\n",
       "      dtype='object')"
      ]
     },
     "execution_count": 106,
     "metadata": {},
     "output_type": "execute_result"
    }
   ],
   "source": [
    "col = col.drop('Tags_Ringing', 1)\n",
    "col"
   ]
  },
  {
   "cell_type": "markdown",
   "metadata": {},
   "source": [
    "#### Building Model 3"
   ]
  },
  {
   "cell_type": "code",
   "execution_count": 107,
   "metadata": {},
   "outputs": [
    {
     "data": {
      "text/html": [
       "<table class=\"simpletable\">\n",
       "<caption>Generalized Linear Model Regression Results</caption>\n",
       "<tr>\n",
       "  <th>Dep. Variable:</th>       <td>Converted</td>    <th>  No. Observations:  </th>  <td>  6363</td> \n",
       "</tr>\n",
       "<tr>\n",
       "  <th>Model:</th>                  <td>GLM</td>       <th>  Df Residuals:      </th>  <td>  6343</td> \n",
       "</tr>\n",
       "<tr>\n",
       "  <th>Model Family:</th>        <td>Binomial</td>     <th>  Df Model:          </th>  <td>    19</td> \n",
       "</tr>\n",
       "<tr>\n",
       "  <th>Link Function:</th>         <td>logit</td>      <th>  Scale:             </th> <td>  1.0000</td>\n",
       "</tr>\n",
       "<tr>\n",
       "  <th>Method:</th>                <td>IRLS</td>       <th>  Log-Likelihood:    </th> <td> -1501.1</td>\n",
       "</tr>\n",
       "<tr>\n",
       "  <th>Date:</th>            <td>Sun, 11 Apr 2021</td> <th>  Deviance:          </th> <td>  3002.2</td>\n",
       "</tr>\n",
       "<tr>\n",
       "  <th>Time:</th>                <td>22:29:00</td>     <th>  Pearson chi2:      </th> <td>7.15e+03</td>\n",
       "</tr>\n",
       "<tr>\n",
       "  <th>No. Iterations:</th>          <td>8</td>        <th>                     </th>     <td> </td>   \n",
       "</tr>\n",
       "<tr>\n",
       "  <th>Covariance Type:</th>     <td>nonrobust</td>    <th>                     </th>     <td> </td>   \n",
       "</tr>\n",
       "</table>\n",
       "<table class=\"simpletable\">\n",
       "<tr>\n",
       "                        <td></td>                          <th>coef</th>     <th>std err</th>      <th>z</th>      <th>P>|z|</th>  <th>[0.025</th>    <th>0.975]</th>  \n",
       "</tr>\n",
       "<tr>\n",
       "  <th>const</th>                                        <td>   -4.9414</td> <td>    0.375</td> <td>  -13.165</td> <td> 0.000</td> <td>   -5.677</td> <td>   -4.206</td>\n",
       "</tr>\n",
       "<tr>\n",
       "  <th>Do Not Email</th>                                 <td>   -1.2431</td> <td>    0.251</td> <td>   -4.952</td> <td> 0.000</td> <td>   -1.735</td> <td>   -0.751</td>\n",
       "</tr>\n",
       "<tr>\n",
       "  <th>Total Time Spent on Website</th>                  <td>    1.1032</td> <td>    0.055</td> <td>   20.237</td> <td> 0.000</td> <td>    0.996</td> <td>    1.210</td>\n",
       "</tr>\n",
       "<tr>\n",
       "  <th>Lead Origin_Forms</th>                            <td>    4.0385</td> <td>    0.938</td> <td>    4.307</td> <td> 0.000</td> <td>    2.201</td> <td>    5.876</td>\n",
       "</tr>\n",
       "<tr>\n",
       "  <th>Lead Source_Olark Chat</th>                       <td>    1.2372</td> <td>    0.135</td> <td>    9.156</td> <td> 0.000</td> <td>    0.972</td> <td>    1.502</td>\n",
       "</tr>\n",
       "<tr>\n",
       "  <th>Lead Source_Reference</th>                        <td>   -2.1177</td> <td>    0.994</td> <td>   -2.129</td> <td> 0.033</td> <td>   -4.067</td> <td>   -0.169</td>\n",
       "</tr>\n",
       "<tr>\n",
       "  <th>Lead Source_Welingak Website</th>                 <td>    2.6184</td> <td>    1.378</td> <td>    1.901</td> <td> 0.057</td> <td>   -0.082</td> <td>    5.318</td>\n",
       "</tr>\n",
       "<tr>\n",
       "  <th>Last Activity_Email Bounced</th>                  <td>   -0.9181</td> <td>    0.527</td> <td>   -1.743</td> <td> 0.081</td> <td>   -1.951</td> <td>    0.114</td>\n",
       "</tr>\n",
       "<tr>\n",
       "  <th>Last Activity_Email Opened</th>                   <td>    0.9943</td> <td>    0.128</td> <td>    7.791</td> <td> 0.000</td> <td>    0.744</td> <td>    1.244</td>\n",
       "</tr>\n",
       "<tr>\n",
       "  <th>Last Activity_SMS Sent</th>                       <td>    1.0948</td> <td>    0.196</td> <td>    5.575</td> <td> 0.000</td> <td>    0.710</td> <td>    1.480</td>\n",
       "</tr>\n",
       "<tr>\n",
       "  <th>Specialization_Travel and Tourism</th>            <td>   -0.8801</td> <td>    0.397</td> <td>   -2.218</td> <td> 0.027</td> <td>   -1.658</td> <td>   -0.102</td>\n",
       "</tr>\n",
       "<tr>\n",
       "  <th>What is your current occupation_Student</th>      <td>   -0.3863</td> <td>    0.548</td> <td>   -0.705</td> <td> 0.481</td> <td>   -1.459</td> <td>    0.687</td>\n",
       "</tr>\n",
       "<tr>\n",
       "  <th>What is your current occupation_Unemployed</th>   <td>   -0.8897</td> <td>    0.289</td> <td>   -3.083</td> <td> 0.002</td> <td>   -1.455</td> <td>   -0.324</td>\n",
       "</tr>\n",
       "<tr>\n",
       "  <th>Tags_Closed by Horizzon</th>                      <td>    8.9636</td> <td>    0.755</td> <td>   11.869</td> <td> 0.000</td> <td>    7.483</td> <td>   10.444</td>\n",
       "</tr>\n",
       "<tr>\n",
       "  <th>Tags_Interested in other courses</th>             <td>    0.6300</td> <td>    0.453</td> <td>    1.391</td> <td> 0.164</td> <td>   -0.258</td> <td>    1.518</td>\n",
       "</tr>\n",
       "<tr>\n",
       "  <th>Tags_Not Mentioned</th>                           <td>    3.1093</td> <td>    0.220</td> <td>   14.118</td> <td> 0.000</td> <td>    2.678</td> <td>    3.541</td>\n",
       "</tr>\n",
       "<tr>\n",
       "  <th>Tags_Other_Tags</th>                              <td>    3.1443</td> <td>    0.229</td> <td>   13.715</td> <td> 0.000</td> <td>    2.695</td> <td>    3.594</td>\n",
       "</tr>\n",
       "<tr>\n",
       "  <th>Tags_Will revert after reading the email</th>     <td>    7.1650</td> <td>    0.269</td> <td>   26.683</td> <td> 0.000</td> <td>    6.639</td> <td>    7.691</td>\n",
       "</tr>\n",
       "<tr>\n",
       "  <th>Last Notable Activity_Other_Notable_Activity</th> <td>    1.8179</td> <td>    0.463</td> <td>    3.928</td> <td> 0.000</td> <td>    0.911</td> <td>    2.725</td>\n",
       "</tr>\n",
       "<tr>\n",
       "  <th>Last Notable Activity_SMS Sent</th>               <td>    1.7394</td> <td>    0.191</td> <td>    9.121</td> <td> 0.000</td> <td>    1.366</td> <td>    2.113</td>\n",
       "</tr>\n",
       "</table>"
      ],
      "text/plain": [
       "<class 'statsmodels.iolib.summary.Summary'>\n",
       "\"\"\"\n",
       "                 Generalized Linear Model Regression Results                  \n",
       "==============================================================================\n",
       "Dep. Variable:              Converted   No. Observations:                 6363\n",
       "Model:                            GLM   Df Residuals:                     6343\n",
       "Model Family:                Binomial   Df Model:                           19\n",
       "Link Function:                  logit   Scale:                          1.0000\n",
       "Method:                          IRLS   Log-Likelihood:                -1501.1\n",
       "Date:                Sun, 11 Apr 2021   Deviance:                       3002.2\n",
       "Time:                        22:29:00   Pearson chi2:                 7.15e+03\n",
       "No. Iterations:                     8                                         \n",
       "Covariance Type:            nonrobust                                         \n",
       "================================================================================================================\n",
       "                                                   coef    std err          z      P>|z|      [0.025      0.975]\n",
       "----------------------------------------------------------------------------------------------------------------\n",
       "const                                           -4.9414      0.375    -13.165      0.000      -5.677      -4.206\n",
       "Do Not Email                                    -1.2431      0.251     -4.952      0.000      -1.735      -0.751\n",
       "Total Time Spent on Website                      1.1032      0.055     20.237      0.000       0.996       1.210\n",
       "Lead Origin_Forms                                4.0385      0.938      4.307      0.000       2.201       5.876\n",
       "Lead Source_Olark Chat                           1.2372      0.135      9.156      0.000       0.972       1.502\n",
       "Lead Source_Reference                           -2.1177      0.994     -2.129      0.033      -4.067      -0.169\n",
       "Lead Source_Welingak Website                     2.6184      1.378      1.901      0.057      -0.082       5.318\n",
       "Last Activity_Email Bounced                     -0.9181      0.527     -1.743      0.081      -1.951       0.114\n",
       "Last Activity_Email Opened                       0.9943      0.128      7.791      0.000       0.744       1.244\n",
       "Last Activity_SMS Sent                           1.0948      0.196      5.575      0.000       0.710       1.480\n",
       "Specialization_Travel and Tourism               -0.8801      0.397     -2.218      0.027      -1.658      -0.102\n",
       "What is your current occupation_Student         -0.3863      0.548     -0.705      0.481      -1.459       0.687\n",
       "What is your current occupation_Unemployed      -0.8897      0.289     -3.083      0.002      -1.455      -0.324\n",
       "Tags_Closed by Horizzon                          8.9636      0.755     11.869      0.000       7.483      10.444\n",
       "Tags_Interested in other courses                 0.6300      0.453      1.391      0.164      -0.258       1.518\n",
       "Tags_Not Mentioned                               3.1093      0.220     14.118      0.000       2.678       3.541\n",
       "Tags_Other_Tags                                  3.1443      0.229     13.715      0.000       2.695       3.594\n",
       "Tags_Will revert after reading the email         7.1650      0.269     26.683      0.000       6.639       7.691\n",
       "Last Notable Activity_Other_Notable_Activity     1.8179      0.463      3.928      0.000       0.911       2.725\n",
       "Last Notable Activity_SMS Sent                   1.7394      0.191      9.121      0.000       1.366       2.113\n",
       "================================================================================================================\n",
       "\"\"\""
      ]
     },
     "execution_count": 107,
     "metadata": {},
     "output_type": "execute_result"
    }
   ],
   "source": [
    "# Building Model-3 after dropping the 'Tags_Ringing' and checking the summary.\n",
    "\n",
    "X_train_sm=sm.add_constant(X_train[col])\n",
    "lm3=sm.GLM(y_train,X_train_sm, family = sm.families.Binomial())\n",
    "res = lm3.fit()\n",
    "res.summary()"
   ]
  },
  {
   "cell_type": "markdown",
   "metadata": {},
   "source": [
    "#### Dropping the column 'What is your current occupation_Student' since it has high p-value hence it is insignificant."
   ]
  },
  {
   "cell_type": "code",
   "execution_count": 108,
   "metadata": {},
   "outputs": [
    {
     "data": {
      "text/plain": [
       "Index(['Do Not Email', 'Total Time Spent on Website', 'Lead Origin_Forms',\n",
       "       'Lead Source_Olark Chat', 'Lead Source_Reference',\n",
       "       'Lead Source_Welingak Website', 'Last Activity_Email Bounced',\n",
       "       'Last Activity_Email Opened', 'Last Activity_SMS Sent',\n",
       "       'Specialization_Travel and Tourism',\n",
       "       'What is your current occupation_Unemployed', 'Tags_Closed by Horizzon',\n",
       "       'Tags_Interested in other courses', 'Tags_Not Mentioned',\n",
       "       'Tags_Other_Tags', 'Tags_Will revert after reading the email',\n",
       "       'Last Notable Activity_Other_Notable_Activity',\n",
       "       'Last Notable Activity_SMS Sent'],\n",
       "      dtype='object')"
      ]
     },
     "execution_count": 108,
     "metadata": {},
     "output_type": "execute_result"
    }
   ],
   "source": [
    "col = col.drop('What is your current occupation_Student', 1)\n",
    "col"
   ]
  },
  {
   "cell_type": "markdown",
   "metadata": {},
   "source": [
    "#### Building Model 4"
   ]
  },
  {
   "cell_type": "code",
   "execution_count": 109,
   "metadata": {},
   "outputs": [
    {
     "data": {
      "text/html": [
       "<table class=\"simpletable\">\n",
       "<caption>Generalized Linear Model Regression Results</caption>\n",
       "<tr>\n",
       "  <th>Dep. Variable:</th>       <td>Converted</td>    <th>  No. Observations:  </th>  <td>  6363</td> \n",
       "</tr>\n",
       "<tr>\n",
       "  <th>Model:</th>                  <td>GLM</td>       <th>  Df Residuals:      </th>  <td>  6344</td> \n",
       "</tr>\n",
       "<tr>\n",
       "  <th>Model Family:</th>        <td>Binomial</td>     <th>  Df Model:          </th>  <td>    18</td> \n",
       "</tr>\n",
       "<tr>\n",
       "  <th>Link Function:</th>         <td>logit</td>      <th>  Scale:             </th> <td>  1.0000</td>\n",
       "</tr>\n",
       "<tr>\n",
       "  <th>Method:</th>                <td>IRLS</td>       <th>  Log-Likelihood:    </th> <td> -1501.4</td>\n",
       "</tr>\n",
       "<tr>\n",
       "  <th>Date:</th>            <td>Sun, 11 Apr 2021</td> <th>  Deviance:          </th> <td>  3002.7</td>\n",
       "</tr>\n",
       "<tr>\n",
       "  <th>Time:</th>                <td>22:29:01</td>     <th>  Pearson chi2:      </th> <td>7.19e+03</td>\n",
       "</tr>\n",
       "<tr>\n",
       "  <th>No. Iterations:</th>          <td>8</td>        <th>                     </th>     <td> </td>   \n",
       "</tr>\n",
       "<tr>\n",
       "  <th>Covariance Type:</th>     <td>nonrobust</td>    <th>                     </th>     <td> </td>   \n",
       "</tr>\n",
       "</table>\n",
       "<table class=\"simpletable\">\n",
       "<tr>\n",
       "                        <td></td>                          <th>coef</th>     <th>std err</th>      <th>z</th>      <th>P>|z|</th>  <th>[0.025</th>    <th>0.975]</th>  \n",
       "</tr>\n",
       "<tr>\n",
       "  <th>const</th>                                        <td>   -5.0584</td> <td>    0.334</td> <td>  -15.139</td> <td> 0.000</td> <td>   -5.713</td> <td>   -4.403</td>\n",
       "</tr>\n",
       "<tr>\n",
       "  <th>Do Not Email</th>                                 <td>   -1.2404</td> <td>    0.251</td> <td>   -4.946</td> <td> 0.000</td> <td>   -1.732</td> <td>   -0.749</td>\n",
       "</tr>\n",
       "<tr>\n",
       "  <th>Total Time Spent on Website</th>                  <td>    1.1041</td> <td>    0.055</td> <td>   20.254</td> <td> 0.000</td> <td>    0.997</td> <td>    1.211</td>\n",
       "</tr>\n",
       "<tr>\n",
       "  <th>Lead Origin_Forms</th>                            <td>    4.0436</td> <td>    0.939</td> <td>    4.305</td> <td> 0.000</td> <td>    2.203</td> <td>    5.884</td>\n",
       "</tr>\n",
       "<tr>\n",
       "  <th>Lead Source_Olark Chat</th>                       <td>    1.2372</td> <td>    0.135</td> <td>    9.156</td> <td> 0.000</td> <td>    0.972</td> <td>    1.502</td>\n",
       "</tr>\n",
       "<tr>\n",
       "  <th>Lead Source_Reference</th>                        <td>   -2.1078</td> <td>    0.996</td> <td>   -2.116</td> <td> 0.034</td> <td>   -4.060</td> <td>   -0.156</td>\n",
       "</tr>\n",
       "<tr>\n",
       "  <th>Lead Source_Welingak Website</th>                 <td>    2.6140</td> <td>    1.379</td> <td>    1.896</td> <td> 0.058</td> <td>   -0.088</td> <td>    5.316</td>\n",
       "</tr>\n",
       "<tr>\n",
       "  <th>Last Activity_Email Bounced</th>                  <td>   -0.9299</td> <td>    0.525</td> <td>   -1.770</td> <td> 0.077</td> <td>   -1.960</td> <td>    0.100</td>\n",
       "</tr>\n",
       "<tr>\n",
       "  <th>Last Activity_Email Opened</th>                   <td>    0.9959</td> <td>    0.128</td> <td>    7.807</td> <td> 0.000</td> <td>    0.746</td> <td>    1.246</td>\n",
       "</tr>\n",
       "<tr>\n",
       "  <th>Last Activity_SMS Sent</th>                       <td>    1.0998</td> <td>    0.196</td> <td>    5.607</td> <td> 0.000</td> <td>    0.715</td> <td>    1.484</td>\n",
       "</tr>\n",
       "<tr>\n",
       "  <th>Specialization_Travel and Tourism</th>            <td>   -0.8820</td> <td>    0.397</td> <td>   -2.221</td> <td> 0.026</td> <td>   -1.660</td> <td>   -0.104</td>\n",
       "</tr>\n",
       "<tr>\n",
       "  <th>What is your current occupation_Unemployed</th>   <td>   -0.7871</td> <td>    0.246</td> <td>   -3.200</td> <td> 0.001</td> <td>   -1.269</td> <td>   -0.305</td>\n",
       "</tr>\n",
       "<tr>\n",
       "  <th>Tags_Closed by Horizzon</th>                      <td>    8.9885</td> <td>    0.755</td> <td>   11.913</td> <td> 0.000</td> <td>    7.510</td> <td>   10.467</td>\n",
       "</tr>\n",
       "<tr>\n",
       "  <th>Tags_Interested in other courses</th>             <td>    0.6417</td> <td>    0.453</td> <td>    1.417</td> <td> 0.156</td> <td>   -0.246</td> <td>    1.529</td>\n",
       "</tr>\n",
       "<tr>\n",
       "  <th>Tags_Not Mentioned</th>                           <td>    3.1213</td> <td>    0.220</td> <td>   14.215</td> <td> 0.000</td> <td>    2.691</td> <td>    3.552</td>\n",
       "</tr>\n",
       "<tr>\n",
       "  <th>Tags_Other_Tags</th>                              <td>    3.1548</td> <td>    0.229</td> <td>   13.797</td> <td> 0.000</td> <td>    2.707</td> <td>    3.603</td>\n",
       "</tr>\n",
       "<tr>\n",
       "  <th>Tags_Will revert after reading the email</th>     <td>    7.1865</td> <td>    0.267</td> <td>   26.928</td> <td> 0.000</td> <td>    6.663</td> <td>    7.710</td>\n",
       "</tr>\n",
       "<tr>\n",
       "  <th>Last Notable Activity_Other_Notable_Activity</th> <td>    1.8220</td> <td>    0.462</td> <td>    3.942</td> <td> 0.000</td> <td>    0.916</td> <td>    2.728</td>\n",
       "</tr>\n",
       "<tr>\n",
       "  <th>Last Notable Activity_SMS Sent</th>               <td>    1.7380</td> <td>    0.191</td> <td>    9.118</td> <td> 0.000</td> <td>    1.364</td> <td>    2.112</td>\n",
       "</tr>\n",
       "</table>"
      ],
      "text/plain": [
       "<class 'statsmodels.iolib.summary.Summary'>\n",
       "\"\"\"\n",
       "                 Generalized Linear Model Regression Results                  \n",
       "==============================================================================\n",
       "Dep. Variable:              Converted   No. Observations:                 6363\n",
       "Model:                            GLM   Df Residuals:                     6344\n",
       "Model Family:                Binomial   Df Model:                           18\n",
       "Link Function:                  logit   Scale:                          1.0000\n",
       "Method:                          IRLS   Log-Likelihood:                -1501.4\n",
       "Date:                Sun, 11 Apr 2021   Deviance:                       3002.7\n",
       "Time:                        22:29:01   Pearson chi2:                 7.19e+03\n",
       "No. Iterations:                     8                                         \n",
       "Covariance Type:            nonrobust                                         \n",
       "================================================================================================================\n",
       "                                                   coef    std err          z      P>|z|      [0.025      0.975]\n",
       "----------------------------------------------------------------------------------------------------------------\n",
       "const                                           -5.0584      0.334    -15.139      0.000      -5.713      -4.403\n",
       "Do Not Email                                    -1.2404      0.251     -4.946      0.000      -1.732      -0.749\n",
       "Total Time Spent on Website                      1.1041      0.055     20.254      0.000       0.997       1.211\n",
       "Lead Origin_Forms                                4.0436      0.939      4.305      0.000       2.203       5.884\n",
       "Lead Source_Olark Chat                           1.2372      0.135      9.156      0.000       0.972       1.502\n",
       "Lead Source_Reference                           -2.1078      0.996     -2.116      0.034      -4.060      -0.156\n",
       "Lead Source_Welingak Website                     2.6140      1.379      1.896      0.058      -0.088       5.316\n",
       "Last Activity_Email Bounced                     -0.9299      0.525     -1.770      0.077      -1.960       0.100\n",
       "Last Activity_Email Opened                       0.9959      0.128      7.807      0.000       0.746       1.246\n",
       "Last Activity_SMS Sent                           1.0998      0.196      5.607      0.000       0.715       1.484\n",
       "Specialization_Travel and Tourism               -0.8820      0.397     -2.221      0.026      -1.660      -0.104\n",
       "What is your current occupation_Unemployed      -0.7871      0.246     -3.200      0.001      -1.269      -0.305\n",
       "Tags_Closed by Horizzon                          8.9885      0.755     11.913      0.000       7.510      10.467\n",
       "Tags_Interested in other courses                 0.6417      0.453      1.417      0.156      -0.246       1.529\n",
       "Tags_Not Mentioned                               3.1213      0.220     14.215      0.000       2.691       3.552\n",
       "Tags_Other_Tags                                  3.1548      0.229     13.797      0.000       2.707       3.603\n",
       "Tags_Will revert after reading the email         7.1865      0.267     26.928      0.000       6.663       7.710\n",
       "Last Notable Activity_Other_Notable_Activity     1.8220      0.462      3.942      0.000       0.916       2.728\n",
       "Last Notable Activity_SMS Sent                   1.7380      0.191      9.118      0.000       1.364       2.112\n",
       "================================================================================================================\n",
       "\"\"\""
      ]
     },
     "execution_count": 109,
     "metadata": {},
     "output_type": "execute_result"
    }
   ],
   "source": [
    "# Building Model-4 after dropping the 'What is your current occupation_Student' and checking the summary.\n",
    "\n",
    "X_train_sm=sm.add_constant(X_train[col])\n",
    "lm4=sm.GLM(y_train,X_train_sm, family = sm.families.Binomial())\n",
    "res = lm4.fit()\n",
    "res.summary()"
   ]
  },
  {
   "cell_type": "markdown",
   "metadata": {},
   "source": [
    "#### Dropping the column 'Tags_Interested in other courses' since it has high p-value hence it is insignificant."
   ]
  },
  {
   "cell_type": "code",
   "execution_count": 110,
   "metadata": {},
   "outputs": [
    {
     "data": {
      "text/plain": [
       "Index(['Do Not Email', 'Total Time Spent on Website', 'Lead Origin_Forms',\n",
       "       'Lead Source_Olark Chat', 'Lead Source_Reference',\n",
       "       'Lead Source_Welingak Website', 'Last Activity_Email Bounced',\n",
       "       'Last Activity_Email Opened', 'Last Activity_SMS Sent',\n",
       "       'Specialization_Travel and Tourism',\n",
       "       'What is your current occupation_Unemployed', 'Tags_Closed by Horizzon',\n",
       "       'Tags_Not Mentioned', 'Tags_Other_Tags',\n",
       "       'Tags_Will revert after reading the email',\n",
       "       'Last Notable Activity_Other_Notable_Activity',\n",
       "       'Last Notable Activity_SMS Sent'],\n",
       "      dtype='object')"
      ]
     },
     "execution_count": 110,
     "metadata": {},
     "output_type": "execute_result"
    }
   ],
   "source": [
    "col = col.drop('Tags_Interested in other courses', 1)\n",
    "col"
   ]
  },
  {
   "cell_type": "markdown",
   "metadata": {},
   "source": [
    "#### Building Model 5"
   ]
  },
  {
   "cell_type": "code",
   "execution_count": 111,
   "metadata": {},
   "outputs": [
    {
     "data": {
      "text/html": [
       "<table class=\"simpletable\">\n",
       "<caption>Generalized Linear Model Regression Results</caption>\n",
       "<tr>\n",
       "  <th>Dep. Variable:</th>       <td>Converted</td>    <th>  No. Observations:  </th>  <td>  6363</td> \n",
       "</tr>\n",
       "<tr>\n",
       "  <th>Model:</th>                  <td>GLM</td>       <th>  Df Residuals:      </th>  <td>  6345</td> \n",
       "</tr>\n",
       "<tr>\n",
       "  <th>Model Family:</th>        <td>Binomial</td>     <th>  Df Model:          </th>  <td>    17</td> \n",
       "</tr>\n",
       "<tr>\n",
       "  <th>Link Function:</th>         <td>logit</td>      <th>  Scale:             </th> <td>  1.0000</td>\n",
       "</tr>\n",
       "<tr>\n",
       "  <th>Method:</th>                <td>IRLS</td>       <th>  Log-Likelihood:    </th> <td> -1502.3</td>\n",
       "</tr>\n",
       "<tr>\n",
       "  <th>Date:</th>            <td>Sun, 11 Apr 2021</td> <th>  Deviance:          </th> <td>  3004.5</td>\n",
       "</tr>\n",
       "<tr>\n",
       "  <th>Time:</th>                <td>22:29:01</td>     <th>  Pearson chi2:      </th> <td>6.97e+03</td>\n",
       "</tr>\n",
       "<tr>\n",
       "  <th>No. Iterations:</th>          <td>8</td>        <th>                     </th>     <td> </td>   \n",
       "</tr>\n",
       "<tr>\n",
       "  <th>Covariance Type:</th>     <td>nonrobust</td>    <th>                     </th>     <td> </td>   \n",
       "</tr>\n",
       "</table>\n",
       "<table class=\"simpletable\">\n",
       "<tr>\n",
       "                        <td></td>                          <th>coef</th>     <th>std err</th>      <th>z</th>      <th>P>|z|</th>  <th>[0.025</th>    <th>0.975]</th>  \n",
       "</tr>\n",
       "<tr>\n",
       "  <th>const</th>                                        <td>   -4.9327</td> <td>    0.318</td> <td>  -15.503</td> <td> 0.000</td> <td>   -5.556</td> <td>   -4.309</td>\n",
       "</tr>\n",
       "<tr>\n",
       "  <th>Do Not Email</th>                                 <td>   -1.2370</td> <td>    0.250</td> <td>   -4.939</td> <td> 0.000</td> <td>   -1.728</td> <td>   -0.746</td>\n",
       "</tr>\n",
       "<tr>\n",
       "  <th>Total Time Spent on Website</th>                  <td>    1.1047</td> <td>    0.055</td> <td>   20.268</td> <td> 0.000</td> <td>    0.998</td> <td>    1.212</td>\n",
       "</tr>\n",
       "<tr>\n",
       "  <th>Lead Origin_Forms</th>                            <td>    4.0129</td> <td>    0.932</td> <td>    4.307</td> <td> 0.000</td> <td>    2.187</td> <td>    5.839</td>\n",
       "</tr>\n",
       "<tr>\n",
       "  <th>Lead Source_Olark Chat</th>                       <td>    1.2383</td> <td>    0.135</td> <td>    9.167</td> <td> 0.000</td> <td>    0.974</td> <td>    1.503</td>\n",
       "</tr>\n",
       "<tr>\n",
       "  <th>Lead Source_Reference</th>                        <td>   -2.0807</td> <td>    0.989</td> <td>   -2.104</td> <td> 0.035</td> <td>   -4.019</td> <td>   -0.142</td>\n",
       "</tr>\n",
       "<tr>\n",
       "  <th>Lead Source_Welingak Website</th>                 <td>    2.6441</td> <td>    1.374</td> <td>    1.925</td> <td> 0.054</td> <td>   -0.048</td> <td>    5.336</td>\n",
       "</tr>\n",
       "<tr>\n",
       "  <th>Last Activity_Email Bounced</th>                  <td>   -0.9355</td> <td>    0.525</td> <td>   -1.782</td> <td> 0.075</td> <td>   -1.964</td> <td>    0.093</td>\n",
       "</tr>\n",
       "<tr>\n",
       "  <th>Last Activity_Email Opened</th>                   <td>    0.9922</td> <td>    0.128</td> <td>    7.771</td> <td> 0.000</td> <td>    0.742</td> <td>    1.242</td>\n",
       "</tr>\n",
       "<tr>\n",
       "  <th>Last Activity_SMS Sent</th>                       <td>    1.0971</td> <td>    0.196</td> <td>    5.587</td> <td> 0.000</td> <td>    0.712</td> <td>    1.482</td>\n",
       "</tr>\n",
       "<tr>\n",
       "  <th>Specialization_Travel and Tourism</th>            <td>   -0.8774</td> <td>    0.397</td> <td>   -2.208</td> <td> 0.027</td> <td>   -1.656</td> <td>   -0.099</td>\n",
       "</tr>\n",
       "<tr>\n",
       "  <th>What is your current occupation_Unemployed</th>   <td>   -0.7967</td> <td>    0.247</td> <td>   -3.231</td> <td> 0.001</td> <td>   -1.280</td> <td>   -0.313</td>\n",
       "</tr>\n",
       "<tr>\n",
       "  <th>Tags_Closed by Horizzon</th>                      <td>    8.8737</td> <td>    0.748</td> <td>   11.857</td> <td> 0.000</td> <td>    7.407</td> <td>   10.341</td>\n",
       "</tr>\n",
       "<tr>\n",
       "  <th>Tags_Not Mentioned</th>                           <td>    3.0113</td> <td>    0.199</td> <td>   15.136</td> <td> 0.000</td> <td>    2.621</td> <td>    3.401</td>\n",
       "</tr>\n",
       "<tr>\n",
       "  <th>Tags_Other_Tags</th>                              <td>    3.0452</td> <td>    0.209</td> <td>   14.567</td> <td> 0.000</td> <td>    2.636</td> <td>    3.455</td>\n",
       "</tr>\n",
       "<tr>\n",
       "  <th>Tags_Will revert after reading the email</th>     <td>    7.0731</td> <td>    0.249</td> <td>   28.381</td> <td> 0.000</td> <td>    6.585</td> <td>    7.562</td>\n",
       "</tr>\n",
       "<tr>\n",
       "  <th>Last Notable Activity_Other_Notable_Activity</th> <td>    1.8143</td> <td>    0.462</td> <td>    3.928</td> <td> 0.000</td> <td>    0.909</td> <td>    2.719</td>\n",
       "</tr>\n",
       "<tr>\n",
       "  <th>Last Notable Activity_SMS Sent</th>               <td>    1.7217</td> <td>    0.190</td> <td>    9.050</td> <td> 0.000</td> <td>    1.349</td> <td>    2.095</td>\n",
       "</tr>\n",
       "</table>"
      ],
      "text/plain": [
       "<class 'statsmodels.iolib.summary.Summary'>\n",
       "\"\"\"\n",
       "                 Generalized Linear Model Regression Results                  \n",
       "==============================================================================\n",
       "Dep. Variable:              Converted   No. Observations:                 6363\n",
       "Model:                            GLM   Df Residuals:                     6345\n",
       "Model Family:                Binomial   Df Model:                           17\n",
       "Link Function:                  logit   Scale:                          1.0000\n",
       "Method:                          IRLS   Log-Likelihood:                -1502.3\n",
       "Date:                Sun, 11 Apr 2021   Deviance:                       3004.5\n",
       "Time:                        22:29:01   Pearson chi2:                 6.97e+03\n",
       "No. Iterations:                     8                                         \n",
       "Covariance Type:            nonrobust                                         \n",
       "================================================================================================================\n",
       "                                                   coef    std err          z      P>|z|      [0.025      0.975]\n",
       "----------------------------------------------------------------------------------------------------------------\n",
       "const                                           -4.9327      0.318    -15.503      0.000      -5.556      -4.309\n",
       "Do Not Email                                    -1.2370      0.250     -4.939      0.000      -1.728      -0.746\n",
       "Total Time Spent on Website                      1.1047      0.055     20.268      0.000       0.998       1.212\n",
       "Lead Origin_Forms                                4.0129      0.932      4.307      0.000       2.187       5.839\n",
       "Lead Source_Olark Chat                           1.2383      0.135      9.167      0.000       0.974       1.503\n",
       "Lead Source_Reference                           -2.0807      0.989     -2.104      0.035      -4.019      -0.142\n",
       "Lead Source_Welingak Website                     2.6441      1.374      1.925      0.054      -0.048       5.336\n",
       "Last Activity_Email Bounced                     -0.9355      0.525     -1.782      0.075      -1.964       0.093\n",
       "Last Activity_Email Opened                       0.9922      0.128      7.771      0.000       0.742       1.242\n",
       "Last Activity_SMS Sent                           1.0971      0.196      5.587      0.000       0.712       1.482\n",
       "Specialization_Travel and Tourism               -0.8774      0.397     -2.208      0.027      -1.656      -0.099\n",
       "What is your current occupation_Unemployed      -0.7967      0.247     -3.231      0.001      -1.280      -0.313\n",
       "Tags_Closed by Horizzon                          8.8737      0.748     11.857      0.000       7.407      10.341\n",
       "Tags_Not Mentioned                               3.0113      0.199     15.136      0.000       2.621       3.401\n",
       "Tags_Other_Tags                                  3.0452      0.209     14.567      0.000       2.636       3.455\n",
       "Tags_Will revert after reading the email         7.0731      0.249     28.381      0.000       6.585       7.562\n",
       "Last Notable Activity_Other_Notable_Activity     1.8143      0.462      3.928      0.000       0.909       2.719\n",
       "Last Notable Activity_SMS Sent                   1.7217      0.190      9.050      0.000       1.349       2.095\n",
       "================================================================================================================\n",
       "\"\"\""
      ]
     },
     "execution_count": 111,
     "metadata": {},
     "output_type": "execute_result"
    }
   ],
   "source": [
    "# Building Model-5 after dropping the 'Tags_Interested in other courses' and checking the summary.\n",
    "\n",
    "X_train_sm=sm.add_constant(X_train[col])\n",
    "lm5=sm.GLM(y_train,X_train_sm, family = sm.families.Binomial())\n",
    "res = lm5.fit()\n",
    "res.summary()"
   ]
  },
  {
   "cell_type": "markdown",
   "metadata": {},
   "source": [
    "#### Dropping the column 'Last Activity_Email Bounced' since it has high p-value hence it is insignificant."
   ]
  },
  {
   "cell_type": "code",
   "execution_count": 112,
   "metadata": {},
   "outputs": [
    {
     "data": {
      "text/plain": [
       "Index(['Do Not Email', 'Total Time Spent on Website', 'Lead Origin_Forms',\n",
       "       'Lead Source_Olark Chat', 'Lead Source_Reference',\n",
       "       'Lead Source_Welingak Website', 'Last Activity_Email Opened',\n",
       "       'Last Activity_SMS Sent', 'Specialization_Travel and Tourism',\n",
       "       'What is your current occupation_Unemployed', 'Tags_Closed by Horizzon',\n",
       "       'Tags_Not Mentioned', 'Tags_Other_Tags',\n",
       "       'Tags_Will revert after reading the email',\n",
       "       'Last Notable Activity_Other_Notable_Activity',\n",
       "       'Last Notable Activity_SMS Sent'],\n",
       "      dtype='object')"
      ]
     },
     "execution_count": 112,
     "metadata": {},
     "output_type": "execute_result"
    }
   ],
   "source": [
    "col = col.drop('Last Activity_Email Bounced', 1)\n",
    "col"
   ]
  },
  {
   "cell_type": "markdown",
   "metadata": {},
   "source": [
    "#### Building Model 6"
   ]
  },
  {
   "cell_type": "code",
   "execution_count": 113,
   "metadata": {},
   "outputs": [
    {
     "data": {
      "text/html": [
       "<table class=\"simpletable\">\n",
       "<caption>Generalized Linear Model Regression Results</caption>\n",
       "<tr>\n",
       "  <th>Dep. Variable:</th>       <td>Converted</td>    <th>  No. Observations:  </th>  <td>  6363</td> \n",
       "</tr>\n",
       "<tr>\n",
       "  <th>Model:</th>                  <td>GLM</td>       <th>  Df Residuals:      </th>  <td>  6346</td> \n",
       "</tr>\n",
       "<tr>\n",
       "  <th>Model Family:</th>        <td>Binomial</td>     <th>  Df Model:          </th>  <td>    16</td> \n",
       "</tr>\n",
       "<tr>\n",
       "  <th>Link Function:</th>         <td>logit</td>      <th>  Scale:             </th> <td>  1.0000</td>\n",
       "</tr>\n",
       "<tr>\n",
       "  <th>Method:</th>                <td>IRLS</td>       <th>  Log-Likelihood:    </th> <td> -1504.0</td>\n",
       "</tr>\n",
       "<tr>\n",
       "  <th>Date:</th>            <td>Sun, 11 Apr 2021</td> <th>  Deviance:          </th> <td>  3008.0</td>\n",
       "</tr>\n",
       "<tr>\n",
       "  <th>Time:</th>                <td>22:29:02</td>     <th>  Pearson chi2:      </th> <td>6.95e+03</td>\n",
       "</tr>\n",
       "<tr>\n",
       "  <th>No. Iterations:</th>          <td>8</td>        <th>                     </th>     <td> </td>   \n",
       "</tr>\n",
       "<tr>\n",
       "  <th>Covariance Type:</th>     <td>nonrobust</td>    <th>                     </th>     <td> </td>   \n",
       "</tr>\n",
       "</table>\n",
       "<table class=\"simpletable\">\n",
       "<tr>\n",
       "                        <td></td>                          <th>coef</th>     <th>std err</th>      <th>z</th>      <th>P>|z|</th>  <th>[0.025</th>    <th>0.975]</th>  \n",
       "</tr>\n",
       "<tr>\n",
       "  <th>const</th>                                        <td>   -4.9637</td> <td>    0.317</td> <td>  -15.665</td> <td> 0.000</td> <td>   -5.585</td> <td>   -4.343</td>\n",
       "</tr>\n",
       "<tr>\n",
       "  <th>Do Not Email</th>                                 <td>   -1.4197</td> <td>    0.233</td> <td>   -6.082</td> <td> 0.000</td> <td>   -1.877</td> <td>   -0.962</td>\n",
       "</tr>\n",
       "<tr>\n",
       "  <th>Total Time Spent on Website</th>                  <td>    1.1029</td> <td>    0.054</td> <td>   20.243</td> <td> 0.000</td> <td>    0.996</td> <td>    1.210</td>\n",
       "</tr>\n",
       "<tr>\n",
       "  <th>Lead Origin_Forms</th>                            <td>    3.8809</td> <td>    0.898</td> <td>    4.320</td> <td> 0.000</td> <td>    2.120</td> <td>    5.642</td>\n",
       "</tr>\n",
       "<tr>\n",
       "  <th>Lead Source_Olark Chat</th>                       <td>    1.2405</td> <td>    0.135</td> <td>    9.184</td> <td> 0.000</td> <td>    0.976</td> <td>    1.505</td>\n",
       "</tr>\n",
       "<tr>\n",
       "  <th>Lead Source_Reference</th>                        <td>   -1.9464</td> <td>    0.958</td> <td>   -2.032</td> <td> 0.042</td> <td>   -3.824</td> <td>   -0.069</td>\n",
       "</tr>\n",
       "<tr>\n",
       "  <th>Lead Source_Welingak Website</th>                 <td>    2.7753</td> <td>    1.351</td> <td>    2.054</td> <td> 0.040</td> <td>    0.127</td> <td>    5.423</td>\n",
       "</tr>\n",
       "<tr>\n",
       "  <th>Last Activity_Email Opened</th>                   <td>    1.0174</td> <td>    0.127</td> <td>    7.994</td> <td> 0.000</td> <td>    0.768</td> <td>    1.267</td>\n",
       "</tr>\n",
       "<tr>\n",
       "  <th>Last Activity_SMS Sent</th>                       <td>    1.1355</td> <td>    0.195</td> <td>    5.813</td> <td> 0.000</td> <td>    0.753</td> <td>    1.518</td>\n",
       "</tr>\n",
       "<tr>\n",
       "  <th>Specialization_Travel and Tourism</th>            <td>   -0.9163</td> <td>    0.396</td> <td>   -2.314</td> <td> 0.021</td> <td>   -1.692</td> <td>   -0.140</td>\n",
       "</tr>\n",
       "<tr>\n",
       "  <th>What is your current occupation_Unemployed</th>   <td>   -0.7937</td> <td>    0.245</td> <td>   -3.240</td> <td> 0.001</td> <td>   -1.274</td> <td>   -0.314</td>\n",
       "</tr>\n",
       "<tr>\n",
       "  <th>Tags_Closed by Horizzon</th>                      <td>    8.8650</td> <td>    0.748</td> <td>   11.848</td> <td> 0.000</td> <td>    7.398</td> <td>   10.331</td>\n",
       "</tr>\n",
       "<tr>\n",
       "  <th>Tags_Not Mentioned</th>                           <td>    3.0142</td> <td>    0.199</td> <td>   15.145</td> <td> 0.000</td> <td>    2.624</td> <td>    3.404</td>\n",
       "</tr>\n",
       "<tr>\n",
       "  <th>Tags_Other_Tags</th>                              <td>    3.0537</td> <td>    0.209</td> <td>   14.605</td> <td> 0.000</td> <td>    2.644</td> <td>    3.464</td>\n",
       "</tr>\n",
       "<tr>\n",
       "  <th>Tags_Will revert after reading the email</th>     <td>    7.0737</td> <td>    0.249</td> <td>   28.425</td> <td> 0.000</td> <td>    6.586</td> <td>    7.562</td>\n",
       "</tr>\n",
       "<tr>\n",
       "  <th>Last Notable Activity_Other_Notable_Activity</th> <td>    1.6182</td> <td>    0.435</td> <td>    3.718</td> <td> 0.000</td> <td>    0.765</td> <td>    2.471</td>\n",
       "</tr>\n",
       "<tr>\n",
       "  <th>Last Notable Activity_SMS Sent</th>               <td>    1.7241</td> <td>    0.190</td> <td>    9.063</td> <td> 0.000</td> <td>    1.351</td> <td>    2.097</td>\n",
       "</tr>\n",
       "</table>"
      ],
      "text/plain": [
       "<class 'statsmodels.iolib.summary.Summary'>\n",
       "\"\"\"\n",
       "                 Generalized Linear Model Regression Results                  \n",
       "==============================================================================\n",
       "Dep. Variable:              Converted   No. Observations:                 6363\n",
       "Model:                            GLM   Df Residuals:                     6346\n",
       "Model Family:                Binomial   Df Model:                           16\n",
       "Link Function:                  logit   Scale:                          1.0000\n",
       "Method:                          IRLS   Log-Likelihood:                -1504.0\n",
       "Date:                Sun, 11 Apr 2021   Deviance:                       3008.0\n",
       "Time:                        22:29:02   Pearson chi2:                 6.95e+03\n",
       "No. Iterations:                     8                                         \n",
       "Covariance Type:            nonrobust                                         \n",
       "================================================================================================================\n",
       "                                                   coef    std err          z      P>|z|      [0.025      0.975]\n",
       "----------------------------------------------------------------------------------------------------------------\n",
       "const                                           -4.9637      0.317    -15.665      0.000      -5.585      -4.343\n",
       "Do Not Email                                    -1.4197      0.233     -6.082      0.000      -1.877      -0.962\n",
       "Total Time Spent on Website                      1.1029      0.054     20.243      0.000       0.996       1.210\n",
       "Lead Origin_Forms                                3.8809      0.898      4.320      0.000       2.120       5.642\n",
       "Lead Source_Olark Chat                           1.2405      0.135      9.184      0.000       0.976       1.505\n",
       "Lead Source_Reference                           -1.9464      0.958     -2.032      0.042      -3.824      -0.069\n",
       "Lead Source_Welingak Website                     2.7753      1.351      2.054      0.040       0.127       5.423\n",
       "Last Activity_Email Opened                       1.0174      0.127      7.994      0.000       0.768       1.267\n",
       "Last Activity_SMS Sent                           1.1355      0.195      5.813      0.000       0.753       1.518\n",
       "Specialization_Travel and Tourism               -0.9163      0.396     -2.314      0.021      -1.692      -0.140\n",
       "What is your current occupation_Unemployed      -0.7937      0.245     -3.240      0.001      -1.274      -0.314\n",
       "Tags_Closed by Horizzon                          8.8650      0.748     11.848      0.000       7.398      10.331\n",
       "Tags_Not Mentioned                               3.0142      0.199     15.145      0.000       2.624       3.404\n",
       "Tags_Other_Tags                                  3.0537      0.209     14.605      0.000       2.644       3.464\n",
       "Tags_Will revert after reading the email         7.0737      0.249     28.425      0.000       6.586       7.562\n",
       "Last Notable Activity_Other_Notable_Activity     1.6182      0.435      3.718      0.000       0.765       2.471\n",
       "Last Notable Activity_SMS Sent                   1.7241      0.190      9.063      0.000       1.351       2.097\n",
       "================================================================================================================\n",
       "\"\"\""
      ]
     },
     "execution_count": 113,
     "metadata": {},
     "output_type": "execute_result"
    }
   ],
   "source": [
    "# Building Model-6 after dropping the 'Last Activity_Email Bounced' and checking the summary.\n",
    "\n",
    "X_train_sm=sm.add_constant(X_train[col])\n",
    "lm6=sm.GLM(y_train,X_train_sm, family = sm.families.Binomial())\n",
    "res = lm6.fit()\n",
    "res.summary()"
   ]
  },
  {
   "cell_type": "markdown",
   "metadata": {},
   "source": [
    "### VIF for each features"
   ]
  },
  {
   "cell_type": "code",
   "execution_count": 114,
   "metadata": {},
   "outputs": [
    {
     "data": {
      "text/html": [
       "<div>\n",
       "<style scoped>\n",
       "    .dataframe tbody tr th:only-of-type {\n",
       "        vertical-align: middle;\n",
       "    }\n",
       "\n",
       "    .dataframe tbody tr th {\n",
       "        vertical-align: top;\n",
       "    }\n",
       "\n",
       "    .dataframe thead th {\n",
       "        text-align: right;\n",
       "    }\n",
       "</style>\n",
       "<table border=\"1\" class=\"dataframe\">\n",
       "  <thead>\n",
       "    <tr style=\"text-align: right;\">\n",
       "      <th></th>\n",
       "      <th>Features</th>\n",
       "      <th>VIF</th>\n",
       "    </tr>\n",
       "  </thead>\n",
       "  <tbody>\n",
       "    <tr>\n",
       "      <th>2</th>\n",
       "      <td>Lead Origin_Forms</td>\n",
       "      <td>18.98</td>\n",
       "    </tr>\n",
       "    <tr>\n",
       "      <th>4</th>\n",
       "      <td>Lead Source_Reference</td>\n",
       "      <td>14.97</td>\n",
       "    </tr>\n",
       "    <tr>\n",
       "      <th>7</th>\n",
       "      <td>Last Activity_SMS Sent</td>\n",
       "      <td>5.74</td>\n",
       "    </tr>\n",
       "    <tr>\n",
       "      <th>15</th>\n",
       "      <td>Last Notable Activity_SMS Sent</td>\n",
       "      <td>4.94</td>\n",
       "    </tr>\n",
       "    <tr>\n",
       "      <th>5</th>\n",
       "      <td>Lead Source_Welingak Website</td>\n",
       "      <td>4.91</td>\n",
       "    </tr>\n",
       "    <tr>\n",
       "      <th>9</th>\n",
       "      <td>What is your current occupation_Unemployed</td>\n",
       "      <td>4.49</td>\n",
       "    </tr>\n",
       "    <tr>\n",
       "      <th>11</th>\n",
       "      <td>Tags_Not Mentioned</td>\n",
       "      <td>2.49</td>\n",
       "    </tr>\n",
       "    <tr>\n",
       "      <th>6</th>\n",
       "      <td>Last Activity_Email Opened</td>\n",
       "      <td>2.08</td>\n",
       "    </tr>\n",
       "    <tr>\n",
       "      <th>13</th>\n",
       "      <td>Tags_Will revert after reading the email</td>\n",
       "      <td>2.03</td>\n",
       "    </tr>\n",
       "    <tr>\n",
       "      <th>3</th>\n",
       "      <td>Lead Source_Olark Chat</td>\n",
       "      <td>1.59</td>\n",
       "    </tr>\n",
       "    <tr>\n",
       "      <th>12</th>\n",
       "      <td>Tags_Other_Tags</td>\n",
       "      <td>1.50</td>\n",
       "    </tr>\n",
       "    <tr>\n",
       "      <th>1</th>\n",
       "      <td>Total Time Spent on Website</td>\n",
       "      <td>1.37</td>\n",
       "    </tr>\n",
       "    <tr>\n",
       "      <th>10</th>\n",
       "      <td>Tags_Closed by Horizzon</td>\n",
       "      <td>1.36</td>\n",
       "    </tr>\n",
       "    <tr>\n",
       "      <th>0</th>\n",
       "      <td>Do Not Email</td>\n",
       "      <td>1.26</td>\n",
       "    </tr>\n",
       "    <tr>\n",
       "      <th>14</th>\n",
       "      <td>Last Notable Activity_Other_Notable_Activity</td>\n",
       "      <td>1.14</td>\n",
       "    </tr>\n",
       "    <tr>\n",
       "      <th>8</th>\n",
       "      <td>Specialization_Travel and Tourism</td>\n",
       "      <td>1.04</td>\n",
       "    </tr>\n",
       "  </tbody>\n",
       "</table>\n",
       "</div>"
      ],
      "text/plain": [
       "                                        Features    VIF\n",
       "2                              Lead Origin_Forms  18.98\n",
       "4                          Lead Source_Reference  14.97\n",
       "7                         Last Activity_SMS Sent   5.74\n",
       "15                Last Notable Activity_SMS Sent   4.94\n",
       "5                   Lead Source_Welingak Website   4.91\n",
       "9     What is your current occupation_Unemployed   4.49\n",
       "11                            Tags_Not Mentioned   2.49\n",
       "6                     Last Activity_Email Opened   2.08\n",
       "13      Tags_Will revert after reading the email   2.03\n",
       "3                         Lead Source_Olark Chat   1.59\n",
       "12                               Tags_Other_Tags   1.50\n",
       "1                    Total Time Spent on Website   1.37\n",
       "10                       Tags_Closed by Horizzon   1.36\n",
       "0                                   Do Not Email   1.26\n",
       "14  Last Notable Activity_Other_Notable_Activity   1.14\n",
       "8              Specialization_Travel and Tourism   1.04"
      ]
     },
     "execution_count": 114,
     "metadata": {},
     "output_type": "execute_result"
    }
   ],
   "source": [
    "# Create a dataframe that will contain the names of all the feature variables and their respective VIFs\n",
    "\n",
    "vif = pd.DataFrame()\n",
    "vif['Features'] = X_train[col].columns\n",
    "vif['VIF'] = [variance_inflation_factor(X_train[col].values, i) for i in range(X_train[col].shape[1])]\n",
    "vif['VIF'] = round(vif['VIF'], 2)\n",
    "vif = vif.sort_values(by = \"VIF\", ascending = False)\n",
    "vif"
   ]
  },
  {
   "cell_type": "markdown",
   "metadata": {},
   "source": [
    "**There are a few variables with high VIF. It's best to drop these variables as they aren't helping much with prediction and unnecessarily making the model complex. The variable 'Lead Origin_Forms' has the highest VIF. So let's start by dropping that.**"
   ]
  },
  {
   "cell_type": "code",
   "execution_count": 115,
   "metadata": {},
   "outputs": [
    {
     "data": {
      "text/plain": [
       "Index(['Do Not Email', 'Total Time Spent on Website', 'Lead Source_Olark Chat',\n",
       "       'Lead Source_Reference', 'Lead Source_Welingak Website',\n",
       "       'Last Activity_Email Opened', 'Last Activity_SMS Sent',\n",
       "       'Specialization_Travel and Tourism',\n",
       "       'What is your current occupation_Unemployed', 'Tags_Closed by Horizzon',\n",
       "       'Tags_Not Mentioned', 'Tags_Other_Tags',\n",
       "       'Tags_Will revert after reading the email',\n",
       "       'Last Notable Activity_Other_Notable_Activity',\n",
       "       'Last Notable Activity_SMS Sent'],\n",
       "      dtype='object')"
      ]
     },
     "execution_count": 115,
     "metadata": {},
     "output_type": "execute_result"
    }
   ],
   "source": [
    "col = col.drop('Lead Origin_Forms', 1)\n",
    "col"
   ]
  },
  {
   "cell_type": "code",
   "execution_count": 116,
   "metadata": {},
   "outputs": [
    {
     "data": {
      "text/html": [
       "<div>\n",
       "<style scoped>\n",
       "    .dataframe tbody tr th:only-of-type {\n",
       "        vertical-align: middle;\n",
       "    }\n",
       "\n",
       "    .dataframe tbody tr th {\n",
       "        vertical-align: top;\n",
       "    }\n",
       "\n",
       "    .dataframe thead th {\n",
       "        text-align: right;\n",
       "    }\n",
       "</style>\n",
       "<table border=\"1\" class=\"dataframe\">\n",
       "  <thead>\n",
       "    <tr style=\"text-align: right;\">\n",
       "      <th></th>\n",
       "      <th>Features</th>\n",
       "      <th>VIF</th>\n",
       "    </tr>\n",
       "  </thead>\n",
       "  <tbody>\n",
       "    <tr>\n",
       "      <th>6</th>\n",
       "      <td>Last Activity_SMS Sent</td>\n",
       "      <td>5.73</td>\n",
       "    </tr>\n",
       "    <tr>\n",
       "      <th>14</th>\n",
       "      <td>Last Notable Activity_SMS Sent</td>\n",
       "      <td>4.94</td>\n",
       "    </tr>\n",
       "    <tr>\n",
       "      <th>8</th>\n",
       "      <td>What is your current occupation_Unemployed</td>\n",
       "      <td>4.48</td>\n",
       "    </tr>\n",
       "    <tr>\n",
       "      <th>10</th>\n",
       "      <td>Tags_Not Mentioned</td>\n",
       "      <td>2.49</td>\n",
       "    </tr>\n",
       "    <tr>\n",
       "      <th>5</th>\n",
       "      <td>Last Activity_Email Opened</td>\n",
       "      <td>2.08</td>\n",
       "    </tr>\n",
       "    <tr>\n",
       "      <th>12</th>\n",
       "      <td>Tags_Will revert after reading the email</td>\n",
       "      <td>2.03</td>\n",
       "    </tr>\n",
       "    <tr>\n",
       "      <th>2</th>\n",
       "      <td>Lead Source_Olark Chat</td>\n",
       "      <td>1.59</td>\n",
       "    </tr>\n",
       "    <tr>\n",
       "      <th>11</th>\n",
       "      <td>Tags_Other_Tags</td>\n",
       "      <td>1.50</td>\n",
       "    </tr>\n",
       "    <tr>\n",
       "      <th>3</th>\n",
       "      <td>Lead Source_Reference</td>\n",
       "      <td>1.43</td>\n",
       "    </tr>\n",
       "    <tr>\n",
       "      <th>1</th>\n",
       "      <td>Total Time Spent on Website</td>\n",
       "      <td>1.36</td>\n",
       "    </tr>\n",
       "    <tr>\n",
       "      <th>9</th>\n",
       "      <td>Tags_Closed by Horizzon</td>\n",
       "      <td>1.36</td>\n",
       "    </tr>\n",
       "    <tr>\n",
       "      <th>0</th>\n",
       "      <td>Do Not Email</td>\n",
       "      <td>1.26</td>\n",
       "    </tr>\n",
       "    <tr>\n",
       "      <th>13</th>\n",
       "      <td>Last Notable Activity_Other_Notable_Activity</td>\n",
       "      <td>1.14</td>\n",
       "    </tr>\n",
       "    <tr>\n",
       "      <th>4</th>\n",
       "      <td>Lead Source_Welingak Website</td>\n",
       "      <td>1.07</td>\n",
       "    </tr>\n",
       "    <tr>\n",
       "      <th>7</th>\n",
       "      <td>Specialization_Travel and Tourism</td>\n",
       "      <td>1.04</td>\n",
       "    </tr>\n",
       "  </tbody>\n",
       "</table>\n",
       "</div>"
      ],
      "text/plain": [
       "                                        Features   VIF\n",
       "6                         Last Activity_SMS Sent  5.73\n",
       "14                Last Notable Activity_SMS Sent  4.94\n",
       "8     What is your current occupation_Unemployed  4.48\n",
       "10                            Tags_Not Mentioned  2.49\n",
       "5                     Last Activity_Email Opened  2.08\n",
       "12      Tags_Will revert after reading the email  2.03\n",
       "2                         Lead Source_Olark Chat  1.59\n",
       "11                               Tags_Other_Tags  1.50\n",
       "3                          Lead Source_Reference  1.43\n",
       "1                    Total Time Spent on Website  1.36\n",
       "9                        Tags_Closed by Horizzon  1.36\n",
       "0                                   Do Not Email  1.26\n",
       "13  Last Notable Activity_Other_Notable_Activity  1.14\n",
       "4                   Lead Source_Welingak Website  1.07\n",
       "7              Specialization_Travel and Tourism  1.04"
      ]
     },
     "execution_count": 116,
     "metadata": {},
     "output_type": "execute_result"
    }
   ],
   "source": [
    "# Let's check the VIFs again\n",
    "\n",
    "vif = pd.DataFrame()\n",
    "vif['Features'] = X_train[col].columns\n",
    "vif['VIF'] = [variance_inflation_factor(X_train[col].values, i) for i in range(X_train[col].shape[1])]\n",
    "vif['VIF'] = round(vif['VIF'], 2)\n",
    "vif = vif.sort_values(by = \"VIF\", ascending = False)\n",
    "vif"
   ]
  },
  {
   "cell_type": "code",
   "execution_count": 117,
   "metadata": {},
   "outputs": [
    {
     "data": {
      "text/plain": [
       "Index(['Do Not Email', 'Total Time Spent on Website', 'Lead Source_Olark Chat',\n",
       "       'Lead Source_Reference', 'Lead Source_Welingak Website',\n",
       "       'Last Activity_Email Opened', 'Specialization_Travel and Tourism',\n",
       "       'What is your current occupation_Unemployed', 'Tags_Closed by Horizzon',\n",
       "       'Tags_Not Mentioned', 'Tags_Other_Tags',\n",
       "       'Tags_Will revert after reading the email',\n",
       "       'Last Notable Activity_Other_Notable_Activity',\n",
       "       'Last Notable Activity_SMS Sent'],\n",
       "      dtype='object')"
      ]
     },
     "execution_count": 117,
     "metadata": {},
     "output_type": "execute_result"
    }
   ],
   "source": [
    "# Let's drop 'Last Activity_SMS Sent' since it has a high VIF\n",
    "col = col.drop('Last Activity_SMS Sent')\n",
    "col"
   ]
  },
  {
   "cell_type": "markdown",
   "metadata": {},
   "source": [
    "#### Building Model 7"
   ]
  },
  {
   "cell_type": "code",
   "execution_count": 118,
   "metadata": {},
   "outputs": [
    {
     "data": {
      "text/html": [
       "<table class=\"simpletable\">\n",
       "<caption>Generalized Linear Model Regression Results</caption>\n",
       "<tr>\n",
       "  <th>Dep. Variable:</th>       <td>Converted</td>    <th>  No. Observations:  </th>  <td>  6363</td> \n",
       "</tr>\n",
       "<tr>\n",
       "  <th>Model:</th>                  <td>GLM</td>       <th>  Df Residuals:      </th>  <td>  6348</td> \n",
       "</tr>\n",
       "<tr>\n",
       "  <th>Model Family:</th>        <td>Binomial</td>     <th>  Df Model:          </th>  <td>    14</td> \n",
       "</tr>\n",
       "<tr>\n",
       "  <th>Link Function:</th>         <td>logit</td>      <th>  Scale:             </th> <td>  1.0000</td>\n",
       "</tr>\n",
       "<tr>\n",
       "  <th>Method:</th>                <td>IRLS</td>       <th>  Log-Likelihood:    </th> <td> -1533.4</td>\n",
       "</tr>\n",
       "<tr>\n",
       "  <th>Date:</th>            <td>Sun, 11 Apr 2021</td> <th>  Deviance:          </th> <td>  3066.9</td>\n",
       "</tr>\n",
       "<tr>\n",
       "  <th>Time:</th>                <td>22:29:05</td>     <th>  Pearson chi2:      </th> <td>7.01e+03</td>\n",
       "</tr>\n",
       "<tr>\n",
       "  <th>No. Iterations:</th>          <td>8</td>        <th>                     </th>     <td> </td>   \n",
       "</tr>\n",
       "<tr>\n",
       "  <th>Covariance Type:</th>     <td>nonrobust</td>    <th>                     </th>     <td> </td>   \n",
       "</tr>\n",
       "</table>\n",
       "<table class=\"simpletable\">\n",
       "<tr>\n",
       "                        <td></td>                          <th>coef</th>     <th>std err</th>      <th>z</th>      <th>P>|z|</th>  <th>[0.025</th>    <th>0.975]</th>  \n",
       "</tr>\n",
       "<tr>\n",
       "  <th>const</th>                                        <td>   -4.6715</td> <td>    0.309</td> <td>  -15.097</td> <td> 0.000</td> <td>   -5.278</td> <td>   -4.065</td>\n",
       "</tr>\n",
       "<tr>\n",
       "  <th>Do Not Email</th>                                 <td>   -1.3573</td> <td>    0.223</td> <td>   -6.074</td> <td> 0.000</td> <td>   -1.795</td> <td>   -0.919</td>\n",
       "</tr>\n",
       "<tr>\n",
       "  <th>Total Time Spent on Website</th>                  <td>    1.0909</td> <td>    0.054</td> <td>   20.279</td> <td> 0.000</td> <td>    0.985</td> <td>    1.196</td>\n",
       "</tr>\n",
       "<tr>\n",
       "  <th>Lead Source_Olark Chat</th>                       <td>    1.1193</td> <td>    0.132</td> <td>    8.460</td> <td> 0.000</td> <td>    0.860</td> <td>    1.379</td>\n",
       "</tr>\n",
       "<tr>\n",
       "  <th>Lead Source_Reference</th>                        <td>    2.0237</td> <td>    0.356</td> <td>    5.689</td> <td> 0.000</td> <td>    1.326</td> <td>    2.721</td>\n",
       "</tr>\n",
       "<tr>\n",
       "  <th>Lead Source_Welingak Website</th>                 <td>    6.8043</td> <td>    1.027</td> <td>    6.626</td> <td> 0.000</td> <td>    4.792</td> <td>    8.817</td>\n",
       "</tr>\n",
       "<tr>\n",
       "  <th>Last Activity_Email Opened</th>                   <td>    0.7321</td> <td>    0.114</td> <td>    6.445</td> <td> 0.000</td> <td>    0.509</td> <td>    0.955</td>\n",
       "</tr>\n",
       "<tr>\n",
       "  <th>Specialization_Travel and Tourism</th>            <td>   -0.9068</td> <td>    0.401</td> <td>   -2.260</td> <td> 0.024</td> <td>   -1.693</td> <td>   -0.120</td>\n",
       "</tr>\n",
       "<tr>\n",
       "  <th>What is your current occupation_Unemployed</th>   <td>   -0.7761</td> <td>    0.244</td> <td>   -3.184</td> <td> 0.001</td> <td>   -1.254</td> <td>   -0.298</td>\n",
       "</tr>\n",
       "<tr>\n",
       "  <th>Tags_Closed by Horizzon</th>                      <td>    8.8298</td> <td>    0.751</td> <td>   11.757</td> <td> 0.000</td> <td>    7.358</td> <td>   10.302</td>\n",
       "</tr>\n",
       "<tr>\n",
       "  <th>Tags_Not Mentioned</th>                           <td>    3.0398</td> <td>    0.198</td> <td>   15.357</td> <td> 0.000</td> <td>    2.652</td> <td>    3.428</td>\n",
       "</tr>\n",
       "<tr>\n",
       "  <th>Tags_Other_Tags</th>                              <td>    3.0496</td> <td>    0.208</td> <td>   14.684</td> <td> 0.000</td> <td>    2.643</td> <td>    3.457</td>\n",
       "</tr>\n",
       "<tr>\n",
       "  <th>Tags_Will revert after reading the email</th>     <td>    7.0742</td> <td>    0.246</td> <td>   28.728</td> <td> 0.000</td> <td>    6.592</td> <td>    7.557</td>\n",
       "</tr>\n",
       "<tr>\n",
       "  <th>Last Notable Activity_Other_Notable_Activity</th> <td>    1.3747</td> <td>    0.413</td> <td>    3.325</td> <td> 0.001</td> <td>    0.564</td> <td>    2.185</td>\n",
       "</tr>\n",
       "<tr>\n",
       "  <th>Last Notable Activity_SMS Sent</th>               <td>    2.5763</td> <td>    0.129</td> <td>   20.012</td> <td> 0.000</td> <td>    2.324</td> <td>    2.829</td>\n",
       "</tr>\n",
       "</table>"
      ],
      "text/plain": [
       "<class 'statsmodels.iolib.summary.Summary'>\n",
       "\"\"\"\n",
       "                 Generalized Linear Model Regression Results                  \n",
       "==============================================================================\n",
       "Dep. Variable:              Converted   No. Observations:                 6363\n",
       "Model:                            GLM   Df Residuals:                     6348\n",
       "Model Family:                Binomial   Df Model:                           14\n",
       "Link Function:                  logit   Scale:                          1.0000\n",
       "Method:                          IRLS   Log-Likelihood:                -1533.4\n",
       "Date:                Sun, 11 Apr 2021   Deviance:                       3066.9\n",
       "Time:                        22:29:05   Pearson chi2:                 7.01e+03\n",
       "No. Iterations:                     8                                         \n",
       "Covariance Type:            nonrobust                                         \n",
       "================================================================================================================\n",
       "                                                   coef    std err          z      P>|z|      [0.025      0.975]\n",
       "----------------------------------------------------------------------------------------------------------------\n",
       "const                                           -4.6715      0.309    -15.097      0.000      -5.278      -4.065\n",
       "Do Not Email                                    -1.3573      0.223     -6.074      0.000      -1.795      -0.919\n",
       "Total Time Spent on Website                      1.0909      0.054     20.279      0.000       0.985       1.196\n",
       "Lead Source_Olark Chat                           1.1193      0.132      8.460      0.000       0.860       1.379\n",
       "Lead Source_Reference                            2.0237      0.356      5.689      0.000       1.326       2.721\n",
       "Lead Source_Welingak Website                     6.8043      1.027      6.626      0.000       4.792       8.817\n",
       "Last Activity_Email Opened                       0.7321      0.114      6.445      0.000       0.509       0.955\n",
       "Specialization_Travel and Tourism               -0.9068      0.401     -2.260      0.024      -1.693      -0.120\n",
       "What is your current occupation_Unemployed      -0.7761      0.244     -3.184      0.001      -1.254      -0.298\n",
       "Tags_Closed by Horizzon                          8.8298      0.751     11.757      0.000       7.358      10.302\n",
       "Tags_Not Mentioned                               3.0398      0.198     15.357      0.000       2.652       3.428\n",
       "Tags_Other_Tags                                  3.0496      0.208     14.684      0.000       2.643       3.457\n",
       "Tags_Will revert after reading the email         7.0742      0.246     28.728      0.000       6.592       7.557\n",
       "Last Notable Activity_Other_Notable_Activity     1.3747      0.413      3.325      0.001       0.564       2.185\n",
       "Last Notable Activity_SMS Sent                   2.5763      0.129     20.012      0.000       2.324       2.829\n",
       "================================================================================================================\n",
       "\"\"\""
      ]
     },
     "execution_count": 118,
     "metadata": {},
     "output_type": "execute_result"
    }
   ],
   "source": [
    "# Building Model-7 after dropping the 'Lead Origin_Forms' and 'Last Activity_SMS Sent' and checking the summary.\n",
    "\n",
    "X_train_sm=sm.add_constant(X_train[col])\n",
    "lm7=sm.GLM(y_train,X_train_sm, family = sm.families.Binomial())\n",
    "res = lm7.fit()\n",
    "res.summary()"
   ]
  },
  {
   "cell_type": "markdown",
   "metadata": {},
   "source": [
    "#### Since model 7 seems to be stable with significant p-value(<0.05), so proceeding with further analysis without dropping any other columns."
   ]
  },
  {
   "cell_type": "code",
   "execution_count": 119,
   "metadata": {},
   "outputs": [
    {
     "data": {
      "text/html": [
       "<div>\n",
       "<style scoped>\n",
       "    .dataframe tbody tr th:only-of-type {\n",
       "        vertical-align: middle;\n",
       "    }\n",
       "\n",
       "    .dataframe tbody tr th {\n",
       "        vertical-align: top;\n",
       "    }\n",
       "\n",
       "    .dataframe thead th {\n",
       "        text-align: right;\n",
       "    }\n",
       "</style>\n",
       "<table border=\"1\" class=\"dataframe\">\n",
       "  <thead>\n",
       "    <tr style=\"text-align: right;\">\n",
       "      <th></th>\n",
       "      <th>Features</th>\n",
       "      <th>VIF</th>\n",
       "    </tr>\n",
       "  </thead>\n",
       "  <tbody>\n",
       "    <tr>\n",
       "      <th>7</th>\n",
       "      <td>What is your current occupation_Unemployed</td>\n",
       "      <td>4.27</td>\n",
       "    </tr>\n",
       "    <tr>\n",
       "      <th>9</th>\n",
       "      <td>Tags_Not Mentioned</td>\n",
       "      <td>2.46</td>\n",
       "    </tr>\n",
       "    <tr>\n",
       "      <th>11</th>\n",
       "      <td>Tags_Will revert after reading the email</td>\n",
       "      <td>1.98</td>\n",
       "    </tr>\n",
       "    <tr>\n",
       "      <th>5</th>\n",
       "      <td>Last Activity_Email Opened</td>\n",
       "      <td>1.92</td>\n",
       "    </tr>\n",
       "    <tr>\n",
       "      <th>13</th>\n",
       "      <td>Last Notable Activity_SMS Sent</td>\n",
       "      <td>1.76</td>\n",
       "    </tr>\n",
       "    <tr>\n",
       "      <th>2</th>\n",
       "      <td>Lead Source_Olark Chat</td>\n",
       "      <td>1.58</td>\n",
       "    </tr>\n",
       "    <tr>\n",
       "      <th>10</th>\n",
       "      <td>Tags_Other_Tags</td>\n",
       "      <td>1.49</td>\n",
       "    </tr>\n",
       "    <tr>\n",
       "      <th>3</th>\n",
       "      <td>Lead Source_Reference</td>\n",
       "      <td>1.43</td>\n",
       "    </tr>\n",
       "    <tr>\n",
       "      <th>1</th>\n",
       "      <td>Total Time Spent on Website</td>\n",
       "      <td>1.36</td>\n",
       "    </tr>\n",
       "    <tr>\n",
       "      <th>8</th>\n",
       "      <td>Tags_Closed by Horizzon</td>\n",
       "      <td>1.35</td>\n",
       "    </tr>\n",
       "    <tr>\n",
       "      <th>0</th>\n",
       "      <td>Do Not Email</td>\n",
       "      <td>1.26</td>\n",
       "    </tr>\n",
       "    <tr>\n",
       "      <th>12</th>\n",
       "      <td>Last Notable Activity_Other_Notable_Activity</td>\n",
       "      <td>1.13</td>\n",
       "    </tr>\n",
       "    <tr>\n",
       "      <th>4</th>\n",
       "      <td>Lead Source_Welingak Website</td>\n",
       "      <td>1.07</td>\n",
       "    </tr>\n",
       "    <tr>\n",
       "      <th>6</th>\n",
       "      <td>Specialization_Travel and Tourism</td>\n",
       "      <td>1.04</td>\n",
       "    </tr>\n",
       "  </tbody>\n",
       "</table>\n",
       "</div>"
      ],
      "text/plain": [
       "                                        Features   VIF\n",
       "7     What is your current occupation_Unemployed  4.27\n",
       "9                             Tags_Not Mentioned  2.46\n",
       "11      Tags_Will revert after reading the email  1.98\n",
       "5                     Last Activity_Email Opened  1.92\n",
       "13                Last Notable Activity_SMS Sent  1.76\n",
       "2                         Lead Source_Olark Chat  1.58\n",
       "10                               Tags_Other_Tags  1.49\n",
       "3                          Lead Source_Reference  1.43\n",
       "1                    Total Time Spent on Website  1.36\n",
       "8                        Tags_Closed by Horizzon  1.35\n",
       "0                                   Do Not Email  1.26\n",
       "12  Last Notable Activity_Other_Notable_Activity  1.13\n",
       "4                   Lead Source_Welingak Website  1.07\n",
       "6              Specialization_Travel and Tourism  1.04"
      ]
     },
     "execution_count": 119,
     "metadata": {},
     "output_type": "execute_result"
    }
   ],
   "source": [
    "# Let's check the VIFs again\n",
    "\n",
    "vif = pd.DataFrame()\n",
    "vif['Features'] = X_train[col].columns\n",
    "vif['VIF'] = [variance_inflation_factor(X_train[col].values, i) for i in range(X_train[col].shape[1])]\n",
    "vif['VIF'] = round(vif['VIF'], 2)\n",
    "vif = vif.sort_values(by = \"VIF\", ascending = False)\n",
    "vif"
   ]
  },
  {
   "cell_type": "markdown",
   "metadata": {},
   "source": [
    "#### All variables have a good value of VIF for our chosen model (lm7). So we do not have to drop an variables further and we can proceed with making predictions using this model only"
   ]
  },
  {
   "cell_type": "markdown",
   "metadata": {},
   "source": [
    "## Step 9: Getting the predicted values on the train set and checking for other metrics."
   ]
  },
  {
   "cell_type": "markdown",
   "metadata": {},
   "source": [
    "### 9.1 Getting predicted y_train for X_train_sm using the stable model (lm7)"
   ]
  },
  {
   "cell_type": "code",
   "execution_count": 120,
   "metadata": {},
   "outputs": [
    {
     "name": "stdout",
     "output_type": "stream",
     "text": [
      "302     0.104953\n",
      "6087    0.026242\n",
      "1033    0.154059\n",
      "7656    0.011072\n",
      "3241    0.994415\n",
      "dtype: float64\n"
     ]
    },
    {
     "data": {
      "text/plain": [
       "array([0.10495279, 0.02624215, 0.15405943, ..., 0.23604171, 0.45605727,\n",
       "       0.00359928])"
      ]
     },
     "execution_count": 120,
     "metadata": {},
     "output_type": "execute_result"
    }
   ],
   "source": [
    "# Getting the predicted y-value for X_train_sm dataset using the chosen logistic regression model (Model - 8).\n",
    "\n",
    "y_train_pred = res.predict(X_train_sm)\n",
    "print (y_train_pred[:5])\n",
    "\n",
    "y_train_pred= y_train_pred.values.reshape(-1)\n",
    "y_train_pred"
   ]
  },
  {
   "cell_type": "code",
   "execution_count": 121,
   "metadata": {},
   "outputs": [
    {
     "data": {
      "text/html": [
       "<div>\n",
       "<style scoped>\n",
       "    .dataframe tbody tr th:only-of-type {\n",
       "        vertical-align: middle;\n",
       "    }\n",
       "\n",
       "    .dataframe tbody tr th {\n",
       "        vertical-align: top;\n",
       "    }\n",
       "\n",
       "    .dataframe thead th {\n",
       "        text-align: right;\n",
       "    }\n",
       "</style>\n",
       "<table border=\"1\" class=\"dataframe\">\n",
       "  <thead>\n",
       "    <tr style=\"text-align: right;\">\n",
       "      <th></th>\n",
       "      <th>Converted</th>\n",
       "      <th>Converted_Prob</th>\n",
       "      <th>LeadId</th>\n",
       "    </tr>\n",
       "  </thead>\n",
       "  <tbody>\n",
       "    <tr>\n",
       "      <th>0</th>\n",
       "      <td>0</td>\n",
       "      <td>0.104953</td>\n",
       "      <td>302</td>\n",
       "    </tr>\n",
       "    <tr>\n",
       "      <th>1</th>\n",
       "      <td>0</td>\n",
       "      <td>0.026242</td>\n",
       "      <td>6087</td>\n",
       "    </tr>\n",
       "    <tr>\n",
       "      <th>2</th>\n",
       "      <td>0</td>\n",
       "      <td>0.154059</td>\n",
       "      <td>1033</td>\n",
       "    </tr>\n",
       "    <tr>\n",
       "      <th>3</th>\n",
       "      <td>0</td>\n",
       "      <td>0.011072</td>\n",
       "      <td>7656</td>\n",
       "    </tr>\n",
       "    <tr>\n",
       "      <th>4</th>\n",
       "      <td>1</td>\n",
       "      <td>0.994415</td>\n",
       "      <td>3241</td>\n",
       "    </tr>\n",
       "  </tbody>\n",
       "</table>\n",
       "</div>"
      ],
      "text/plain": [
       "   Converted  Converted_Prob  LeadId\n",
       "0          0        0.104953     302\n",
       "1          0        0.026242    6087\n",
       "2          0        0.154059    1033\n",
       "3          0        0.011072    7656\n",
       "4          1        0.994415    3241"
      ]
     },
     "execution_count": 121,
     "metadata": {},
     "output_type": "execute_result"
    }
   ],
   "source": [
    "# Creating dataframe having the original Converted values along with the predicted Converted Predicted values.\n",
    "\n",
    "y_train_pred_df = pd.DataFrame({'Converted':y_train.values, 'Converted_Prob':y_train_pred})\n",
    "y_train_pred_df['LeadId'] = y_train.index\n",
    "y_train_pred_df.head()"
   ]
  },
  {
   "cell_type": "code",
   "execution_count": 122,
   "metadata": {},
   "outputs": [
    {
     "data": {
      "text/html": [
       "<div>\n",
       "<style scoped>\n",
       "    .dataframe tbody tr th:only-of-type {\n",
       "        vertical-align: middle;\n",
       "    }\n",
       "\n",
       "    .dataframe tbody tr th {\n",
       "        vertical-align: top;\n",
       "    }\n",
       "\n",
       "    .dataframe thead th {\n",
       "        text-align: right;\n",
       "    }\n",
       "</style>\n",
       "<table border=\"1\" class=\"dataframe\">\n",
       "  <thead>\n",
       "    <tr style=\"text-align: right;\">\n",
       "      <th></th>\n",
       "      <th>Converted</th>\n",
       "      <th>Converted_Prob</th>\n",
       "      <th>LeadId</th>\n",
       "      <th>Predicted</th>\n",
       "    </tr>\n",
       "  </thead>\n",
       "  <tbody>\n",
       "    <tr>\n",
       "      <th>0</th>\n",
       "      <td>0</td>\n",
       "      <td>0.104953</td>\n",
       "      <td>302</td>\n",
       "      <td>0</td>\n",
       "    </tr>\n",
       "    <tr>\n",
       "      <th>1</th>\n",
       "      <td>0</td>\n",
       "      <td>0.026242</td>\n",
       "      <td>6087</td>\n",
       "      <td>0</td>\n",
       "    </tr>\n",
       "    <tr>\n",
       "      <th>2</th>\n",
       "      <td>0</td>\n",
       "      <td>0.154059</td>\n",
       "      <td>1033</td>\n",
       "      <td>0</td>\n",
       "    </tr>\n",
       "    <tr>\n",
       "      <th>3</th>\n",
       "      <td>0</td>\n",
       "      <td>0.011072</td>\n",
       "      <td>7656</td>\n",
       "      <td>0</td>\n",
       "    </tr>\n",
       "    <tr>\n",
       "      <th>4</th>\n",
       "      <td>1</td>\n",
       "      <td>0.994415</td>\n",
       "      <td>3241</td>\n",
       "      <td>1</td>\n",
       "    </tr>\n",
       "  </tbody>\n",
       "</table>\n",
       "</div>"
      ],
      "text/plain": [
       "   Converted  Converted_Prob  LeadId  Predicted\n",
       "0          0        0.104953     302          0\n",
       "1          0        0.026242    6087          0\n",
       "2          0        0.154059    1033          0\n",
       "3          0        0.011072    7656          0\n",
       "4          1        0.994415    3241          1"
      ]
     },
     "execution_count": 122,
     "metadata": {},
     "output_type": "execute_result"
    }
   ],
   "source": [
    "y_train_pred_df['Predicted'] = y_train_pred_df.Converted_Prob.map(lambda x: 1 if x > 0.5 else 0)\n",
    "y_train_pred_df.head()"
   ]
  },
  {
   "cell_type": "markdown",
   "metadata": {},
   "source": [
    "### 9.2 Confusion Matrix"
   ]
  },
  {
   "cell_type": "code",
   "execution_count": 123,
   "metadata": {},
   "outputs": [
    {
     "name": "stdout",
     "output_type": "stream",
     "text": [
      "[[3730  205]\n",
      " [ 410 2018]]\n"
     ]
    }
   ],
   "source": [
    "# Confusion matrix \n",
    "\n",
    "confusion = metrics.confusion_matrix(y_train_pred_df.Converted, y_train_pred_df.Predicted )\n",
    "print(confusion)"
   ]
  },
  {
   "cell_type": "code",
   "execution_count": 124,
   "metadata": {},
   "outputs": [
    {
     "name": "stdout",
     "output_type": "stream",
     "text": [
      "0.9033474776049033\n"
     ]
    }
   ],
   "source": [
    "# Checking the overall accuracy.\n",
    "\n",
    "print(metrics.accuracy_score(y_train_pred_df.Converted, y_train_pred_df.Predicted))"
   ]
  },
  {
   "cell_type": "markdown",
   "metadata": {},
   "source": [
    "#### Accuracy rate is around 90% which is good. However we will also need to calculate the other metrics as we cannot depend only on the accuracy metrics"
   ]
  },
  {
   "cell_type": "markdown",
   "metadata": {},
   "source": [
    "### 9.3 Checking for other Metrics-\n",
    "\n",
    "Sensitivity, \n",
    "Specificity, \n",
    "False Positive Rate, \n",
    "Postitive Predictive Value \n",
    "and Negative Predictive Value"
   ]
  },
  {
   "cell_type": "code",
   "execution_count": 125,
   "metadata": {},
   "outputs": [
    {
     "data": {
      "text/plain": [
       "0.8311367380560132"
      ]
     },
     "execution_count": 125,
     "metadata": {},
     "output_type": "execute_result"
    }
   ],
   "source": [
    "# Metrics-Sensitivity, Specificity, False Positive Rate, Postitive Predictive Value and Negative Predictive Value\n",
    "TP = confusion[1,1] # true positive \n",
    "TN = confusion[0,0] # true negatives\n",
    "FP = confusion[0,1] # false positives\n",
    "FN = confusion[1,0] # false negatives\n",
    "\n",
    "# To check the sensitivity of our logistic regression model\n",
    "\n",
    "TP / float(TP+FN)"
   ]
  },
  {
   "cell_type": "code",
   "execution_count": 126,
   "metadata": {},
   "outputs": [
    {
     "data": {
      "text/plain": [
       "0.9479034307496823"
      ]
     },
     "execution_count": 126,
     "metadata": {},
     "output_type": "execute_result"
    }
   ],
   "source": [
    "# Calculating specificity value\n",
    "\n",
    "TN / float(TN+FP)"
   ]
  },
  {
   "cell_type": "code",
   "execution_count": 127,
   "metadata": {},
   "outputs": [
    {
     "name": "stdout",
     "output_type": "stream",
     "text": [
      "0.052096569250317665\n"
     ]
    }
   ],
   "source": [
    "# Calculating false postive rate - predicting non conversion when leads have converted\n",
    "\n",
    "print(FP/ float(TN+FP))"
   ]
  },
  {
   "cell_type": "code",
   "execution_count": 128,
   "metadata": {},
   "outputs": [
    {
     "name": "stdout",
     "output_type": "stream",
     "text": [
      "0.9077822762033289\n"
     ]
    }
   ],
   "source": [
    "# Calculating the positive predictive value \n",
    "\n",
    "print (TP / float(TP+FP))"
   ]
  },
  {
   "cell_type": "code",
   "execution_count": 129,
   "metadata": {},
   "outputs": [
    {
     "name": "stdout",
     "output_type": "stream",
     "text": [
      "0.9009661835748792\n"
     ]
    }
   ],
   "source": [
    "# Calculating the Negative predictive value\n",
    "\n",
    "print (TN / float(TN+ FN))"
   ]
  },
  {
   "cell_type": "markdown",
   "metadata": {},
   "source": [
    "### 9.4 Defining function for drawing the ROC curve"
   ]
  },
  {
   "cell_type": "code",
   "execution_count": 130,
   "metadata": {},
   "outputs": [],
   "source": [
    "def draw_roc( actual, probs ):\n",
    "    fpr, tpr, thresholds = metrics.roc_curve( actual, probs,\n",
    "                                              drop_intermediate = False )\n",
    "    auc_score = metrics.roc_auc_score( actual, probs )\n",
    "    plt.figure(figsize=(5, 5))\n",
    "    plt.plot( fpr, tpr, label='ROC curve (area = %0.4f)' % auc_score )\n",
    "    plt.plot([0, 1], [0, 1], 'k--')\n",
    "    plt.xlim([0.0, 1.0])\n",
    "    plt.ylim([0.0, 1.05])\n",
    "    plt.xlabel('False Positive Rate or [1 - True Negative Rate]')\n",
    "    plt.ylabel('True Positive Rate')\n",
    "    plt.title('Receiver operating characteristic example')\n",
    "    plt.legend(loc=\"lower right\")\n",
    "    plt.show()\n",
    "\n",
    "    return None"
   ]
  },
  {
   "cell_type": "markdown",
   "metadata": {},
   "source": [
    "### 9.5 Plotting the ROC Curve"
   ]
  },
  {
   "cell_type": "code",
   "execution_count": 131,
   "metadata": {},
   "outputs": [
    {
     "data": {
      "image/png": "[encoded data removed]",
      "text/plain": [
       "<Figure size 360x360 with 1 Axes>"
      ]
     },
     "metadata": {},
     "output_type": "display_data"
    }
   ],
   "source": [
    "fpr, tpr, thresholds = metrics.roc_curve( y_train_pred_df.Converted, y_train_pred_df.Converted_Prob, \n",
    "                                         drop_intermediate = False )\n",
    "draw_roc(y_train_pred_df.Converted, y_train_pred_df.Converted_Prob)"
   ]
  },
  {
   "cell_type": "markdown",
   "metadata": {},
   "source": [
    "### 9.6 Calculating the area under the curve (GINI)"
   ]
  },
  {
   "cell_type": "code",
   "execution_count": 132,
   "metadata": {},
   "outputs": [],
   "source": [
    "def auc_val(fpr,tpr):\n",
    "    AreaUnderCurve = 0.\n",
    "    for i in range(len(fpr)-1):\n",
    "        AreaUnderCurve += (fpr[i+1]-fpr[i]) * (tpr[i+1]+tpr[i])\n",
    "    AreaUnderCurve *= 0.5\n",
    "    return AreaUnderCurve"
   ]
  },
  {
   "cell_type": "code",
   "execution_count": 133,
   "metadata": {},
   "outputs": [
    {
     "data": {
      "text/plain": [
       "0.9585975457862247"
      ]
     },
     "execution_count": 133,
     "metadata": {},
     "output_type": "execute_result"
    }
   ],
   "source": [
    "auc = auc_val(fpr,tpr)\n",
    "auc"
   ]
  },
  {
   "cell_type": "markdown",
   "metadata": {},
   "source": [
    "#### As a rule of thumb, an AUC can be classed as follows,\n",
    "\n",
    "0.90 - 1.00 = excellent\n",
    "\n",
    "0.80 - 0.90 = good\n",
    "\n",
    "0.70 - 0.80 = fair\n",
    "\n",
    "0.60 - 0.70 = poor\n",
    "\n",
    "0.50 - 0.60 = fail\n",
    "\n",
    "Since we got a value of 0.9586, our model seems to be doing well on the training dataset."
   ]
  },
  {
   "cell_type": "markdown",
   "metadata": {},
   "source": [
    "## Step 10: Finding Optimal Cutoff Point\n",
    "#### Optimal cut off probability is that prob where we get balanced sensitivity and specificity\n"
   ]
  },
  {
   "cell_type": "markdown",
   "metadata": {},
   "source": [
    "#### Creating columns with different probability cutoffs "
   ]
  },
  {
   "cell_type": "code",
   "execution_count": 134,
   "metadata": {},
   "outputs": [
    {
     "data": {
      "text/html": [
       "<div>\n",
       "<style scoped>\n",
       "    .dataframe tbody tr th:only-of-type {\n",
       "        vertical-align: middle;\n",
       "    }\n",
       "\n",
       "    .dataframe tbody tr th {\n",
       "        vertical-align: top;\n",
       "    }\n",
       "\n",
       "    .dataframe thead th {\n",
       "        text-align: right;\n",
       "    }\n",
       "</style>\n",
       "<table border=\"1\" class=\"dataframe\">\n",
       "  <thead>\n",
       "    <tr style=\"text-align: right;\">\n",
       "      <th></th>\n",
       "      <th>Converted</th>\n",
       "      <th>Converted_Prob</th>\n",
       "      <th>LeadId</th>\n",
       "      <th>Predicted</th>\n",
       "      <th>0.0</th>\n",
       "      <th>0.1</th>\n",
       "      <th>0.2</th>\n",
       "      <th>0.3</th>\n",
       "      <th>0.4</th>\n",
       "      <th>0.5</th>\n",
       "      <th>0.6</th>\n",
       "      <th>0.7</th>\n",
       "      <th>0.8</th>\n",
       "      <th>0.9</th>\n",
       "    </tr>\n",
       "  </thead>\n",
       "  <tbody>\n",
       "    <tr>\n",
       "      <th>0</th>\n",
       "      <td>0</td>\n",
       "      <td>0.104953</td>\n",
       "      <td>302</td>\n",
       "      <td>0</td>\n",
       "      <td>1</td>\n",
       "      <td>1</td>\n",
       "      <td>0</td>\n",
       "      <td>0</td>\n",
       "      <td>0</td>\n",
       "      <td>0</td>\n",
       "      <td>0</td>\n",
       "      <td>0</td>\n",
       "      <td>0</td>\n",
       "      <td>0</td>\n",
       "    </tr>\n",
       "    <tr>\n",
       "      <th>1</th>\n",
       "      <td>0</td>\n",
       "      <td>0.026242</td>\n",
       "      <td>6087</td>\n",
       "      <td>0</td>\n",
       "      <td>1</td>\n",
       "      <td>0</td>\n",
       "      <td>0</td>\n",
       "      <td>0</td>\n",
       "      <td>0</td>\n",
       "      <td>0</td>\n",
       "      <td>0</td>\n",
       "      <td>0</td>\n",
       "      <td>0</td>\n",
       "      <td>0</td>\n",
       "    </tr>\n",
       "    <tr>\n",
       "      <th>2</th>\n",
       "      <td>0</td>\n",
       "      <td>0.154059</td>\n",
       "      <td>1033</td>\n",
       "      <td>0</td>\n",
       "      <td>1</td>\n",
       "      <td>1</td>\n",
       "      <td>0</td>\n",
       "      <td>0</td>\n",
       "      <td>0</td>\n",
       "      <td>0</td>\n",
       "      <td>0</td>\n",
       "      <td>0</td>\n",
       "      <td>0</td>\n",
       "      <td>0</td>\n",
       "    </tr>\n",
       "    <tr>\n",
       "      <th>3</th>\n",
       "      <td>0</td>\n",
       "      <td>0.011072</td>\n",
       "      <td>7656</td>\n",
       "      <td>0</td>\n",
       "      <td>1</td>\n",
       "      <td>0</td>\n",
       "      <td>0</td>\n",
       "      <td>0</td>\n",
       "      <td>0</td>\n",
       "      <td>0</td>\n",
       "      <td>0</td>\n",
       "      <td>0</td>\n",
       "      <td>0</td>\n",
       "      <td>0</td>\n",
       "    </tr>\n",
       "    <tr>\n",
       "      <th>4</th>\n",
       "      <td>1</td>\n",
       "      <td>0.994415</td>\n",
       "      <td>3241</td>\n",
       "      <td>1</td>\n",
       "      <td>1</td>\n",
       "      <td>1</td>\n",
       "      <td>1</td>\n",
       "      <td>1</td>\n",
       "      <td>1</td>\n",
       "      <td>1</td>\n",
       "      <td>1</td>\n",
       "      <td>1</td>\n",
       "      <td>1</td>\n",
       "      <td>1</td>\n",
       "    </tr>\n",
       "  </tbody>\n",
       "</table>\n",
       "</div>"
      ],
      "text/plain": [
       "   Converted  Converted_Prob  LeadId  Predicted  0.0  0.1  0.2  0.3  0.4  0.5  \\\n",
       "0          0        0.104953     302          0    1    1    0    0    0    0   \n",
       "1          0        0.026242    6087          0    1    0    0    0    0    0   \n",
       "2          0        0.154059    1033          0    1    1    0    0    0    0   \n",
       "3          0        0.011072    7656          0    1    0    0    0    0    0   \n",
       "4          1        0.994415    3241          1    1    1    1    1    1    1   \n",
       "\n",
       "   0.6  0.7  0.8  0.9  \n",
       "0    0    0    0    0  \n",
       "1    0    0    0    0  \n",
       "2    0    0    0    0  \n",
       "3    0    0    0    0  \n",
       "4    1    1    1    1  "
      ]
     },
     "execution_count": 134,
     "metadata": {},
     "output_type": "execute_result"
    }
   ],
   "source": [
    "numbers = [float(x)/10 for x in range(10)]\n",
    "for i in numbers:\n",
    "    y_train_pred_df[i]= y_train_pred_df.Converted_Prob.map(lambda x: 1 if x > i else 0)\n",
    "y_train_pred_df.head()"
   ]
  },
  {
   "cell_type": "markdown",
   "metadata": {},
   "source": [
    "#### Calculating accuracy sensitivity and specificity for various probability cutoffs."
   ]
  },
  {
   "cell_type": "code",
   "execution_count": 135,
   "metadata": {},
   "outputs": [
    {
     "name": "stdout",
     "output_type": "stream",
     "text": [
      "     prob  accuracy  sensitivity  specificity\n",
      "0.0   0.0  0.381581     1.000000     0.000000\n",
      "0.1   0.1  0.806852     0.961697     0.711309\n",
      "0.2   0.2  0.887160     0.916392     0.869123\n",
      "0.3   0.3  0.895647     0.892092     0.897840\n",
      "0.4   0.4  0.902247     0.861203     0.927573\n",
      "0.5   0.5  0.903347     0.831137     0.947903\n",
      "0.6   0.6  0.898318     0.787068     0.966963\n",
      "0.7   0.7  0.893918     0.762768     0.974841\n",
      "0.8   0.8  0.885903     0.729407     0.982465\n",
      "0.9   0.9  0.865472     0.661450     0.991360\n"
     ]
    }
   ],
   "source": [
    "cutoff_df = pd.DataFrame( columns = ['prob','accuracy','sensitivity','specificity'])\n",
    "num = [0.0,0.1,0.2,0.3,0.4,0.5,0.6,0.7,0.8,0.9]\n",
    "for i in num:\n",
    "    cm1 = metrics.confusion_matrix(y_train_pred_df.Converted, y_train_pred_df[i] )\n",
    "    total1=sum(sum(cm1))\n",
    "    accuracy = (cm1[0,0]+cm1[1,1])/total1\n",
    "    \n",
    "    specificity = cm1[0,0]/(cm1[0,0]+cm1[0,1])\n",
    "    sensitivity = cm1[1,1]/(cm1[1,0]+cm1[1,1])\n",
    "    cutoff_df.loc[i] =[ i ,accuracy,sensitivity,specificity]\n",
    "print(cutoff_df)"
   ]
  },
  {
   "cell_type": "markdown",
   "metadata": {},
   "source": [
    "#### plotting accuracy sensitivity and specificity for various probabilities."
   ]
  },
  {
   "cell_type": "code",
   "execution_count": 136,
   "metadata": {},
   "outputs": [
    {
     "data": {
      "image/png": "[encoded data removed]",
      "text/plain": [
       "<Figure size 432x288 with 1 Axes>"
      ]
     },
     "metadata": {},
     "output_type": "display_data"
    }
   ],
   "source": [
    "cutoff_df.plot.line(x='prob', y=['accuracy','sensitivity','specificity'])\n",
    "plt.show()"
   ]
  },
  {
   "cell_type": "code",
   "execution_count": 137,
   "metadata": {},
   "outputs": [
    {
     "data": {
      "text/html": [
       "<div>\n",
       "<style scoped>\n",
       "    .dataframe tbody tr th:only-of-type {\n",
       "        vertical-align: middle;\n",
       "    }\n",
       "\n",
       "    .dataframe tbody tr th {\n",
       "        vertical-align: top;\n",
       "    }\n",
       "\n",
       "    .dataframe thead th {\n",
       "        text-align: right;\n",
       "    }\n",
       "</style>\n",
       "<table border=\"1\" class=\"dataframe\">\n",
       "  <thead>\n",
       "    <tr style=\"text-align: right;\">\n",
       "      <th></th>\n",
       "      <th>Converted</th>\n",
       "      <th>Converted_Prob</th>\n",
       "      <th>LeadId</th>\n",
       "      <th>Predicted</th>\n",
       "      <th>0.0</th>\n",
       "      <th>0.1</th>\n",
       "      <th>0.2</th>\n",
       "      <th>0.3</th>\n",
       "      <th>0.4</th>\n",
       "      <th>0.5</th>\n",
       "      <th>0.6</th>\n",
       "      <th>0.7</th>\n",
       "      <th>0.8</th>\n",
       "      <th>0.9</th>\n",
       "      <th>final_predicted</th>\n",
       "    </tr>\n",
       "  </thead>\n",
       "  <tbody>\n",
       "    <tr>\n",
       "      <th>0</th>\n",
       "      <td>0</td>\n",
       "      <td>0.104953</td>\n",
       "      <td>302</td>\n",
       "      <td>0</td>\n",
       "      <td>1</td>\n",
       "      <td>1</td>\n",
       "      <td>0</td>\n",
       "      <td>0</td>\n",
       "      <td>0</td>\n",
       "      <td>0</td>\n",
       "      <td>0</td>\n",
       "      <td>0</td>\n",
       "      <td>0</td>\n",
       "      <td>0</td>\n",
       "      <td>0</td>\n",
       "    </tr>\n",
       "    <tr>\n",
       "      <th>1</th>\n",
       "      <td>0</td>\n",
       "      <td>0.026242</td>\n",
       "      <td>6087</td>\n",
       "      <td>0</td>\n",
       "      <td>1</td>\n",
       "      <td>0</td>\n",
       "      <td>0</td>\n",
       "      <td>0</td>\n",
       "      <td>0</td>\n",
       "      <td>0</td>\n",
       "      <td>0</td>\n",
       "      <td>0</td>\n",
       "      <td>0</td>\n",
       "      <td>0</td>\n",
       "      <td>0</td>\n",
       "    </tr>\n",
       "    <tr>\n",
       "      <th>2</th>\n",
       "      <td>0</td>\n",
       "      <td>0.154059</td>\n",
       "      <td>1033</td>\n",
       "      <td>0</td>\n",
       "      <td>1</td>\n",
       "      <td>1</td>\n",
       "      <td>0</td>\n",
       "      <td>0</td>\n",
       "      <td>0</td>\n",
       "      <td>0</td>\n",
       "      <td>0</td>\n",
       "      <td>0</td>\n",
       "      <td>0</td>\n",
       "      <td>0</td>\n",
       "      <td>0</td>\n",
       "    </tr>\n",
       "    <tr>\n",
       "      <th>3</th>\n",
       "      <td>0</td>\n",
       "      <td>0.011072</td>\n",
       "      <td>7656</td>\n",
       "      <td>0</td>\n",
       "      <td>1</td>\n",
       "      <td>0</td>\n",
       "      <td>0</td>\n",
       "      <td>0</td>\n",
       "      <td>0</td>\n",
       "      <td>0</td>\n",
       "      <td>0</td>\n",
       "      <td>0</td>\n",
       "      <td>0</td>\n",
       "      <td>0</td>\n",
       "      <td>0</td>\n",
       "    </tr>\n",
       "    <tr>\n",
       "      <th>4</th>\n",
       "      <td>1</td>\n",
       "      <td>0.994415</td>\n",
       "      <td>3241</td>\n",
       "      <td>1</td>\n",
       "      <td>1</td>\n",
       "      <td>1</td>\n",
       "      <td>1</td>\n",
       "      <td>1</td>\n",
       "      <td>1</td>\n",
       "      <td>1</td>\n",
       "      <td>1</td>\n",
       "      <td>1</td>\n",
       "      <td>1</td>\n",
       "      <td>1</td>\n",
       "      <td>1</td>\n",
       "    </tr>\n",
       "  </tbody>\n",
       "</table>\n",
       "</div>"
      ],
      "text/plain": [
       "   Converted  Converted_Prob  LeadId  Predicted  0.0  0.1  0.2  0.3  0.4  0.5  \\\n",
       "0          0        0.104953     302          0    1    1    0    0    0    0   \n",
       "1          0        0.026242    6087          0    1    0    0    0    0    0   \n",
       "2          0        0.154059    1033          0    1    1    0    0    0    0   \n",
       "3          0        0.011072    7656          0    1    0    0    0    0    0   \n",
       "4          1        0.994415    3241          1    1    1    1    1    1    1   \n",
       "\n",
       "   0.6  0.7  0.8  0.9  final_predicted  \n",
       "0    0    0    0    0                0  \n",
       "1    0    0    0    0                0  \n",
       "2    0    0    0    0                0  \n",
       "3    0    0    0    0                0  \n",
       "4    1    1    1    1                1  "
      ]
     },
     "execution_count": 137,
     "metadata": {},
     "output_type": "execute_result"
    }
   ],
   "source": [
    "# Let us make the final prediction using 0.3 as the cut off as seen in above plotted diagram\n",
    "\n",
    "y_train_pred_df['final_predicted'] = y_train_pred_df.Converted_Prob.map( lambda x: 1 if x > 0.3 else 0)\n",
    "y_train_pred_df.head()"
   ]
  },
  {
   "cell_type": "code",
   "execution_count": 138,
   "metadata": {},
   "outputs": [
    {
     "data": {
      "text/html": [
       "<div>\n",
       "<style scoped>\n",
       "    .dataframe tbody tr th:only-of-type {\n",
       "        vertical-align: middle;\n",
       "    }\n",
       "\n",
       "    .dataframe tbody tr th {\n",
       "        vertical-align: top;\n",
       "    }\n",
       "\n",
       "    .dataframe thead th {\n",
       "        text-align: right;\n",
       "    }\n",
       "</style>\n",
       "<table border=\"1\" class=\"dataframe\">\n",
       "  <thead>\n",
       "    <tr style=\"text-align: right;\">\n",
       "      <th></th>\n",
       "      <th>Converted</th>\n",
       "      <th>Converted_Prob</th>\n",
       "      <th>LeadId</th>\n",
       "      <th>Predicted</th>\n",
       "      <th>0.0</th>\n",
       "      <th>0.1</th>\n",
       "      <th>0.2</th>\n",
       "      <th>0.3</th>\n",
       "      <th>0.4</th>\n",
       "      <th>0.5</th>\n",
       "      <th>0.6</th>\n",
       "      <th>0.7</th>\n",
       "      <th>0.8</th>\n",
       "      <th>0.9</th>\n",
       "      <th>final_predicted</th>\n",
       "      <th>lead_score</th>\n",
       "    </tr>\n",
       "  </thead>\n",
       "  <tbody>\n",
       "    <tr>\n",
       "      <th>0</th>\n",
       "      <td>0</td>\n",
       "      <td>0.104953</td>\n",
       "      <td>302</td>\n",
       "      <td>0</td>\n",
       "      <td>1</td>\n",
       "      <td>1</td>\n",
       "      <td>0</td>\n",
       "      <td>0</td>\n",
       "      <td>0</td>\n",
       "      <td>0</td>\n",
       "      <td>0</td>\n",
       "      <td>0</td>\n",
       "      <td>0</td>\n",
       "      <td>0</td>\n",
       "      <td>0</td>\n",
       "      <td>10</td>\n",
       "    </tr>\n",
       "    <tr>\n",
       "      <th>1</th>\n",
       "      <td>0</td>\n",
       "      <td>0.026242</td>\n",
       "      <td>6087</td>\n",
       "      <td>0</td>\n",
       "      <td>1</td>\n",
       "      <td>0</td>\n",
       "      <td>0</td>\n",
       "      <td>0</td>\n",
       "      <td>0</td>\n",
       "      <td>0</td>\n",
       "      <td>0</td>\n",
       "      <td>0</td>\n",
       "      <td>0</td>\n",
       "      <td>0</td>\n",
       "      <td>0</td>\n",
       "      <td>3</td>\n",
       "    </tr>\n",
       "    <tr>\n",
       "      <th>2</th>\n",
       "      <td>0</td>\n",
       "      <td>0.154059</td>\n",
       "      <td>1033</td>\n",
       "      <td>0</td>\n",
       "      <td>1</td>\n",
       "      <td>1</td>\n",
       "      <td>0</td>\n",
       "      <td>0</td>\n",
       "      <td>0</td>\n",
       "      <td>0</td>\n",
       "      <td>0</td>\n",
       "      <td>0</td>\n",
       "      <td>0</td>\n",
       "      <td>0</td>\n",
       "      <td>0</td>\n",
       "      <td>15</td>\n",
       "    </tr>\n",
       "    <tr>\n",
       "      <th>3</th>\n",
       "      <td>0</td>\n",
       "      <td>0.011072</td>\n",
       "      <td>7656</td>\n",
       "      <td>0</td>\n",
       "      <td>1</td>\n",
       "      <td>0</td>\n",
       "      <td>0</td>\n",
       "      <td>0</td>\n",
       "      <td>0</td>\n",
       "      <td>0</td>\n",
       "      <td>0</td>\n",
       "      <td>0</td>\n",
       "      <td>0</td>\n",
       "      <td>0</td>\n",
       "      <td>0</td>\n",
       "      <td>1</td>\n",
       "    </tr>\n",
       "    <tr>\n",
       "      <th>4</th>\n",
       "      <td>1</td>\n",
       "      <td>0.994415</td>\n",
       "      <td>3241</td>\n",
       "      <td>1</td>\n",
       "      <td>1</td>\n",
       "      <td>1</td>\n",
       "      <td>1</td>\n",
       "      <td>1</td>\n",
       "      <td>1</td>\n",
       "      <td>1</td>\n",
       "      <td>1</td>\n",
       "      <td>1</td>\n",
       "      <td>1</td>\n",
       "      <td>1</td>\n",
       "      <td>1</td>\n",
       "      <td>99</td>\n",
       "    </tr>\n",
       "    <tr>\n",
       "      <th>5</th>\n",
       "      <td>0</td>\n",
       "      <td>0.070593</td>\n",
       "      <td>5738</td>\n",
       "      <td>0</td>\n",
       "      <td>1</td>\n",
       "      <td>0</td>\n",
       "      <td>0</td>\n",
       "      <td>0</td>\n",
       "      <td>0</td>\n",
       "      <td>0</td>\n",
       "      <td>0</td>\n",
       "      <td>0</td>\n",
       "      <td>0</td>\n",
       "      <td>0</td>\n",
       "      <td>0</td>\n",
       "      <td>7</td>\n",
       "    </tr>\n",
       "    <tr>\n",
       "      <th>6</th>\n",
       "      <td>0</td>\n",
       "      <td>0.010770</td>\n",
       "      <td>7366</td>\n",
       "      <td>0</td>\n",
       "      <td>1</td>\n",
       "      <td>0</td>\n",
       "      <td>0</td>\n",
       "      <td>0</td>\n",
       "      <td>0</td>\n",
       "      <td>0</td>\n",
       "      <td>0</td>\n",
       "      <td>0</td>\n",
       "      <td>0</td>\n",
       "      <td>0</td>\n",
       "      <td>0</td>\n",
       "      <td>1</td>\n",
       "    </tr>\n",
       "    <tr>\n",
       "      <th>7</th>\n",
       "      <td>0</td>\n",
       "      <td>0.042958</td>\n",
       "      <td>3680</td>\n",
       "      <td>0</td>\n",
       "      <td>1</td>\n",
       "      <td>0</td>\n",
       "      <td>0</td>\n",
       "      <td>0</td>\n",
       "      <td>0</td>\n",
       "      <td>0</td>\n",
       "      <td>0</td>\n",
       "      <td>0</td>\n",
       "      <td>0</td>\n",
       "      <td>0</td>\n",
       "      <td>0</td>\n",
       "      <td>4</td>\n",
       "    </tr>\n",
       "    <tr>\n",
       "      <th>8</th>\n",
       "      <td>1</td>\n",
       "      <td>0.993904</td>\n",
       "      <td>4170</td>\n",
       "      <td>1</td>\n",
       "      <td>1</td>\n",
       "      <td>1</td>\n",
       "      <td>1</td>\n",
       "      <td>1</td>\n",
       "      <td>1</td>\n",
       "      <td>1</td>\n",
       "      <td>1</td>\n",
       "      <td>1</td>\n",
       "      <td>1</td>\n",
       "      <td>1</td>\n",
       "      <td>1</td>\n",
       "      <td>99</td>\n",
       "    </tr>\n",
       "    <tr>\n",
       "      <th>9</th>\n",
       "      <td>0</td>\n",
       "      <td>0.099805</td>\n",
       "      <td>43</td>\n",
       "      <td>0</td>\n",
       "      <td>1</td>\n",
       "      <td>0</td>\n",
       "      <td>0</td>\n",
       "      <td>0</td>\n",
       "      <td>0</td>\n",
       "      <td>0</td>\n",
       "      <td>0</td>\n",
       "      <td>0</td>\n",
       "      <td>0</td>\n",
       "      <td>0</td>\n",
       "      <td>0</td>\n",
       "      <td>10</td>\n",
       "    </tr>\n",
       "  </tbody>\n",
       "</table>\n",
       "</div>"
      ],
      "text/plain": [
       "   Converted  Converted_Prob  LeadId  Predicted  0.0  0.1  0.2  0.3  0.4  0.5  \\\n",
       "0          0        0.104953     302          0    1    1    0    0    0    0   \n",
       "1          0        0.026242    6087          0    1    0    0    0    0    0   \n",
       "2          0        0.154059    1033          0    1    1    0    0    0    0   \n",
       "3          0        0.011072    7656          0    1    0    0    0    0    0   \n",
       "4          1        0.994415    3241          1    1    1    1    1    1    1   \n",
       "5          0        0.070593    5738          0    1    0    0    0    0    0   \n",
       "6          0        0.010770    7366          0    1    0    0    0    0    0   \n",
       "7          0        0.042958    3680          0    1    0    0    0    0    0   \n",
       "8          1        0.993904    4170          1    1    1    1    1    1    1   \n",
       "9          0        0.099805      43          0    1    0    0    0    0    0   \n",
       "\n",
       "   0.6  0.7  0.8  0.9  final_predicted  lead_score  \n",
       "0    0    0    0    0                0          10  \n",
       "1    0    0    0    0                0           3  \n",
       "2    0    0    0    0                0          15  \n",
       "3    0    0    0    0                0           1  \n",
       "4    1    1    1    1                1          99  \n",
       "5    0    0    0    0                0           7  \n",
       "6    0    0    0    0                0           1  \n",
       "7    0    0    0    0                0           4  \n",
       "8    1    1    1    1                1          99  \n",
       "9    0    0    0    0                0          10  "
      ]
     },
     "execution_count": 138,
     "metadata": {},
     "output_type": "execute_result"
    }
   ],
   "source": [
    "# Calculating the lead score for train dataset\n",
    "\n",
    "y_train_pred_df['lead_score'] = y_train_pred_df.Converted_Prob.map(lambda x: round(x*100))\n",
    "y_train_pred_df.head(10)"
   ]
  },
  {
   "cell_type": "code",
   "execution_count": 139,
   "metadata": {},
   "outputs": [
    {
     "data": {
      "text/plain": [
       "1    2166\n",
       "0     262\n",
       "Name: final_predicted, dtype: int64"
      ]
     },
     "execution_count": 139,
     "metadata": {},
     "output_type": "execute_result"
    }
   ],
   "source": [
    "# checking if 80% cases are correctly predicted based on the converted column.\n",
    "# get the total of final predicted conversion / non conversion counts from the actual converted rates\n",
    "\n",
    "checking_df = y_train_pred_df.loc[y_train_pred_df['Converted']==1,['Converted','final_predicted']]\n",
    "checking_df['final_predicted'].value_counts()"
   ]
  },
  {
   "cell_type": "code",
   "execution_count": 140,
   "metadata": {},
   "outputs": [
    {
     "data": {
      "text/plain": [
       "0.9192751235584844"
      ]
     },
     "execution_count": 140,
     "metadata": {},
     "output_type": "execute_result"
    }
   ],
   "source": [
    "# Calculating the precentage of final_predicted conversions based on above outcome.\n",
    "\n",
    "2232/float(2232+196)"
   ]
  },
  {
   "cell_type": "markdown",
   "metadata": {},
   "source": [
    "#### Hence we can see that the final prediction of conversions have a target of 92% conversion as per the X Educations CEO's requirement . Hence this is a good model. Overall Metrics - Accuracy, Confusion Metrics, Sensitivity, Specificity, False Postive Rate, Positive Predictive Value, Negative Predicitive Value on final prediction on train set"
   ]
  },
  {
   "cell_type": "code",
   "execution_count": 141,
   "metadata": {},
   "outputs": [
    {
     "data": {
      "text/plain": [
       "0.8956467075278957"
      ]
     },
     "execution_count": 141,
     "metadata": {},
     "output_type": "execute_result"
    }
   ],
   "source": [
    "# Calculating the overall accuracy score.\n",
    "\n",
    "metrics.accuracy_score(y_train_pred_df.Converted, y_train_pred_df.final_predicted)"
   ]
  },
  {
   "cell_type": "code",
   "execution_count": 142,
   "metadata": {},
   "outputs": [
    {
     "data": {
      "text/plain": [
       "array([[3533,  402],\n",
       "       [ 262, 2166]], dtype=int64)"
      ]
     },
     "execution_count": 142,
     "metadata": {},
     "output_type": "execute_result"
    }
   ],
   "source": [
    "# Creating the confusion matrix - 2 again.\n",
    "\n",
    "confusion2 = metrics.confusion_matrix(y_train_pred_df.Converted, y_train_pred_df.final_predicted )\n",
    "confusion2"
   ]
  },
  {
   "cell_type": "code",
   "execution_count": 143,
   "metadata": {},
   "outputs": [
    {
     "data": {
      "text/plain": [
       "0.8920922570016474"
      ]
     },
     "execution_count": 143,
     "metadata": {},
     "output_type": "execute_result"
    }
   ],
   "source": [
    "# Calculating other metrics - sensitivity, specificity etc.\n",
    "\n",
    "TP = confusion2[1,1] # true positive \n",
    "TN = confusion2[0,0] # true negatives\n",
    "FP = confusion2[0,1] # false positives\n",
    "FN = confusion2[1,0] # false negatives\n",
    "\n",
    "# Calculating the sensitivity of our logistic regression model\n",
    "\n",
    "TP / float(TP+FN)"
   ]
  },
  {
   "cell_type": "code",
   "execution_count": 144,
   "metadata": {},
   "outputs": [
    {
     "data": {
      "text/plain": [
       "0.8978398983481576"
      ]
     },
     "execution_count": 144,
     "metadata": {},
     "output_type": "execute_result"
    }
   ],
   "source": [
    "# Calculating specificity value\n",
    "\n",
    "TN / float(TN+FP)"
   ]
  },
  {
   "cell_type": "code",
   "execution_count": 145,
   "metadata": {},
   "outputs": [
    {
     "name": "stdout",
     "output_type": "stream",
     "text": [
      "0.10216010165184244\n"
     ]
    }
   ],
   "source": [
    "# Calculate false postive rate - predicting conversions when leads has not converted\n",
    "\n",
    "print(FP/ float(TN+FP))"
   ]
  },
  {
   "cell_type": "code",
   "execution_count": 146,
   "metadata": {},
   "outputs": [
    {
     "name": "stdout",
     "output_type": "stream",
     "text": [
      "0.8434579439252337\n"
     ]
    }
   ],
   "source": [
    "# Calculating the Positive predictive value \n",
    "\n",
    "print (TP / float(TP+FP))"
   ]
  },
  {
   "cell_type": "code",
   "execution_count": 147,
   "metadata": {},
   "outputs": [
    {
     "name": "stdout",
     "output_type": "stream",
     "text": [
      "0.9309617918313571\n"
     ]
    }
   ],
   "source": [
    "# Calculating the Negative predictive value\n",
    "\n",
    "print (TN / float(TN+ FN))"
   ]
  },
  {
   "cell_type": "markdown",
   "metadata": {},
   "source": [
    "#### Metrics - Precision and Recall"
   ]
  },
  {
   "cell_type": "code",
   "execution_count": 148,
   "metadata": {},
   "outputs": [
    {
     "data": {
      "text/plain": [
       "array([[3730,  205],\n",
       "       [ 410, 2018]], dtype=int64)"
      ]
     },
     "execution_count": 148,
     "metadata": {},
     "output_type": "execute_result"
    }
   ],
   "source": [
    "# confusion matrix again\n",
    "\n",
    "confusion = metrics.confusion_matrix(y_train_pred_df.Converted, y_train_pred_df.Predicted )\n",
    "confusion"
   ]
  },
  {
   "cell_type": "code",
   "execution_count": 149,
   "metadata": {},
   "outputs": [
    {
     "data": {
      "text/plain": [
       "0.9077822762033289"
      ]
     },
     "execution_count": 149,
     "metadata": {},
     "output_type": "execute_result"
    }
   ],
   "source": [
    "# calculating the precision\n",
    "\n",
    "precision=precision_score(y_train_pred_df.Converted, y_train_pred_df.Predicted)\n",
    "precision"
   ]
  },
  {
   "cell_type": "code",
   "execution_count": 150,
   "metadata": {},
   "outputs": [
    {
     "data": {
      "text/plain": [
       "0.8311367380560132"
      ]
     },
     "execution_count": 150,
     "metadata": {},
     "output_type": "execute_result"
    }
   ],
   "source": [
    "# calculating the recall\n",
    "\n",
    "recall = recall_score(y_train_pred_df.Converted, y_train_pred_df.Predicted)\n",
    "recall"
   ]
  },
  {
   "cell_type": "markdown",
   "metadata": {},
   "source": [
    "#### F=2*(precision * recall)/(precision + recall)"
   ]
  },
  {
   "cell_type": "code",
   "execution_count": 151,
   "metadata": {},
   "outputs": [
    {
     "data": {
      "text/plain": [
       "0.8677703719630186"
      ]
     },
     "execution_count": 151,
     "metadata": {},
     "output_type": "execute_result"
    }
   ],
   "source": [
    "F=2*(precision*recall)/(precision+recall)\n",
    "F"
   ]
  },
  {
   "cell_type": "markdown",
   "metadata": {},
   "source": [
    "#### Precision and recall tradeoff"
   ]
  },
  {
   "cell_type": "code",
   "execution_count": 152,
   "metadata": {},
   "outputs": [],
   "source": [
    "# y_train_pred_df.Converted, y_train_pred_df.Predicted\n",
    "p, r, thresholds = precision_recall_curve(y_train_pred_df.Converted, y_train_pred_df.Converted_Prob)"
   ]
  },
  {
   "cell_type": "code",
   "execution_count": 153,
   "metadata": {},
   "outputs": [
    {
     "data": {
      "image/png": "[encoded data removed]",
      "text/plain": [
       "<Figure size 1000x400 with 1 Axes>"
      ]
     },
     "metadata": {},
     "output_type": "display_data"
    }
   ],
   "source": [
    "plt.figure(figsize=(10, 4), dpi=100, facecolor='w', edgecolor='k', frameon='True')\n",
    "plt.plot(thresholds, p[:-1], \"g-\")\n",
    "plt.plot(thresholds, r[:-1], \"r-\")\n",
    "plt.xticks(np.arange(0, 1, step=0.05))\n",
    "plt.show()"
   ]
  },
  {
   "cell_type": "markdown",
   "metadata": {},
   "source": [
    "#### From the precision-recall graph above, we get the optimal threshold value as close to 0.37. However our business requirement here is to have Lead Conversion Rate around 80%. This is already achieved with our earlier threshold value of 0.3. So we will stick to this value."
   ]
  },
  {
   "cell_type": "markdown",
   "metadata": {},
   "source": [
    "## Step 11: Making the predictions on the test dataset"
   ]
  },
  {
   "cell_type": "code",
   "execution_count": 154,
   "metadata": {},
   "outputs": [],
   "source": [
    "# Scaling the following variables : 'TotalVisits','Total Time Spent on Website' and 'Page Views Per Visit'\n",
    "\n",
    "X_test[['TotalVisits','Total Time Spent on Website','Page Views Per Visit']] = scaler.transform(X_test[['TotalVisits',\n",
    "                                                                        'Total Time Spent on Website','Page Views Per Visit']])"
   ]
  },
  {
   "cell_type": "code",
   "execution_count": 155,
   "metadata": {},
   "outputs": [
    {
     "data": {
      "text/html": [
       "<div>\n",
       "<style scoped>\n",
       "    .dataframe tbody tr th:only-of-type {\n",
       "        vertical-align: middle;\n",
       "    }\n",
       "\n",
       "    .dataframe tbody tr th {\n",
       "        vertical-align: top;\n",
       "    }\n",
       "\n",
       "    .dataframe thead th {\n",
       "        text-align: right;\n",
       "    }\n",
       "</style>\n",
       "<table border=\"1\" class=\"dataframe\">\n",
       "  <thead>\n",
       "    <tr style=\"text-align: right;\">\n",
       "      <th></th>\n",
       "      <th>Do Not Email</th>\n",
       "      <th>Total Time Spent on Website</th>\n",
       "      <th>Lead Source_Olark Chat</th>\n",
       "      <th>Lead Source_Reference</th>\n",
       "      <th>Lead Source_Welingak Website</th>\n",
       "      <th>Last Activity_Email Opened</th>\n",
       "      <th>Specialization_Travel and Tourism</th>\n",
       "      <th>What is your current occupation_Unemployed</th>\n",
       "      <th>Tags_Closed by Horizzon</th>\n",
       "      <th>Tags_Not Mentioned</th>\n",
       "      <th>Tags_Other_Tags</th>\n",
       "      <th>Tags_Will revert after reading the email</th>\n",
       "      <th>Last Notable Activity_Other_Notable_Activity</th>\n",
       "      <th>Last Notable Activity_SMS Sent</th>\n",
       "    </tr>\n",
       "  </thead>\n",
       "  <tbody>\n",
       "    <tr>\n",
       "      <th>6906</th>\n",
       "      <td>0</td>\n",
       "      <td>1.919395</td>\n",
       "      <td>0</td>\n",
       "      <td>0</td>\n",
       "      <td>0</td>\n",
       "      <td>0</td>\n",
       "      <td>0</td>\n",
       "      <td>1</td>\n",
       "      <td>0</td>\n",
       "      <td>0</td>\n",
       "      <td>0</td>\n",
       "      <td>1</td>\n",
       "      <td>0</td>\n",
       "      <td>1</td>\n",
       "    </tr>\n",
       "    <tr>\n",
       "      <th>1873</th>\n",
       "      <td>0</td>\n",
       "      <td>-0.546142</td>\n",
       "      <td>0</td>\n",
       "      <td>0</td>\n",
       "      <td>0</td>\n",
       "      <td>0</td>\n",
       "      <td>0</td>\n",
       "      <td>1</td>\n",
       "      <td>0</td>\n",
       "      <td>0</td>\n",
       "      <td>0</td>\n",
       "      <td>0</td>\n",
       "      <td>0</td>\n",
       "      <td>0</td>\n",
       "    </tr>\n",
       "    <tr>\n",
       "      <th>771</th>\n",
       "      <td>0</td>\n",
       "      <td>-0.797465</td>\n",
       "      <td>0</td>\n",
       "      <td>0</td>\n",
       "      <td>0</td>\n",
       "      <td>1</td>\n",
       "      <td>0</td>\n",
       "      <td>1</td>\n",
       "      <td>0</td>\n",
       "      <td>0</td>\n",
       "      <td>0</td>\n",
       "      <td>0</td>\n",
       "      <td>0</td>\n",
       "      <td>0</td>\n",
       "    </tr>\n",
       "    <tr>\n",
       "      <th>4495</th>\n",
       "      <td>0</td>\n",
       "      <td>-0.623190</td>\n",
       "      <td>0</td>\n",
       "      <td>0</td>\n",
       "      <td>0</td>\n",
       "      <td>1</td>\n",
       "      <td>0</td>\n",
       "      <td>1</td>\n",
       "      <td>0</td>\n",
       "      <td>0</td>\n",
       "      <td>0</td>\n",
       "      <td>0</td>\n",
       "      <td>0</td>\n",
       "      <td>0</td>\n",
       "    </tr>\n",
       "    <tr>\n",
       "      <th>9061</th>\n",
       "      <td>0</td>\n",
       "      <td>2.392690</td>\n",
       "      <td>0</td>\n",
       "      <td>0</td>\n",
       "      <td>0</td>\n",
       "      <td>1</td>\n",
       "      <td>0</td>\n",
       "      <td>1</td>\n",
       "      <td>0</td>\n",
       "      <td>0</td>\n",
       "      <td>1</td>\n",
       "      <td>0</td>\n",
       "      <td>0</td>\n",
       "      <td>0</td>\n",
       "    </tr>\n",
       "  </tbody>\n",
       "</table>\n",
       "</div>"
      ],
      "text/plain": [
       "      Do Not Email  Total Time Spent on Website  Lead Source_Olark Chat  \\\n",
       "6906             0                     1.919395                       0   \n",
       "1873             0                    -0.546142                       0   \n",
       "771              0                    -0.797465                       0   \n",
       "4495             0                    -0.623190                       0   \n",
       "9061             0                     2.392690                       0   \n",
       "\n",
       "      Lead Source_Reference  Lead Source_Welingak Website  \\\n",
       "6906                      0                             0   \n",
       "1873                      0                             0   \n",
       "771                       0                             0   \n",
       "4495                      0                             0   \n",
       "9061                      0                             0   \n",
       "\n",
       "      Last Activity_Email Opened  Specialization_Travel and Tourism  \\\n",
       "6906                           0                                  0   \n",
       "1873                           0                                  0   \n",
       "771                            1                                  0   \n",
       "4495                           1                                  0   \n",
       "9061                           1                                  0   \n",
       "\n",
       "      What is your current occupation_Unemployed  Tags_Closed by Horizzon  \\\n",
       "6906                                           1                        0   \n",
       "1873                                           1                        0   \n",
       "771                                            1                        0   \n",
       "4495                                           1                        0   \n",
       "9061                                           1                        0   \n",
       "\n",
       "      Tags_Not Mentioned  Tags_Other_Tags  \\\n",
       "6906                   0                0   \n",
       "1873                   0                0   \n",
       "771                    0                0   \n",
       "4495                   0                0   \n",
       "9061                   0                1   \n",
       "\n",
       "      Tags_Will revert after reading the email  \\\n",
       "6906                                         1   \n",
       "1873                                         0   \n",
       "771                                          0   \n",
       "4495                                         0   \n",
       "9061                                         0   \n",
       "\n",
       "      Last Notable Activity_Other_Notable_Activity  \\\n",
       "6906                                             0   \n",
       "1873                                             0   \n",
       "771                                              0   \n",
       "4495                                             0   \n",
       "9061                                             0   \n",
       "\n",
       "      Last Notable Activity_SMS Sent  \n",
       "6906                               1  \n",
       "1873                               0  \n",
       "771                                0  \n",
       "4495                               0  \n",
       "9061                               0  "
      ]
     },
     "execution_count": 155,
     "metadata": {},
     "output_type": "execute_result"
    }
   ],
   "source": [
    "# Using the selected variables (col) for test that were present in the final logistic regression model (lm7)\n",
    "X_test = X_test[col]\n",
    "X_test.head()"
   ]
  },
  {
   "cell_type": "code",
   "execution_count": 156,
   "metadata": {},
   "outputs": [],
   "source": [
    "# Adding the constant to X_test data\n",
    "\n",
    "X_test_sm = sm.add_constant(X_test)"
   ]
  },
  {
   "cell_type": "markdown",
   "metadata": {},
   "source": [
    "#### Making predictions on the test set using our chosen logistic regression model (lm7)"
   ]
  },
  {
   "cell_type": "code",
   "execution_count": 157,
   "metadata": {},
   "outputs": [
    {
     "data": {
      "text/plain": [
       "6906    0.998161\n",
       "1873    0.002368\n",
       "771     0.003738\n",
       "4495    0.004517\n",
       "9061    0.719960\n",
       "dtype: float64"
      ]
     },
     "execution_count": 157,
     "metadata": {},
     "output_type": "execute_result"
    }
   ],
   "source": [
    "y_test_Pred = res.predict(X_test_sm)\n",
    "y_test_Pred[:5]"
   ]
  },
  {
   "cell_type": "code",
   "execution_count": 158,
   "metadata": {},
   "outputs": [
    {
     "data": {
      "text/html": [
       "<div>\n",
       "<style scoped>\n",
       "    .dataframe tbody tr th:only-of-type {\n",
       "        vertical-align: middle;\n",
       "    }\n",
       "\n",
       "    .dataframe tbody tr th {\n",
       "        vertical-align: top;\n",
       "    }\n",
       "\n",
       "    .dataframe thead th {\n",
       "        text-align: right;\n",
       "    }\n",
       "</style>\n",
       "<table border=\"1\" class=\"dataframe\">\n",
       "  <thead>\n",
       "    <tr style=\"text-align: right;\">\n",
       "      <th></th>\n",
       "      <th>0</th>\n",
       "    </tr>\n",
       "  </thead>\n",
       "  <tbody>\n",
       "    <tr>\n",
       "      <th>6906</th>\n",
       "      <td>0.998161</td>\n",
       "    </tr>\n",
       "    <tr>\n",
       "      <th>1873</th>\n",
       "      <td>0.002368</td>\n",
       "    </tr>\n",
       "    <tr>\n",
       "      <th>771</th>\n",
       "      <td>0.003738</td>\n",
       "    </tr>\n",
       "    <tr>\n",
       "      <th>4495</th>\n",
       "      <td>0.004517</td>\n",
       "    </tr>\n",
       "    <tr>\n",
       "      <th>9061</th>\n",
       "      <td>0.719960</td>\n",
       "    </tr>\n",
       "  </tbody>\n",
       "</table>\n",
       "</div>"
      ],
      "text/plain": [
       "             0\n",
       "6906  0.998161\n",
       "1873  0.002368\n",
       "771   0.003738\n",
       "4495  0.004517\n",
       "9061  0.719960"
      ]
     },
     "execution_count": 158,
     "metadata": {},
     "output_type": "execute_result"
    }
   ],
   "source": [
    "# Converting y_Pred to a dataframe which is an array\n",
    "\n",
    "y_Pred_1 = pd.DataFrame(y_test_Pred)\n",
    "y_Pred_1.head()"
   ]
  },
  {
   "cell_type": "code",
   "execution_count": 159,
   "metadata": {},
   "outputs": [
    {
     "data": {
      "text/html": [
       "<div>\n",
       "<style scoped>\n",
       "    .dataframe tbody tr th:only-of-type {\n",
       "        vertical-align: middle;\n",
       "    }\n",
       "\n",
       "    .dataframe tbody tr th {\n",
       "        vertical-align: top;\n",
       "    }\n",
       "\n",
       "    .dataframe thead th {\n",
       "        text-align: right;\n",
       "    }\n",
       "</style>\n",
       "<table border=\"1\" class=\"dataframe\">\n",
       "  <thead>\n",
       "    <tr style=\"text-align: right;\">\n",
       "      <th></th>\n",
       "      <th>Converted</th>\n",
       "      <th>LeadId</th>\n",
       "    </tr>\n",
       "  </thead>\n",
       "  <tbody>\n",
       "    <tr>\n",
       "      <th>6906</th>\n",
       "      <td>1</td>\n",
       "      <td>6906</td>\n",
       "    </tr>\n",
       "    <tr>\n",
       "      <th>1873</th>\n",
       "      <td>0</td>\n",
       "      <td>1873</td>\n",
       "    </tr>\n",
       "    <tr>\n",
       "      <th>771</th>\n",
       "      <td>0</td>\n",
       "      <td>771</td>\n",
       "    </tr>\n",
       "    <tr>\n",
       "      <th>4495</th>\n",
       "      <td>0</td>\n",
       "      <td>4495</td>\n",
       "    </tr>\n",
       "    <tr>\n",
       "      <th>9061</th>\n",
       "      <td>1</td>\n",
       "      <td>9061</td>\n",
       "    </tr>\n",
       "  </tbody>\n",
       "</table>\n",
       "</div>"
      ],
      "text/plain": [
       "      Converted  LeadId\n",
       "6906          1    6906\n",
       "1873          0    1873\n",
       "771           0     771\n",
       "4495          0    4495\n",
       "9061          1    9061"
      ]
     },
     "execution_count": 159,
     "metadata": {},
     "output_type": "execute_result"
    }
   ],
   "source": [
    "# Converting y_test to dataframe\n",
    "y_test_df = pd.DataFrame(y_test)\n",
    "\n",
    "# Putting index value to LeadId variable\n",
    "y_test_df['LeadId'] = y_test_df.index\n",
    "y_test_df.head()"
   ]
  },
  {
   "cell_type": "code",
   "execution_count": 160,
   "metadata": {},
   "outputs": [
    {
     "data": {
      "text/html": [
       "<div>\n",
       "<style scoped>\n",
       "    .dataframe tbody tr th:only-of-type {\n",
       "        vertical-align: middle;\n",
       "    }\n",
       "\n",
       "    .dataframe tbody tr th {\n",
       "        vertical-align: top;\n",
       "    }\n",
       "\n",
       "    .dataframe thead th {\n",
       "        text-align: right;\n",
       "    }\n",
       "</style>\n",
       "<table border=\"1\" class=\"dataframe\">\n",
       "  <thead>\n",
       "    <tr style=\"text-align: right;\">\n",
       "      <th></th>\n",
       "      <th>Converted</th>\n",
       "      <th>LeadId</th>\n",
       "      <th>0</th>\n",
       "    </tr>\n",
       "  </thead>\n",
       "  <tbody>\n",
       "    <tr>\n",
       "      <th>0</th>\n",
       "      <td>1</td>\n",
       "      <td>6906</td>\n",
       "      <td>0.998161</td>\n",
       "    </tr>\n",
       "    <tr>\n",
       "      <th>1</th>\n",
       "      <td>0</td>\n",
       "      <td>1873</td>\n",
       "      <td>0.002368</td>\n",
       "    </tr>\n",
       "    <tr>\n",
       "      <th>2</th>\n",
       "      <td>0</td>\n",
       "      <td>771</td>\n",
       "      <td>0.003738</td>\n",
       "    </tr>\n",
       "    <tr>\n",
       "      <th>3</th>\n",
       "      <td>0</td>\n",
       "      <td>4495</td>\n",
       "      <td>0.004517</td>\n",
       "    </tr>\n",
       "    <tr>\n",
       "      <th>4</th>\n",
       "      <td>1</td>\n",
       "      <td>9061</td>\n",
       "      <td>0.719960</td>\n",
       "    </tr>\n",
       "  </tbody>\n",
       "</table>\n",
       "</div>"
      ],
      "text/plain": [
       "   Converted  LeadId         0\n",
       "0          1    6906  0.998161\n",
       "1          0    1873  0.002368\n",
       "2          0     771  0.003738\n",
       "3          0    4495  0.004517\n",
       "4          1    9061  0.719960"
      ]
     },
     "execution_count": 160,
     "metadata": {},
     "output_type": "execute_result"
    }
   ],
   "source": [
    "# Removing index for both dataframes to append them side by side \n",
    "y_Pred_1.reset_index(drop=True, inplace=True)\n",
    "y_test_df.reset_index(drop=True, inplace=True)\n",
    "\n",
    "# Appending y_test_df and y_Pred_1\n",
    "y_pred_df = pd.concat([y_test_df, y_Pred_1],axis=1)\n",
    "y_pred_df.head()"
   ]
  },
  {
   "cell_type": "code",
   "execution_count": 161,
   "metadata": {},
   "outputs": [
    {
     "data": {
      "text/html": [
       "<div>\n",
       "<style scoped>\n",
       "    .dataframe tbody tr th:only-of-type {\n",
       "        vertical-align: middle;\n",
       "    }\n",
       "\n",
       "    .dataframe tbody tr th {\n",
       "        vertical-align: top;\n",
       "    }\n",
       "\n",
       "    .dataframe thead th {\n",
       "        text-align: right;\n",
       "    }\n",
       "</style>\n",
       "<table border=\"1\" class=\"dataframe\">\n",
       "  <thead>\n",
       "    <tr style=\"text-align: right;\">\n",
       "      <th></th>\n",
       "      <th>Converted</th>\n",
       "      <th>LeadId</th>\n",
       "      <th>Converted_Prob</th>\n",
       "    </tr>\n",
       "  </thead>\n",
       "  <tbody>\n",
       "    <tr>\n",
       "      <th>0</th>\n",
       "      <td>1</td>\n",
       "      <td>6906</td>\n",
       "      <td>0.998161</td>\n",
       "    </tr>\n",
       "    <tr>\n",
       "      <th>1</th>\n",
       "      <td>0</td>\n",
       "      <td>1873</td>\n",
       "      <td>0.002368</td>\n",
       "    </tr>\n",
       "    <tr>\n",
       "      <th>2</th>\n",
       "      <td>0</td>\n",
       "      <td>771</td>\n",
       "      <td>0.003738</td>\n",
       "    </tr>\n",
       "    <tr>\n",
       "      <th>3</th>\n",
       "      <td>0</td>\n",
       "      <td>4495</td>\n",
       "      <td>0.004517</td>\n",
       "    </tr>\n",
       "    <tr>\n",
       "      <th>4</th>\n",
       "      <td>1</td>\n",
       "      <td>9061</td>\n",
       "      <td>0.719960</td>\n",
       "    </tr>\n",
       "  </tbody>\n",
       "</table>\n",
       "</div>"
      ],
      "text/plain": [
       "   Converted  LeadId  Converted_Prob\n",
       "0          1    6906        0.998161\n",
       "1          0    1873        0.002368\n",
       "2          0     771        0.003738\n",
       "3          0    4495        0.004517\n",
       "4          1    9061        0.719960"
      ]
     },
     "execution_count": 161,
     "metadata": {},
     "output_type": "execute_result"
    }
   ],
   "source": [
    "# Renaming the column label '0' to 'Converted_Prob'\n",
    "y_pred_df=y_pred_df.rename(columns={ 0 : 'Converted_Prob'})\n",
    "y_pred_df.head()"
   ]
  },
  {
   "cell_type": "code",
   "execution_count": 162,
   "metadata": {},
   "outputs": [
    {
     "data": {
      "text/html": [
       "<div>\n",
       "<style scoped>\n",
       "    .dataframe tbody tr th:only-of-type {\n",
       "        vertical-align: middle;\n",
       "    }\n",
       "\n",
       "    .dataframe tbody tr th {\n",
       "        vertical-align: top;\n",
       "    }\n",
       "\n",
       "    .dataframe thead th {\n",
       "        text-align: right;\n",
       "    }\n",
       "</style>\n",
       "<table border=\"1\" class=\"dataframe\">\n",
       "  <thead>\n",
       "    <tr style=\"text-align: right;\">\n",
       "      <th></th>\n",
       "      <th>LeadId</th>\n",
       "      <th>Converted</th>\n",
       "      <th>Converted_Prob</th>\n",
       "    </tr>\n",
       "  </thead>\n",
       "  <tbody>\n",
       "    <tr>\n",
       "      <th>0</th>\n",
       "      <td>6906</td>\n",
       "      <td>1</td>\n",
       "      <td>0.998161</td>\n",
       "    </tr>\n",
       "    <tr>\n",
       "      <th>1</th>\n",
       "      <td>1873</td>\n",
       "      <td>0</td>\n",
       "      <td>0.002368</td>\n",
       "    </tr>\n",
       "    <tr>\n",
       "      <th>2</th>\n",
       "      <td>771</td>\n",
       "      <td>0</td>\n",
       "      <td>0.003738</td>\n",
       "    </tr>\n",
       "    <tr>\n",
       "      <th>3</th>\n",
       "      <td>4495</td>\n",
       "      <td>0</td>\n",
       "      <td>0.004517</td>\n",
       "    </tr>\n",
       "    <tr>\n",
       "      <th>4</th>\n",
       "      <td>9061</td>\n",
       "      <td>1</td>\n",
       "      <td>0.719960</td>\n",
       "    </tr>\n",
       "  </tbody>\n",
       "</table>\n",
       "</div>"
      ],
      "text/plain": [
       "   LeadId  Converted  Converted_Prob\n",
       "0    6906          1        0.998161\n",
       "1    1873          0        0.002368\n",
       "2     771          0        0.003738\n",
       "3    4495          0        0.004517\n",
       "4    9061          1        0.719960"
      ]
     },
     "execution_count": 162,
     "metadata": {},
     "output_type": "execute_result"
    }
   ],
   "source": [
    "# Rearranging the columns in y_pred_df dataframe\n",
    "\n",
    "y_pred_df = y_pred_df.reindex(['LeadId','Converted','Converted_Prob'], axis=1)\n",
    "y_pred_df.head()"
   ]
  },
  {
   "cell_type": "code",
   "execution_count": 163,
   "metadata": {},
   "outputs": [
    {
     "data": {
      "text/html": [
       "<div>\n",
       "<style scoped>\n",
       "    .dataframe tbody tr th:only-of-type {\n",
       "        vertical-align: middle;\n",
       "    }\n",
       "\n",
       "    .dataframe tbody tr th {\n",
       "        vertical-align: top;\n",
       "    }\n",
       "\n",
       "    .dataframe thead th {\n",
       "        text-align: right;\n",
       "    }\n",
       "</style>\n",
       "<table border=\"1\" class=\"dataframe\">\n",
       "  <thead>\n",
       "    <tr style=\"text-align: right;\">\n",
       "      <th></th>\n",
       "      <th>LeadId</th>\n",
       "      <th>Converted</th>\n",
       "      <th>Converted_Prob</th>\n",
       "      <th>0.0</th>\n",
       "      <th>0.1</th>\n",
       "      <th>0.2</th>\n",
       "      <th>0.3</th>\n",
       "      <th>0.4</th>\n",
       "      <th>0.5</th>\n",
       "      <th>0.6</th>\n",
       "      <th>0.7</th>\n",
       "      <th>0.8</th>\n",
       "      <th>0.9</th>\n",
       "    </tr>\n",
       "  </thead>\n",
       "  <tbody>\n",
       "    <tr>\n",
       "      <th>0</th>\n",
       "      <td>6906</td>\n",
       "      <td>1</td>\n",
       "      <td>0.998161</td>\n",
       "      <td>1</td>\n",
       "      <td>1</td>\n",
       "      <td>1</td>\n",
       "      <td>1</td>\n",
       "      <td>1</td>\n",
       "      <td>1</td>\n",
       "      <td>1</td>\n",
       "      <td>1</td>\n",
       "      <td>1</td>\n",
       "      <td>1</td>\n",
       "    </tr>\n",
       "    <tr>\n",
       "      <th>1</th>\n",
       "      <td>1873</td>\n",
       "      <td>0</td>\n",
       "      <td>0.002368</td>\n",
       "      <td>1</td>\n",
       "      <td>0</td>\n",
       "      <td>0</td>\n",
       "      <td>0</td>\n",
       "      <td>0</td>\n",
       "      <td>0</td>\n",
       "      <td>0</td>\n",
       "      <td>0</td>\n",
       "      <td>0</td>\n",
       "      <td>0</td>\n",
       "    </tr>\n",
       "    <tr>\n",
       "      <th>2</th>\n",
       "      <td>771</td>\n",
       "      <td>0</td>\n",
       "      <td>0.003738</td>\n",
       "      <td>1</td>\n",
       "      <td>0</td>\n",
       "      <td>0</td>\n",
       "      <td>0</td>\n",
       "      <td>0</td>\n",
       "      <td>0</td>\n",
       "      <td>0</td>\n",
       "      <td>0</td>\n",
       "      <td>0</td>\n",
       "      <td>0</td>\n",
       "    </tr>\n",
       "    <tr>\n",
       "      <th>3</th>\n",
       "      <td>4495</td>\n",
       "      <td>0</td>\n",
       "      <td>0.004517</td>\n",
       "      <td>1</td>\n",
       "      <td>0</td>\n",
       "      <td>0</td>\n",
       "      <td>0</td>\n",
       "      <td>0</td>\n",
       "      <td>0</td>\n",
       "      <td>0</td>\n",
       "      <td>0</td>\n",
       "      <td>0</td>\n",
       "      <td>0</td>\n",
       "    </tr>\n",
       "    <tr>\n",
       "      <th>4</th>\n",
       "      <td>9061</td>\n",
       "      <td>1</td>\n",
       "      <td>0.719960</td>\n",
       "      <td>1</td>\n",
       "      <td>1</td>\n",
       "      <td>1</td>\n",
       "      <td>1</td>\n",
       "      <td>1</td>\n",
       "      <td>1</td>\n",
       "      <td>1</td>\n",
       "      <td>1</td>\n",
       "      <td>0</td>\n",
       "      <td>0</td>\n",
       "    </tr>\n",
       "  </tbody>\n",
       "</table>\n",
       "</div>"
      ],
      "text/plain": [
       "   LeadId  Converted  Converted_Prob  0.0  0.1  0.2  0.3  0.4  0.5  0.6  0.7  \\\n",
       "0    6906          1        0.998161    1    1    1    1    1    1    1    1   \n",
       "1    1873          0        0.002368    1    0    0    0    0    0    0    0   \n",
       "2     771          0        0.003738    1    0    0    0    0    0    0    0   \n",
       "3    4495          0        0.004517    1    0    0    0    0    0    0    0   \n",
       "4    9061          1        0.719960    1    1    1    1    1    1    1    1   \n",
       "\n",
       "   0.8  0.9  \n",
       "0    1    1  \n",
       "1    0    0  \n",
       "2    0    0  \n",
       "3    0    0  \n",
       "4    0    0  "
      ]
     },
     "execution_count": 163,
     "metadata": {},
     "output_type": "execute_result"
    }
   ],
   "source": [
    "# Creating the columns with different probability cutoffs 0.0, 0.1, 0.2 ... so on for test dataset. \n",
    "\n",
    "numbers = [float(x)/10 for x in range(10)]\n",
    "for i in numbers:\n",
    "    y_pred_df[i]= y_pred_df.Converted_Prob.map(lambda x: 1 if x > i else 0)\n",
    "y_pred_df.head()"
   ]
  },
  {
   "cell_type": "code",
   "execution_count": 164,
   "metadata": {},
   "outputs": [
    {
     "data": {
      "text/html": [
       "<div>\n",
       "<style scoped>\n",
       "    .dataframe tbody tr th:only-of-type {\n",
       "        vertical-align: middle;\n",
       "    }\n",
       "\n",
       "    .dataframe tbody tr th {\n",
       "        vertical-align: top;\n",
       "    }\n",
       "\n",
       "    .dataframe thead th {\n",
       "        text-align: right;\n",
       "    }\n",
       "</style>\n",
       "<table border=\"1\" class=\"dataframe\">\n",
       "  <thead>\n",
       "    <tr style=\"text-align: right;\">\n",
       "      <th></th>\n",
       "      <th>LeadId</th>\n",
       "      <th>Converted</th>\n",
       "      <th>Converted_Prob</th>\n",
       "      <th>0.0</th>\n",
       "      <th>0.1</th>\n",
       "      <th>0.2</th>\n",
       "      <th>0.3</th>\n",
       "      <th>0.4</th>\n",
       "      <th>0.5</th>\n",
       "      <th>0.6</th>\n",
       "      <th>0.7</th>\n",
       "      <th>0.8</th>\n",
       "      <th>0.9</th>\n",
       "      <th>final_predicted</th>\n",
       "    </tr>\n",
       "  </thead>\n",
       "  <tbody>\n",
       "    <tr>\n",
       "      <th>0</th>\n",
       "      <td>6906</td>\n",
       "      <td>1</td>\n",
       "      <td>0.998161</td>\n",
       "      <td>1</td>\n",
       "      <td>1</td>\n",
       "      <td>1</td>\n",
       "      <td>1</td>\n",
       "      <td>1</td>\n",
       "      <td>1</td>\n",
       "      <td>1</td>\n",
       "      <td>1</td>\n",
       "      <td>1</td>\n",
       "      <td>1</td>\n",
       "      <td>1</td>\n",
       "    </tr>\n",
       "    <tr>\n",
       "      <th>1</th>\n",
       "      <td>1873</td>\n",
       "      <td>0</td>\n",
       "      <td>0.002368</td>\n",
       "      <td>1</td>\n",
       "      <td>0</td>\n",
       "      <td>0</td>\n",
       "      <td>0</td>\n",
       "      <td>0</td>\n",
       "      <td>0</td>\n",
       "      <td>0</td>\n",
       "      <td>0</td>\n",
       "      <td>0</td>\n",
       "      <td>0</td>\n",
       "      <td>0</td>\n",
       "    </tr>\n",
       "    <tr>\n",
       "      <th>2</th>\n",
       "      <td>771</td>\n",
       "      <td>0</td>\n",
       "      <td>0.003738</td>\n",
       "      <td>1</td>\n",
       "      <td>0</td>\n",
       "      <td>0</td>\n",
       "      <td>0</td>\n",
       "      <td>0</td>\n",
       "      <td>0</td>\n",
       "      <td>0</td>\n",
       "      <td>0</td>\n",
       "      <td>0</td>\n",
       "      <td>0</td>\n",
       "      <td>0</td>\n",
       "    </tr>\n",
       "    <tr>\n",
       "      <th>3</th>\n",
       "      <td>4495</td>\n",
       "      <td>0</td>\n",
       "      <td>0.004517</td>\n",
       "      <td>1</td>\n",
       "      <td>0</td>\n",
       "      <td>0</td>\n",
       "      <td>0</td>\n",
       "      <td>0</td>\n",
       "      <td>0</td>\n",
       "      <td>0</td>\n",
       "      <td>0</td>\n",
       "      <td>0</td>\n",
       "      <td>0</td>\n",
       "      <td>0</td>\n",
       "    </tr>\n",
       "    <tr>\n",
       "      <th>4</th>\n",
       "      <td>9061</td>\n",
       "      <td>1</td>\n",
       "      <td>0.719960</td>\n",
       "      <td>1</td>\n",
       "      <td>1</td>\n",
       "      <td>1</td>\n",
       "      <td>1</td>\n",
       "      <td>1</td>\n",
       "      <td>1</td>\n",
       "      <td>1</td>\n",
       "      <td>1</td>\n",
       "      <td>0</td>\n",
       "      <td>0</td>\n",
       "      <td>1</td>\n",
       "    </tr>\n",
       "  </tbody>\n",
       "</table>\n",
       "</div>"
      ],
      "text/plain": [
       "   LeadId  Converted  Converted_Prob  0.0  0.1  0.2  0.3  0.4  0.5  0.6  0.7  \\\n",
       "0    6906          1        0.998161    1    1    1    1    1    1    1    1   \n",
       "1    1873          0        0.002368    1    0    0    0    0    0    0    0   \n",
       "2     771          0        0.003738    1    0    0    0    0    0    0    0   \n",
       "3    4495          0        0.004517    1    0    0    0    0    0    0    0   \n",
       "4    9061          1        0.719960    1    1    1    1    1    1    1    1   \n",
       "\n",
       "   0.8  0.9  final_predicted  \n",
       "0    1    1                1  \n",
       "1    0    0                0  \n",
       "2    0    0                0  \n",
       "3    0    0                0  \n",
       "4    0    0                1  "
      ]
     },
     "execution_count": 164,
     "metadata": {},
     "output_type": "execute_result"
    }
   ],
   "source": [
    "# Based on cut off threshold using accuracy, sensitivity and specificity of 0.3%\n",
    "\n",
    "y_pred_df['final_predicted'] = y_pred_df.Converted_Prob.map(lambda x: 1 if x > 0.3 else 0)\n",
    "y_pred_df.head()"
   ]
  },
  {
   "cell_type": "code",
   "execution_count": 165,
   "metadata": {},
   "outputs": [
    {
     "data": {
      "text/html": [
       "<div>\n",
       "<style scoped>\n",
       "    .dataframe tbody tr th:only-of-type {\n",
       "        vertical-align: middle;\n",
       "    }\n",
       "\n",
       "    .dataframe tbody tr th {\n",
       "        vertical-align: top;\n",
       "    }\n",
       "\n",
       "    .dataframe thead th {\n",
       "        text-align: right;\n",
       "    }\n",
       "</style>\n",
       "<table border=\"1\" class=\"dataframe\">\n",
       "  <thead>\n",
       "    <tr style=\"text-align: right;\">\n",
       "      <th></th>\n",
       "      <th>LeadId</th>\n",
       "      <th>Converted</th>\n",
       "      <th>Converted_Prob</th>\n",
       "      <th>0.0</th>\n",
       "      <th>0.1</th>\n",
       "      <th>0.2</th>\n",
       "      <th>0.3</th>\n",
       "      <th>0.4</th>\n",
       "      <th>0.5</th>\n",
       "      <th>0.6</th>\n",
       "      <th>0.7</th>\n",
       "      <th>0.8</th>\n",
       "      <th>0.9</th>\n",
       "      <th>final_predicted</th>\n",
       "      <th>lead_score</th>\n",
       "    </tr>\n",
       "  </thead>\n",
       "  <tbody>\n",
       "    <tr>\n",
       "      <th>0</th>\n",
       "      <td>6906</td>\n",
       "      <td>1</td>\n",
       "      <td>0.998161</td>\n",
       "      <td>1</td>\n",
       "      <td>1</td>\n",
       "      <td>1</td>\n",
       "      <td>1</td>\n",
       "      <td>1</td>\n",
       "      <td>1</td>\n",
       "      <td>1</td>\n",
       "      <td>1</td>\n",
       "      <td>1</td>\n",
       "      <td>1</td>\n",
       "      <td>1</td>\n",
       "      <td>100</td>\n",
       "    </tr>\n",
       "    <tr>\n",
       "      <th>1</th>\n",
       "      <td>1873</td>\n",
       "      <td>0</td>\n",
       "      <td>0.002368</td>\n",
       "      <td>1</td>\n",
       "      <td>0</td>\n",
       "      <td>0</td>\n",
       "      <td>0</td>\n",
       "      <td>0</td>\n",
       "      <td>0</td>\n",
       "      <td>0</td>\n",
       "      <td>0</td>\n",
       "      <td>0</td>\n",
       "      <td>0</td>\n",
       "      <td>0</td>\n",
       "      <td>0</td>\n",
       "    </tr>\n",
       "    <tr>\n",
       "      <th>2</th>\n",
       "      <td>771</td>\n",
       "      <td>0</td>\n",
       "      <td>0.003738</td>\n",
       "      <td>1</td>\n",
       "      <td>0</td>\n",
       "      <td>0</td>\n",
       "      <td>0</td>\n",
       "      <td>0</td>\n",
       "      <td>0</td>\n",
       "      <td>0</td>\n",
       "      <td>0</td>\n",
       "      <td>0</td>\n",
       "      <td>0</td>\n",
       "      <td>0</td>\n",
       "      <td>0</td>\n",
       "    </tr>\n",
       "    <tr>\n",
       "      <th>3</th>\n",
       "      <td>4495</td>\n",
       "      <td>0</td>\n",
       "      <td>0.004517</td>\n",
       "      <td>1</td>\n",
       "      <td>0</td>\n",
       "      <td>0</td>\n",
       "      <td>0</td>\n",
       "      <td>0</td>\n",
       "      <td>0</td>\n",
       "      <td>0</td>\n",
       "      <td>0</td>\n",
       "      <td>0</td>\n",
       "      <td>0</td>\n",
       "      <td>0</td>\n",
       "      <td>0</td>\n",
       "    </tr>\n",
       "    <tr>\n",
       "      <th>4</th>\n",
       "      <td>9061</td>\n",
       "      <td>1</td>\n",
       "      <td>0.719960</td>\n",
       "      <td>1</td>\n",
       "      <td>1</td>\n",
       "      <td>1</td>\n",
       "      <td>1</td>\n",
       "      <td>1</td>\n",
       "      <td>1</td>\n",
       "      <td>1</td>\n",
       "      <td>1</td>\n",
       "      <td>0</td>\n",
       "      <td>0</td>\n",
       "      <td>1</td>\n",
       "      <td>72</td>\n",
       "    </tr>\n",
       "    <tr>\n",
       "      <th>5</th>\n",
       "      <td>4929</td>\n",
       "      <td>1</td>\n",
       "      <td>0.244043</td>\n",
       "      <td>1</td>\n",
       "      <td>1</td>\n",
       "      <td>1</td>\n",
       "      <td>0</td>\n",
       "      <td>0</td>\n",
       "      <td>0</td>\n",
       "      <td>0</td>\n",
       "      <td>0</td>\n",
       "      <td>0</td>\n",
       "      <td>0</td>\n",
       "      <td>0</td>\n",
       "      <td>24</td>\n",
       "    </tr>\n",
       "    <tr>\n",
       "      <th>6</th>\n",
       "      <td>2308</td>\n",
       "      <td>0</td>\n",
       "      <td>0.128618</td>\n",
       "      <td>1</td>\n",
       "      <td>1</td>\n",
       "      <td>0</td>\n",
       "      <td>0</td>\n",
       "      <td>0</td>\n",
       "      <td>0</td>\n",
       "      <td>0</td>\n",
       "      <td>0</td>\n",
       "      <td>0</td>\n",
       "      <td>0</td>\n",
       "      <td>0</td>\n",
       "      <td>13</td>\n",
       "    </tr>\n",
       "    <tr>\n",
       "      <th>7</th>\n",
       "      <td>1034</td>\n",
       "      <td>0</td>\n",
       "      <td>0.034293</td>\n",
       "      <td>1</td>\n",
       "      <td>0</td>\n",
       "      <td>0</td>\n",
       "      <td>0</td>\n",
       "      <td>0</td>\n",
       "      <td>0</td>\n",
       "      <td>0</td>\n",
       "      <td>0</td>\n",
       "      <td>0</td>\n",
       "      <td>0</td>\n",
       "      <td>0</td>\n",
       "      <td>3</td>\n",
       "    </tr>\n",
       "    <tr>\n",
       "      <th>8</th>\n",
       "      <td>9033</td>\n",
       "      <td>0</td>\n",
       "      <td>0.003709</td>\n",
       "      <td>1</td>\n",
       "      <td>0</td>\n",
       "      <td>0</td>\n",
       "      <td>0</td>\n",
       "      <td>0</td>\n",
       "      <td>0</td>\n",
       "      <td>0</td>\n",
       "      <td>0</td>\n",
       "      <td>0</td>\n",
       "      <td>0</td>\n",
       "      <td>0</td>\n",
       "      <td>0</td>\n",
       "    </tr>\n",
       "    <tr>\n",
       "      <th>9</th>\n",
       "      <td>7008</td>\n",
       "      <td>1</td>\n",
       "      <td>0.917462</td>\n",
       "      <td>1</td>\n",
       "      <td>1</td>\n",
       "      <td>1</td>\n",
       "      <td>1</td>\n",
       "      <td>1</td>\n",
       "      <td>1</td>\n",
       "      <td>1</td>\n",
       "      <td>1</td>\n",
       "      <td>1</td>\n",
       "      <td>1</td>\n",
       "      <td>1</td>\n",
       "      <td>92</td>\n",
       "    </tr>\n",
       "  </tbody>\n",
       "</table>\n",
       "</div>"
      ],
      "text/plain": [
       "   LeadId  Converted  Converted_Prob  0.0  0.1  0.2  0.3  0.4  0.5  0.6  0.7  \\\n",
       "0    6906          1        0.998161    1    1    1    1    1    1    1    1   \n",
       "1    1873          0        0.002368    1    0    0    0    0    0    0    0   \n",
       "2     771          0        0.003738    1    0    0    0    0    0    0    0   \n",
       "3    4495          0        0.004517    1    0    0    0    0    0    0    0   \n",
       "4    9061          1        0.719960    1    1    1    1    1    1    1    1   \n",
       "5    4929          1        0.244043    1    1    1    0    0    0    0    0   \n",
       "6    2308          0        0.128618    1    1    0    0    0    0    0    0   \n",
       "7    1034          0        0.034293    1    0    0    0    0    0    0    0   \n",
       "8    9033          0        0.003709    1    0    0    0    0    0    0    0   \n",
       "9    7008          1        0.917462    1    1    1    1    1    1    1    1   \n",
       "\n",
       "   0.8  0.9  final_predicted  lead_score  \n",
       "0    1    1                1         100  \n",
       "1    0    0                0           0  \n",
       "2    0    0                0           0  \n",
       "3    0    0                0           0  \n",
       "4    0    0                1          72  \n",
       "5    0    0                0          24  \n",
       "6    0    0                0          13  \n",
       "7    0    0                0           3  \n",
       "8    0    0                0           0  \n",
       "9    1    1                1          92  "
      ]
     },
     "execution_count": 165,
     "metadata": {},
     "output_type": "execute_result"
    }
   ],
   "source": [
    "# Calculate the lead score\n",
    "\n",
    "y_pred_df['lead_score'] = y_pred_df.Converted_Prob.map(lambda x: round(x*100))\n",
    "y_pred_df.head(10)"
   ]
  },
  {
   "cell_type": "code",
   "execution_count": 166,
   "metadata": {},
   "outputs": [
    {
     "data": {
      "text/plain": [
       "1    953\n",
       "0    114\n",
       "Name: final_predicted, dtype: int64"
      ]
     },
     "execution_count": 166,
     "metadata": {},
     "output_type": "execute_result"
    }
   ],
   "source": [
    "# Checking if 80% cases are correctly predicted based on the converted column.\n",
    "# get the total of final predicted conversion or non conversion counts from the actual converted rates\n",
    "\n",
    "checking_test_df = y_pred_df.loc[y_pred_df['Converted']==1,['Converted','final_predicted']]\n",
    "checking_test_df['final_predicted'].value_counts()\n",
    "#checking_test_df.head()"
   ]
  },
  {
   "cell_type": "code",
   "execution_count": 167,
   "metadata": {},
   "outputs": [
    {
     "data": {
      "text/plain": [
       "0.8931583880037488"
      ]
     },
     "execution_count": 167,
     "metadata": {},
     "output_type": "execute_result"
    }
   ],
   "source": [
    "# check the precentage of final_predicted conversions on test data\n",
    "\n",
    "953/float(953+114)"
   ]
  },
  {
   "cell_type": "markdown",
   "metadata": {},
   "source": [
    "#### Based on above calculation, we can see that the final prediction of conversions have a target rate of 89% using test data set. That is 3% short of the predictions made on training data set."
   ]
  },
  {
   "cell_type": "code",
   "execution_count": 168,
   "metadata": {},
   "outputs": [
    {
     "data": {
      "text/plain": [
       "0.8995232856618995"
      ]
     },
     "execution_count": 168,
     "metadata": {},
     "output_type": "execute_result"
    }
   ],
   "source": [
    "# Calculating the accuracy.\n",
    "\n",
    "metrics.accuracy_score(y_pred_df.Converted, y_pred_df.final_predicted)"
   ]
  },
  {
   "cell_type": "code",
   "execution_count": 169,
   "metadata": {},
   "outputs": [
    {
     "data": {
      "text/plain": [
       "array([[1500,  160],\n",
       "       [ 114,  953]], dtype=int64)"
      ]
     },
     "execution_count": 169,
     "metadata": {},
     "output_type": "execute_result"
    }
   ],
   "source": [
    "# Again calculating the confusion matrix for test dataset.\n",
    "\n",
    "confusion2 = metrics.confusion_matrix(y_pred_df.Converted, y_pred_df.final_predicted )\n",
    "confusion2"
   ]
  },
  {
   "cell_type": "code",
   "execution_count": 170,
   "metadata": {},
   "outputs": [
    {
     "data": {
      "text/plain": [
       "0.8931583880037488"
      ]
     },
     "execution_count": 170,
     "metadata": {},
     "output_type": "execute_result"
    }
   ],
   "source": [
    "TP = confusion2[1,1] # true positive \n",
    "TN = confusion2[0,0] # true negatives\n",
    "FP = confusion2[0,1] # false positives\n",
    "FN = confusion2[1,0] # false negatives\n",
    "\n",
    "# Calculating the sensitivity of our logistic regression model\n",
    "TP / float(TP+FN)"
   ]
  },
  {
   "cell_type": "code",
   "execution_count": 171,
   "metadata": {},
   "outputs": [
    {
     "data": {
      "text/plain": [
       "0.9036144578313253"
      ]
     },
     "execution_count": 171,
     "metadata": {},
     "output_type": "execute_result"
    }
   ],
   "source": [
    "# Calculate specificity value\n",
    "\n",
    "TN / float(TN+FP)"
   ]
  },
  {
   "cell_type": "markdown",
   "metadata": {},
   "source": [
    "#### Precision and Recall metrics for the test set"
   ]
  },
  {
   "cell_type": "code",
   "execution_count": 172,
   "metadata": {},
   "outputs": [
    {
     "name": "stdout",
     "output_type": "stream",
     "text": [
      "precision  0.8562443845462714\n",
      "recall  0.8931583880037488\n"
     ]
    }
   ],
   "source": [
    "# precision\n",
    "test_precision = precision_score(y_pred_df.Converted, y_pred_df.final_predicted)\n",
    "print('precision ', test_precision)\n",
    "\n",
    "\n",
    "# recall\n",
    "test_recall = recall_score(y_pred_df.Converted, y_pred_df.final_predicted)\n",
    "print('recall ', test_recall)"
   ]
  },
  {
   "cell_type": "markdown",
   "metadata": {},
   "source": [
    "#### F=2*(precision*recall)/(precision+recall)"
   ]
  },
  {
   "cell_type": "code",
   "execution_count": 173,
   "metadata": {},
   "outputs": [
    {
     "data": {
      "text/plain": [
       "0.8743119266055045"
      ]
     },
     "execution_count": 173,
     "metadata": {},
     "output_type": "execute_result"
    }
   ],
   "source": [
    "F=2*(test_precision * test_recall)/(test_precision + test_recall)\n",
    "F"
   ]
  },
  {
   "cell_type": "code",
   "execution_count": 174,
   "metadata": {},
   "outputs": [
    {
     "data": {
      "image/png": "[encoded data removed]",
      "text/plain": [
       "<Figure size 432x288 with 1 Axes>"
      ]
     },
     "metadata": {},
     "output_type": "display_data"
    }
   ],
   "source": [
    "p, r, thresholds = precision_recall_curve(y_pred_df.Converted, y_pred_df.Converted_Prob)\n",
    "\n",
    "plt.plot(thresholds, p[:-1], \"g-\")\n",
    "plt.plot(thresholds, r[:-1], \"r-\")\n",
    "plt.show()"
   ]
  },
  {
   "cell_type": "markdown",
   "metadata": {},
   "source": [
    "### Classification Report"
   ]
  },
  {
   "cell_type": "code",
   "execution_count": 175,
   "metadata": {},
   "outputs": [
    {
     "name": "stdout",
     "output_type": "stream",
     "text": [
      "              precision    recall  f1-score   support\n",
      "\n",
      "           0       0.93      0.90      0.92      1660\n",
      "           1       0.86      0.89      0.87      1067\n",
      "\n",
      "    accuracy                           0.90      2727\n",
      "   macro avg       0.89      0.90      0.90      2727\n",
      "weighted avg       0.90      0.90      0.90      2727\n",
      "\n"
     ]
    }
   ],
   "source": [
    "print(classification_report(y_pred_df.Converted, y_pred_df.final_predicted))"
   ]
  },
  {
   "cell_type": "markdown",
   "metadata": {},
   "source": [
    "#### Plotting the ROC Curve for Test Dataset"
   ]
  },
  {
   "cell_type": "code",
   "execution_count": 176,
   "metadata": {},
   "outputs": [],
   "source": [
    "\n",
    "fpr, tpr, thresholds = metrics.roc_curve( y_pred_df.Converted, y_pred_df.Converted_Prob, drop_intermediate = False )"
   ]
  },
  {
   "cell_type": "code",
   "execution_count": 177,
   "metadata": {},
   "outputs": [
    {
     "data": {
      "image/png": "[encoded data removed]",
      "text/plain": [
       "<Figure size 360x360 with 1 Axes>"
      ]
     },
     "metadata": {},
     "output_type": "display_data"
    }
   ],
   "source": [
    "draw_roc(y_pred_df.Converted, y_pred_df.Converted_Prob)"
   ]
  },
  {
   "cell_type": "markdown",
   "metadata": {},
   "source": [
    "#### Calculating the Area Under the Curve(GINI)"
   ]
  },
  {
   "cell_type": "code",
   "execution_count": 178,
   "metadata": {},
   "outputs": [
    {
     "data": {
      "text/plain": [
       "0.963376373347185"
      ]
     },
     "execution_count": 178,
     "metadata": {},
     "output_type": "execute_result"
    }
   ],
   "source": [
    "auc = auc_val(fpr,tpr)\n",
    "auc"
   ]
  },
  {
   "cell_type": "markdown",
   "metadata": {},
   "source": [
    "## Conclusion :\n",
    "\n",
    "- While we have checked both Sensitivity-Specificity as well as Precision and Recall Metrics, we have considered the\n",
    "  optimal cut off based on Sensitivity and Specificity for calculating the final prediction.\n",
    "- Accuracy, Sensitivity and Specificity values of test set are around 90.0%, 89.3% and 90.4% which are approximately closer to \n",
    "  the respective values calculated using training dataset (89.6%, 89.2% and 89.8%).\n",
    "- Also the lead score calculated in the training set of data shows the conversion rate on the final predicted model is \n",
    "  around 92%\n",
    "- Hence overall this model seems to be good.  "
   ]
  },
  {
   "cell_type": "markdown",
   "metadata": {},
   "source": [
    "### 1. Which are the top three variables in your model which contribute most towards the probability of a lead getting converted? \n",
    "\n",
    "Selecting the coefficients of the selected features from our final model excluding the intercept"
   ]
  },
  {
   "cell_type": "code",
   "execution_count": 179,
   "metadata": {},
   "outputs": [
    {
     "data": {
      "text/plain": [
       "Do Not Email                                   -1.36\n",
       "Total Time Spent on Website                     1.09\n",
       "Lead Source_Olark Chat                          1.12\n",
       "Lead Source_Reference                           2.02\n",
       "Lead Source_Welingak Website                    6.80\n",
       "Last Activity_Email Opened                      0.73\n",
       "Specialization_Travel and Tourism              -0.91\n",
       "What is your current occupation_Unemployed     -0.78\n",
       "Tags_Closed by Horizzon                         8.83\n",
       "Tags_Not Mentioned                              3.04\n",
       "Tags_Other_Tags                                 3.05\n",
       "Tags_Will revert after reading the email        7.07\n",
       "Last Notable Activity_Other_Notable_Activity    1.37\n",
       "Last Notable Activity_SMS Sent                  2.58\n",
       "dtype: float64"
      ]
     },
     "execution_count": 179,
     "metadata": {},
     "output_type": "execute_result"
    }
   ],
   "source": [
    "pd.options.display.float_format = '{:.2f}'.format\n",
    "selected_feature = res.params[1:]\n",
    "selected_feature"
   ]
  },
  {
   "cell_type": "code",
   "execution_count": 180,
   "metadata": {},
   "outputs": [
    {
     "data": {
      "text/plain": [
       "Do Not Email                                   -15.37\n",
       "Total Time Spent on Website                     12.35\n",
       "Lead Source_Olark Chat                          12.68\n",
       "Lead Source_Reference                           22.92\n",
       "Lead Source_Welingak Website                    77.06\n",
       "Last Activity_Email Opened                       8.29\n",
       "Specialization_Travel and Tourism              -10.27\n",
       "What is your current occupation_Unemployed      -8.79\n",
       "Tags_Closed by Horizzon                        100.00\n",
       "Tags_Not Mentioned                              34.43\n",
       "Tags_Other_Tags                                 34.54\n",
       "Tags_Will revert after reading the email        80.12\n",
       "Last Notable Activity_Other_Notable_Activity    15.57\n",
       "Last Notable Activity_SMS Sent                  29.18\n",
       "dtype: float64"
      ]
     },
     "execution_count": 180,
     "metadata": {},
     "output_type": "execute_result"
    }
   ],
   "source": [
    "# Getting a relative coeffient value for all the features wrt the feature with the highest coefficient\n",
    "\n",
    "feature_importance = selected_feature\n",
    "feature_importance = 100.0 * (feature_importance / feature_importance.max())\n",
    "feature_importance"
   ]
  },
  {
   "cell_type": "code",
   "execution_count": 181,
   "metadata": {},
   "outputs": [
    {
     "data": {
      "text/plain": [
       "Do Not Email                                     0\n",
       "Total Time Spent on Website                      6\n",
       "Lead Source_Olark Chat                           7\n",
       "Lead Source_Reference                            5\n",
       "Lead Source_Welingak Website                     1\n",
       "Last Activity_Email Opened                       2\n",
       "Specialization_Travel and Tourism               12\n",
       "What is your current occupation_Unemployed       3\n",
       "Tags_Closed by Horizzon                         13\n",
       "Tags_Not Mentioned                               9\n",
       "Tags_Other_Tags                                 10\n",
       "Tags_Will revert after reading the email         4\n",
       "Last Notable Activity_Other_Notable_Activity    11\n",
       "Last Notable Activity_SMS Sent                   8\n",
       "dtype: int64"
      ]
     },
     "execution_count": 181,
     "metadata": {},
     "output_type": "execute_result"
    }
   ],
   "source": [
    "# Sorting the feature variables based on their relative coefficient values\n",
    "\n",
    "sorted_idx = np.argsort(feature_importance,kind='quicksort',order='list of str')\n",
    "sorted_idx"
   ]
  },
  {
   "cell_type": "code",
   "execution_count": 182,
   "metadata": {},
   "outputs": [
    {
     "data": {
      "image/png": "[encoded data removed]",
      "text/plain": [
       "<Figure size 720x432 with 1 Axes>"
      ]
     },
     "metadata": {},
     "output_type": "display_data"
    }
   ],
   "source": [
    "# Plot showing the feature variables based on their relative coefficient values\n",
    "\n",
    "pos = np.arange(sorted_idx.shape[0]) + .5\n",
    "\n",
    "fig = plt.figure(figsize=(10,6))\n",
    "fx = fig.add_subplot(1, 1, 1)\n",
    "fx.barh(pos, feature_importance[sorted_idx], align='center', color = 'tab:red',alpha=0.8)\n",
    "fx.set_yticks(pos)\n",
    "fx.set_yticklabels(np.array(X_train[col].columns)[sorted_idx], fontsize=12)\n",
    "fx.set_xlabel('Relative Feature Importance', fontsize=14)\n",
    "\n",
    "plt.tight_layout()   \n",
    "plt.show()"
   ]
  },
  {
   "cell_type": "code",
   "execution_count": 183,
   "metadata": {},
   "outputs": [
    {
     "data": {
      "text/html": [
       "<div>\n",
       "<style scoped>\n",
       "    .dataframe tbody tr th:only-of-type {\n",
       "        vertical-align: middle;\n",
       "    }\n",
       "\n",
       "    .dataframe tbody tr th {\n",
       "        vertical-align: top;\n",
       "    }\n",
       "\n",
       "    .dataframe thead th {\n",
       "        text-align: right;\n",
       "    }\n",
       "</style>\n",
       "<table border=\"1\" class=\"dataframe\">\n",
       "  <thead>\n",
       "    <tr style=\"text-align: right;\">\n",
       "      <th></th>\n",
       "      <th>index</th>\n",
       "      <th>0</th>\n",
       "    </tr>\n",
       "  </thead>\n",
       "  <tbody>\n",
       "    <tr>\n",
       "      <th>8</th>\n",
       "      <td>Tags_Closed by Horizzon</td>\n",
       "      <td>100.00</td>\n",
       "    </tr>\n",
       "    <tr>\n",
       "      <th>11</th>\n",
       "      <td>Tags_Will revert after reading the email</td>\n",
       "      <td>80.12</td>\n",
       "    </tr>\n",
       "    <tr>\n",
       "      <th>4</th>\n",
       "      <td>Lead Source_Welingak Website</td>\n",
       "      <td>77.06</td>\n",
       "    </tr>\n",
       "  </tbody>\n",
       "</table>\n",
       "</div>"
      ],
      "text/plain": [
       "                                       index      0\n",
       "8                    Tags_Closed by Horizzon 100.00\n",
       "11  Tags_Will revert after reading the email  80.12\n",
       "4               Lead Source_Welingak Website  77.06"
      ]
     },
     "execution_count": 183,
     "metadata": {},
     "output_type": "execute_result"
    }
   ],
   "source": [
    "# Top 3 feature contributing the most\n",
    "\n",
    "pd.DataFrame(feature_importance).reset_index().sort_values(by=0,ascending=False).head(3)"
   ]
  },
  {
   "cell_type": "code",
   "execution_count": 184,
   "metadata": {},
   "outputs": [
    {
     "data": {
      "text/html": [
       "<table class=\"simpletable\">\n",
       "<caption>Generalized Linear Model Regression Results</caption>\n",
       "<tr>\n",
       "  <th>Dep. Variable:</th>       <td>Converted</td>    <th>  No. Observations:  </th>  <td>  6363</td> \n",
       "</tr>\n",
       "<tr>\n",
       "  <th>Model:</th>                  <td>GLM</td>       <th>  Df Residuals:      </th>  <td>  6348</td> \n",
       "</tr>\n",
       "<tr>\n",
       "  <th>Model Family:</th>        <td>Binomial</td>     <th>  Df Model:          </th>  <td>    14</td> \n",
       "</tr>\n",
       "<tr>\n",
       "  <th>Link Function:</th>         <td>logit</td>      <th>  Scale:             </th> <td>  1.0000</td>\n",
       "</tr>\n",
       "<tr>\n",
       "  <th>Method:</th>                <td>IRLS</td>       <th>  Log-Likelihood:    </th> <td> -1533.4</td>\n",
       "</tr>\n",
       "<tr>\n",
       "  <th>Date:</th>            <td>Sun, 11 Apr 2021</td> <th>  Deviance:          </th> <td>  3066.9</td>\n",
       "</tr>\n",
       "<tr>\n",
       "  <th>Time:</th>                <td>22:29:42</td>     <th>  Pearson chi2:      </th> <td>7.01e+03</td>\n",
       "</tr>\n",
       "<tr>\n",
       "  <th>No. Iterations:</th>          <td>8</td>        <th>                     </th>     <td> </td>   \n",
       "</tr>\n",
       "<tr>\n",
       "  <th>Covariance Type:</th>     <td>nonrobust</td>    <th>                     </th>     <td> </td>   \n",
       "</tr>\n",
       "</table>\n",
       "<table class=\"simpletable\">\n",
       "<tr>\n",
       "                        <td></td>                          <th>coef</th>     <th>std err</th>      <th>z</th>      <th>P>|z|</th>  <th>[0.025</th>    <th>0.975]</th>  \n",
       "</tr>\n",
       "<tr>\n",
       "  <th>const</th>                                        <td>   -4.6715</td> <td>    0.309</td> <td>  -15.097</td> <td> 0.000</td> <td>   -5.278</td> <td>   -4.065</td>\n",
       "</tr>\n",
       "<tr>\n",
       "  <th>Do Not Email</th>                                 <td>   -1.3573</td> <td>    0.223</td> <td>   -6.074</td> <td> 0.000</td> <td>   -1.795</td> <td>   -0.919</td>\n",
       "</tr>\n",
       "<tr>\n",
       "  <th>Total Time Spent on Website</th>                  <td>    1.0909</td> <td>    0.054</td> <td>   20.279</td> <td> 0.000</td> <td>    0.985</td> <td>    1.196</td>\n",
       "</tr>\n",
       "<tr>\n",
       "  <th>Lead Source_Olark Chat</th>                       <td>    1.1193</td> <td>    0.132</td> <td>    8.460</td> <td> 0.000</td> <td>    0.860</td> <td>    1.379</td>\n",
       "</tr>\n",
       "<tr>\n",
       "  <th>Lead Source_Reference</th>                        <td>    2.0237</td> <td>    0.356</td> <td>    5.689</td> <td> 0.000</td> <td>    1.326</td> <td>    2.721</td>\n",
       "</tr>\n",
       "<tr>\n",
       "  <th>Lead Source_Welingak Website</th>                 <td>    6.8043</td> <td>    1.027</td> <td>    6.626</td> <td> 0.000</td> <td>    4.792</td> <td>    8.817</td>\n",
       "</tr>\n",
       "<tr>\n",
       "  <th>Last Activity_Email Opened</th>                   <td>    0.7321</td> <td>    0.114</td> <td>    6.445</td> <td> 0.000</td> <td>    0.509</td> <td>    0.955</td>\n",
       "</tr>\n",
       "<tr>\n",
       "  <th>Specialization_Travel and Tourism</th>            <td>   -0.9068</td> <td>    0.401</td> <td>   -2.260</td> <td> 0.024</td> <td>   -1.693</td> <td>   -0.120</td>\n",
       "</tr>\n",
       "<tr>\n",
       "  <th>What is your current occupation_Unemployed</th>   <td>   -0.7761</td> <td>    0.244</td> <td>   -3.184</td> <td> 0.001</td> <td>   -1.254</td> <td>   -0.298</td>\n",
       "</tr>\n",
       "<tr>\n",
       "  <th>Tags_Closed by Horizzon</th>                      <td>    8.8298</td> <td>    0.751</td> <td>   11.757</td> <td> 0.000</td> <td>    7.358</td> <td>   10.302</td>\n",
       "</tr>\n",
       "<tr>\n",
       "  <th>Tags_Not Mentioned</th>                           <td>    3.0398</td> <td>    0.198</td> <td>   15.357</td> <td> 0.000</td> <td>    2.652</td> <td>    3.428</td>\n",
       "</tr>\n",
       "<tr>\n",
       "  <th>Tags_Other_Tags</th>                              <td>    3.0496</td> <td>    0.208</td> <td>   14.684</td> <td> 0.000</td> <td>    2.643</td> <td>    3.457</td>\n",
       "</tr>\n",
       "<tr>\n",
       "  <th>Tags_Will revert after reading the email</th>     <td>    7.0742</td> <td>    0.246</td> <td>   28.728</td> <td> 0.000</td> <td>    6.592</td> <td>    7.557</td>\n",
       "</tr>\n",
       "<tr>\n",
       "  <th>Last Notable Activity_Other_Notable_Activity</th> <td>    1.3747</td> <td>    0.413</td> <td>    3.325</td> <td> 0.001</td> <td>    0.564</td> <td>    2.185</td>\n",
       "</tr>\n",
       "<tr>\n",
       "  <th>Last Notable Activity_SMS Sent</th>               <td>    2.5763</td> <td>    0.129</td> <td>   20.012</td> <td> 0.000</td> <td>    2.324</td> <td>    2.829</td>\n",
       "</tr>\n",
       "</table>"
      ],
      "text/plain": [
       "<class 'statsmodels.iolib.summary.Summary'>\n",
       "\"\"\"\n",
       "                 Generalized Linear Model Regression Results                  \n",
       "==============================================================================\n",
       "Dep. Variable:              Converted   No. Observations:                 6363\n",
       "Model:                            GLM   Df Residuals:                     6348\n",
       "Model Family:                Binomial   Df Model:                           14\n",
       "Link Function:                  logit   Scale:                          1.0000\n",
       "Method:                          IRLS   Log-Likelihood:                -1533.4\n",
       "Date:                Sun, 11 Apr 2021   Deviance:                       3066.9\n",
       "Time:                        22:29:42   Pearson chi2:                 7.01e+03\n",
       "No. Iterations:                     8                                         \n",
       "Covariance Type:            nonrobust                                         \n",
       "================================================================================================================\n",
       "                                                   coef    std err          z      P>|z|      [0.025      0.975]\n",
       "----------------------------------------------------------------------------------------------------------------\n",
       "const                                           -4.6715      0.309    -15.097      0.000      -5.278      -4.065\n",
       "Do Not Email                                    -1.3573      0.223     -6.074      0.000      -1.795      -0.919\n",
       "Total Time Spent on Website                      1.0909      0.054     20.279      0.000       0.985       1.196\n",
       "Lead Source_Olark Chat                           1.1193      0.132      8.460      0.000       0.860       1.379\n",
       "Lead Source_Reference                            2.0237      0.356      5.689      0.000       1.326       2.721\n",
       "Lead Source_Welingak Website                     6.8043      1.027      6.626      0.000       4.792       8.817\n",
       "Last Activity_Email Opened                       0.7321      0.114      6.445      0.000       0.509       0.955\n",
       "Specialization_Travel and Tourism               -0.9068      0.401     -2.260      0.024      -1.693      -0.120\n",
       "What is your current occupation_Unemployed      -0.7761      0.244     -3.184      0.001      -1.254      -0.298\n",
       "Tags_Closed by Horizzon                          8.8298      0.751     11.757      0.000       7.358      10.302\n",
       "Tags_Not Mentioned                               3.0398      0.198     15.357      0.000       2.652       3.428\n",
       "Tags_Other_Tags                                  3.0496      0.208     14.684      0.000       2.643       3.457\n",
       "Tags_Will revert after reading the email         7.0742      0.246     28.728      0.000       6.592       7.557\n",
       "Last Notable Activity_Other_Notable_Activity     1.3747      0.413      3.325      0.001       0.564       2.185\n",
       "Last Notable Activity_SMS Sent                   2.5763      0.129     20.012      0.000       2.324       2.829\n",
       "================================================================================================================\n",
       "\"\"\""
      ]
     },
     "execution_count": 184,
     "metadata": {},
     "output_type": "execute_result"
    }
   ],
   "source": [
    "# Summary for the selected logistic regression model (Model - 7)\n",
    "res.summary()"
   ]
  },
  {
   "cell_type": "markdown",
   "metadata": {},
   "source": [
    "### Conclusion : \n",
    "1. Following are the variables that contributed the most: \n",
    "\n",
    "Tags_Closed by Horizzon\n",
    "\n",
    "Tags_Will revert after reading the email\n",
    "\n",
    "Lead Source_Welingak Website\t"
   ]
  },
  {
   "cell_type": "markdown",
   "metadata": {},
   "source": [
    "#### Following are the categorical variables that we covered above: 'Lead Origin', 'Lead Source', 'Last Activity', 'Specialization', 'What is your current occupation', 'Tags', 'City', 'Last Notable Activity']\n",
    "\n",
    "2. Following are the categorical/dummy variables that should be focused the most in order to increase the probability of lead conversion:\n",
    "    \n",
    "•\tTags_Closed by Horizzon (from Tags)\n",
    "\n",
    "•\tTags_Will revert after reading the email (from Tags)\n",
    "\n",
    "•\tLead Source_Welingak Website (from Lead Source)"
   ]
  },
  {
   "cell_type": "code",
   "execution_count": 185,
   "metadata": {},
   "outputs": [
    {
     "data": {
      "text/html": [
       "<div>\n",
       "<style scoped>\n",
       "    .dataframe tbody tr th:only-of-type {\n",
       "        vertical-align: middle;\n",
       "    }\n",
       "\n",
       "    .dataframe tbody tr th {\n",
       "        vertical-align: top;\n",
       "    }\n",
       "\n",
       "    .dataframe thead th {\n",
       "        text-align: right;\n",
       "    }\n",
       "</style>\n",
       "<table border=\"1\" class=\"dataframe\">\n",
       "  <thead>\n",
       "    <tr style=\"text-align: right;\">\n",
       "      <th></th>\n",
       "      <th>Converted</th>\n",
       "      <th>Converted_Prob</th>\n",
       "      <th>LeadId</th>\n",
       "      <th>Predicted</th>\n",
       "      <th>0.0</th>\n",
       "      <th>0.1</th>\n",
       "      <th>0.2</th>\n",
       "      <th>0.3</th>\n",
       "      <th>0.4</th>\n",
       "      <th>0.5</th>\n",
       "      <th>0.6</th>\n",
       "      <th>0.7</th>\n",
       "      <th>0.8</th>\n",
       "      <th>0.9</th>\n",
       "      <th>final_predicted</th>\n",
       "      <th>lead_score</th>\n",
       "    </tr>\n",
       "  </thead>\n",
       "  <tbody>\n",
       "    <tr>\n",
       "      <th>0</th>\n",
       "      <td>0</td>\n",
       "      <td>0.10</td>\n",
       "      <td>302</td>\n",
       "      <td>0</td>\n",
       "      <td>1</td>\n",
       "      <td>1</td>\n",
       "      <td>0</td>\n",
       "      <td>0</td>\n",
       "      <td>0</td>\n",
       "      <td>0</td>\n",
       "      <td>0</td>\n",
       "      <td>0</td>\n",
       "      <td>0</td>\n",
       "      <td>0</td>\n",
       "      <td>0</td>\n",
       "      <td>10</td>\n",
       "    </tr>\n",
       "    <tr>\n",
       "      <th>1</th>\n",
       "      <td>0</td>\n",
       "      <td>0.03</td>\n",
       "      <td>6087</td>\n",
       "      <td>0</td>\n",
       "      <td>1</td>\n",
       "      <td>0</td>\n",
       "      <td>0</td>\n",
       "      <td>0</td>\n",
       "      <td>0</td>\n",
       "      <td>0</td>\n",
       "      <td>0</td>\n",
       "      <td>0</td>\n",
       "      <td>0</td>\n",
       "      <td>0</td>\n",
       "      <td>0</td>\n",
       "      <td>3</td>\n",
       "    </tr>\n",
       "    <tr>\n",
       "      <th>2</th>\n",
       "      <td>0</td>\n",
       "      <td>0.15</td>\n",
       "      <td>1033</td>\n",
       "      <td>0</td>\n",
       "      <td>1</td>\n",
       "      <td>1</td>\n",
       "      <td>0</td>\n",
       "      <td>0</td>\n",
       "      <td>0</td>\n",
       "      <td>0</td>\n",
       "      <td>0</td>\n",
       "      <td>0</td>\n",
       "      <td>0</td>\n",
       "      <td>0</td>\n",
       "      <td>0</td>\n",
       "      <td>15</td>\n",
       "    </tr>\n",
       "    <tr>\n",
       "      <th>3</th>\n",
       "      <td>0</td>\n",
       "      <td>0.01</td>\n",
       "      <td>7656</td>\n",
       "      <td>0</td>\n",
       "      <td>1</td>\n",
       "      <td>0</td>\n",
       "      <td>0</td>\n",
       "      <td>0</td>\n",
       "      <td>0</td>\n",
       "      <td>0</td>\n",
       "      <td>0</td>\n",
       "      <td>0</td>\n",
       "      <td>0</td>\n",
       "      <td>0</td>\n",
       "      <td>0</td>\n",
       "      <td>1</td>\n",
       "    </tr>\n",
       "    <tr>\n",
       "      <th>4</th>\n",
       "      <td>1</td>\n",
       "      <td>0.99</td>\n",
       "      <td>3241</td>\n",
       "      <td>1</td>\n",
       "      <td>1</td>\n",
       "      <td>1</td>\n",
       "      <td>1</td>\n",
       "      <td>1</td>\n",
       "      <td>1</td>\n",
       "      <td>1</td>\n",
       "      <td>1</td>\n",
       "      <td>1</td>\n",
       "      <td>1</td>\n",
       "      <td>1</td>\n",
       "      <td>1</td>\n",
       "      <td>99</td>\n",
       "    </tr>\n",
       "    <tr>\n",
       "      <th>5</th>\n",
       "      <td>0</td>\n",
       "      <td>0.07</td>\n",
       "      <td>5738</td>\n",
       "      <td>0</td>\n",
       "      <td>1</td>\n",
       "      <td>0</td>\n",
       "      <td>0</td>\n",
       "      <td>0</td>\n",
       "      <td>0</td>\n",
       "      <td>0</td>\n",
       "      <td>0</td>\n",
       "      <td>0</td>\n",
       "      <td>0</td>\n",
       "      <td>0</td>\n",
       "      <td>0</td>\n",
       "      <td>7</td>\n",
       "    </tr>\n",
       "    <tr>\n",
       "      <th>6</th>\n",
       "      <td>0</td>\n",
       "      <td>0.01</td>\n",
       "      <td>7366</td>\n",
       "      <td>0</td>\n",
       "      <td>1</td>\n",
       "      <td>0</td>\n",
       "      <td>0</td>\n",
       "      <td>0</td>\n",
       "      <td>0</td>\n",
       "      <td>0</td>\n",
       "      <td>0</td>\n",
       "      <td>0</td>\n",
       "      <td>0</td>\n",
       "      <td>0</td>\n",
       "      <td>0</td>\n",
       "      <td>1</td>\n",
       "    </tr>\n",
       "    <tr>\n",
       "      <th>7</th>\n",
       "      <td>0</td>\n",
       "      <td>0.04</td>\n",
       "      <td>3680</td>\n",
       "      <td>0</td>\n",
       "      <td>1</td>\n",
       "      <td>0</td>\n",
       "      <td>0</td>\n",
       "      <td>0</td>\n",
       "      <td>0</td>\n",
       "      <td>0</td>\n",
       "      <td>0</td>\n",
       "      <td>0</td>\n",
       "      <td>0</td>\n",
       "      <td>0</td>\n",
       "      <td>0</td>\n",
       "      <td>4</td>\n",
       "    </tr>\n",
       "    <tr>\n",
       "      <th>8</th>\n",
       "      <td>1</td>\n",
       "      <td>0.99</td>\n",
       "      <td>4170</td>\n",
       "      <td>1</td>\n",
       "      <td>1</td>\n",
       "      <td>1</td>\n",
       "      <td>1</td>\n",
       "      <td>1</td>\n",
       "      <td>1</td>\n",
       "      <td>1</td>\n",
       "      <td>1</td>\n",
       "      <td>1</td>\n",
       "      <td>1</td>\n",
       "      <td>1</td>\n",
       "      <td>1</td>\n",
       "      <td>99</td>\n",
       "    </tr>\n",
       "    <tr>\n",
       "      <th>9</th>\n",
       "      <td>0</td>\n",
       "      <td>0.10</td>\n",
       "      <td>43</td>\n",
       "      <td>0</td>\n",
       "      <td>1</td>\n",
       "      <td>0</td>\n",
       "      <td>0</td>\n",
       "      <td>0</td>\n",
       "      <td>0</td>\n",
       "      <td>0</td>\n",
       "      <td>0</td>\n",
       "      <td>0</td>\n",
       "      <td>0</td>\n",
       "      <td>0</td>\n",
       "      <td>0</td>\n",
       "      <td>10</td>\n",
       "    </tr>\n",
       "    <tr>\n",
       "      <th>10</th>\n",
       "      <td>1</td>\n",
       "      <td>0.97</td>\n",
       "      <td>242</td>\n",
       "      <td>1</td>\n",
       "      <td>1</td>\n",
       "      <td>1</td>\n",
       "      <td>1</td>\n",
       "      <td>1</td>\n",
       "      <td>1</td>\n",
       "      <td>1</td>\n",
       "      <td>1</td>\n",
       "      <td>1</td>\n",
       "      <td>1</td>\n",
       "      <td>1</td>\n",
       "      <td>1</td>\n",
       "      <td>97</td>\n",
       "    </tr>\n",
       "    <tr>\n",
       "      <th>11</th>\n",
       "      <td>0</td>\n",
       "      <td>0.09</td>\n",
       "      <td>8418</td>\n",
       "      <td>0</td>\n",
       "      <td>1</td>\n",
       "      <td>0</td>\n",
       "      <td>0</td>\n",
       "      <td>0</td>\n",
       "      <td>0</td>\n",
       "      <td>0</td>\n",
       "      <td>0</td>\n",
       "      <td>0</td>\n",
       "      <td>0</td>\n",
       "      <td>0</td>\n",
       "      <td>0</td>\n",
       "      <td>9</td>\n",
       "    </tr>\n",
       "    <tr>\n",
       "      <th>12</th>\n",
       "      <td>1</td>\n",
       "      <td>1.00</td>\n",
       "      <td>8801</td>\n",
       "      <td>1</td>\n",
       "      <td>1</td>\n",
       "      <td>1</td>\n",
       "      <td>1</td>\n",
       "      <td>1</td>\n",
       "      <td>1</td>\n",
       "      <td>1</td>\n",
       "      <td>1</td>\n",
       "      <td>1</td>\n",
       "      <td>1</td>\n",
       "      <td>1</td>\n",
       "      <td>1</td>\n",
       "      <td>100</td>\n",
       "    </tr>\n",
       "    <tr>\n",
       "      <th>13</th>\n",
       "      <td>0</td>\n",
       "      <td>0.08</td>\n",
       "      <td>2309</td>\n",
       "      <td>0</td>\n",
       "      <td>1</td>\n",
       "      <td>0</td>\n",
       "      <td>0</td>\n",
       "      <td>0</td>\n",
       "      <td>0</td>\n",
       "      <td>0</td>\n",
       "      <td>0</td>\n",
       "      <td>0</td>\n",
       "      <td>0</td>\n",
       "      <td>0</td>\n",
       "      <td>0</td>\n",
       "      <td>8</td>\n",
       "    </tr>\n",
       "    <tr>\n",
       "      <th>14</th>\n",
       "      <td>0</td>\n",
       "      <td>0.10</td>\n",
       "      <td>6782</td>\n",
       "      <td>0</td>\n",
       "      <td>1</td>\n",
       "      <td>1</td>\n",
       "      <td>0</td>\n",
       "      <td>0</td>\n",
       "      <td>0</td>\n",
       "      <td>0</td>\n",
       "      <td>0</td>\n",
       "      <td>0</td>\n",
       "      <td>0</td>\n",
       "      <td>0</td>\n",
       "      <td>0</td>\n",
       "      <td>10</td>\n",
       "    </tr>\n",
       "    <tr>\n",
       "      <th>15</th>\n",
       "      <td>0</td>\n",
       "      <td>0.00</td>\n",
       "      <td>6285</td>\n",
       "      <td>0</td>\n",
       "      <td>1</td>\n",
       "      <td>0</td>\n",
       "      <td>0</td>\n",
       "      <td>0</td>\n",
       "      <td>0</td>\n",
       "      <td>0</td>\n",
       "      <td>0</td>\n",
       "      <td>0</td>\n",
       "      <td>0</td>\n",
       "      <td>0</td>\n",
       "      <td>0</td>\n",
       "      <td>0</td>\n",
       "    </tr>\n",
       "    <tr>\n",
       "      <th>16</th>\n",
       "      <td>0</td>\n",
       "      <td>0.03</td>\n",
       "      <td>6443</td>\n",
       "      <td>0</td>\n",
       "      <td>1</td>\n",
       "      <td>0</td>\n",
       "      <td>0</td>\n",
       "      <td>0</td>\n",
       "      <td>0</td>\n",
       "      <td>0</td>\n",
       "      <td>0</td>\n",
       "      <td>0</td>\n",
       "      <td>0</td>\n",
       "      <td>0</td>\n",
       "      <td>0</td>\n",
       "      <td>3</td>\n",
       "    </tr>\n",
       "    <tr>\n",
       "      <th>17</th>\n",
       "      <td>1</td>\n",
       "      <td>1.00</td>\n",
       "      <td>6297</td>\n",
       "      <td>1</td>\n",
       "      <td>1</td>\n",
       "      <td>1</td>\n",
       "      <td>1</td>\n",
       "      <td>1</td>\n",
       "      <td>1</td>\n",
       "      <td>1</td>\n",
       "      <td>1</td>\n",
       "      <td>1</td>\n",
       "      <td>1</td>\n",
       "      <td>1</td>\n",
       "      <td>1</td>\n",
       "      <td>100</td>\n",
       "    </tr>\n",
       "    <tr>\n",
       "      <th>18</th>\n",
       "      <td>0</td>\n",
       "      <td>0.03</td>\n",
       "      <td>7861</td>\n",
       "      <td>0</td>\n",
       "      <td>1</td>\n",
       "      <td>0</td>\n",
       "      <td>0</td>\n",
       "      <td>0</td>\n",
       "      <td>0</td>\n",
       "      <td>0</td>\n",
       "      <td>0</td>\n",
       "      <td>0</td>\n",
       "      <td>0</td>\n",
       "      <td>0</td>\n",
       "      <td>0</td>\n",
       "      <td>3</td>\n",
       "    </tr>\n",
       "    <tr>\n",
       "      <th>19</th>\n",
       "      <td>0</td>\n",
       "      <td>0.03</td>\n",
       "      <td>2229</td>\n",
       "      <td>0</td>\n",
       "      <td>1</td>\n",
       "      <td>0</td>\n",
       "      <td>0</td>\n",
       "      <td>0</td>\n",
       "      <td>0</td>\n",
       "      <td>0</td>\n",
       "      <td>0</td>\n",
       "      <td>0</td>\n",
       "      <td>0</td>\n",
       "      <td>0</td>\n",
       "      <td>0</td>\n",
       "      <td>3</td>\n",
       "    </tr>\n",
       "    <tr>\n",
       "      <th>20</th>\n",
       "      <td>1</td>\n",
       "      <td>0.60</td>\n",
       "      <td>831</td>\n",
       "      <td>1</td>\n",
       "      <td>1</td>\n",
       "      <td>1</td>\n",
       "      <td>1</td>\n",
       "      <td>1</td>\n",
       "      <td>1</td>\n",
       "      <td>1</td>\n",
       "      <td>1</td>\n",
       "      <td>0</td>\n",
       "      <td>0</td>\n",
       "      <td>0</td>\n",
       "      <td>1</td>\n",
       "      <td>60</td>\n",
       "    </tr>\n",
       "    <tr>\n",
       "      <th>21</th>\n",
       "      <td>0</td>\n",
       "      <td>0.15</td>\n",
       "      <td>3039</td>\n",
       "      <td>0</td>\n",
       "      <td>1</td>\n",
       "      <td>1</td>\n",
       "      <td>0</td>\n",
       "      <td>0</td>\n",
       "      <td>0</td>\n",
       "      <td>0</td>\n",
       "      <td>0</td>\n",
       "      <td>0</td>\n",
       "      <td>0</td>\n",
       "      <td>0</td>\n",
       "      <td>0</td>\n",
       "      <td>15</td>\n",
       "    </tr>\n",
       "    <tr>\n",
       "      <th>22</th>\n",
       "      <td>0</td>\n",
       "      <td>0.03</td>\n",
       "      <td>6336</td>\n",
       "      <td>0</td>\n",
       "      <td>1</td>\n",
       "      <td>0</td>\n",
       "      <td>0</td>\n",
       "      <td>0</td>\n",
       "      <td>0</td>\n",
       "      <td>0</td>\n",
       "      <td>0</td>\n",
       "      <td>0</td>\n",
       "      <td>0</td>\n",
       "      <td>0</td>\n",
       "      <td>0</td>\n",
       "      <td>3</td>\n",
       "    </tr>\n",
       "    <tr>\n",
       "      <th>23</th>\n",
       "      <td>0</td>\n",
       "      <td>0.01</td>\n",
       "      <td>8477</td>\n",
       "      <td>0</td>\n",
       "      <td>1</td>\n",
       "      <td>0</td>\n",
       "      <td>0</td>\n",
       "      <td>0</td>\n",
       "      <td>0</td>\n",
       "      <td>0</td>\n",
       "      <td>0</td>\n",
       "      <td>0</td>\n",
       "      <td>0</td>\n",
       "      <td>0</td>\n",
       "      <td>0</td>\n",
       "      <td>1</td>\n",
       "    </tr>\n",
       "    <tr>\n",
       "      <th>24</th>\n",
       "      <td>0</td>\n",
       "      <td>0.09</td>\n",
       "      <td>368</td>\n",
       "      <td>0</td>\n",
       "      <td>1</td>\n",
       "      <td>0</td>\n",
       "      <td>0</td>\n",
       "      <td>0</td>\n",
       "      <td>0</td>\n",
       "      <td>0</td>\n",
       "      <td>0</td>\n",
       "      <td>0</td>\n",
       "      <td>0</td>\n",
       "      <td>0</td>\n",
       "      <td>0</td>\n",
       "      <td>9</td>\n",
       "    </tr>\n",
       "    <tr>\n",
       "      <th>25</th>\n",
       "      <td>1</td>\n",
       "      <td>0.84</td>\n",
       "      <td>3824</td>\n",
       "      <td>1</td>\n",
       "      <td>1</td>\n",
       "      <td>1</td>\n",
       "      <td>1</td>\n",
       "      <td>1</td>\n",
       "      <td>1</td>\n",
       "      <td>1</td>\n",
       "      <td>1</td>\n",
       "      <td>1</td>\n",
       "      <td>1</td>\n",
       "      <td>0</td>\n",
       "      <td>1</td>\n",
       "      <td>84</td>\n",
       "    </tr>\n",
       "    <tr>\n",
       "      <th>26</th>\n",
       "      <td>1</td>\n",
       "      <td>1.00</td>\n",
       "      <td>994</td>\n",
       "      <td>1</td>\n",
       "      <td>1</td>\n",
       "      <td>1</td>\n",
       "      <td>1</td>\n",
       "      <td>1</td>\n",
       "      <td>1</td>\n",
       "      <td>1</td>\n",
       "      <td>1</td>\n",
       "      <td>1</td>\n",
       "      <td>1</td>\n",
       "      <td>1</td>\n",
       "      <td>1</td>\n",
       "      <td>100</td>\n",
       "    </tr>\n",
       "    <tr>\n",
       "      <th>27</th>\n",
       "      <td>0</td>\n",
       "      <td>0.37</td>\n",
       "      <td>4274</td>\n",
       "      <td>0</td>\n",
       "      <td>1</td>\n",
       "      <td>1</td>\n",
       "      <td>1</td>\n",
       "      <td>1</td>\n",
       "      <td>0</td>\n",
       "      <td>0</td>\n",
       "      <td>0</td>\n",
       "      <td>0</td>\n",
       "      <td>0</td>\n",
       "      <td>0</td>\n",
       "      <td>1</td>\n",
       "      <td>37</td>\n",
       "    </tr>\n",
       "    <tr>\n",
       "      <th>28</th>\n",
       "      <td>1</td>\n",
       "      <td>0.99</td>\n",
       "      <td>5345</td>\n",
       "      <td>1</td>\n",
       "      <td>1</td>\n",
       "      <td>1</td>\n",
       "      <td>1</td>\n",
       "      <td>1</td>\n",
       "      <td>1</td>\n",
       "      <td>1</td>\n",
       "      <td>1</td>\n",
       "      <td>1</td>\n",
       "      <td>1</td>\n",
       "      <td>1</td>\n",
       "      <td>1</td>\n",
       "      <td>99</td>\n",
       "    </tr>\n",
       "    <tr>\n",
       "      <th>29</th>\n",
       "      <td>0</td>\n",
       "      <td>0.10</td>\n",
       "      <td>7998</td>\n",
       "      <td>0</td>\n",
       "      <td>1</td>\n",
       "      <td>0</td>\n",
       "      <td>0</td>\n",
       "      <td>0</td>\n",
       "      <td>0</td>\n",
       "      <td>0</td>\n",
       "      <td>0</td>\n",
       "      <td>0</td>\n",
       "      <td>0</td>\n",
       "      <td>0</td>\n",
       "      <td>0</td>\n",
       "      <td>10</td>\n",
       "    </tr>\n",
       "  </tbody>\n",
       "</table>\n",
       "</div>"
      ],
      "text/plain": [
       "    Converted  Converted_Prob  LeadId  Predicted  0.0  0.1  0.2  0.3  0.4  \\\n",
       "0           0            0.10     302          0    1    1    0    0    0   \n",
       "1           0            0.03    6087          0    1    0    0    0    0   \n",
       "2           0            0.15    1033          0    1    1    0    0    0   \n",
       "3           0            0.01    7656          0    1    0    0    0    0   \n",
       "4           1            0.99    3241          1    1    1    1    1    1   \n",
       "5           0            0.07    5738          0    1    0    0    0    0   \n",
       "6           0            0.01    7366          0    1    0    0    0    0   \n",
       "7           0            0.04    3680          0    1    0    0    0    0   \n",
       "8           1            0.99    4170          1    1    1    1    1    1   \n",
       "9           0            0.10      43          0    1    0    0    0    0   \n",
       "10          1            0.97     242          1    1    1    1    1    1   \n",
       "11          0            0.09    8418          0    1    0    0    0    0   \n",
       "12          1            1.00    8801          1    1    1    1    1    1   \n",
       "13          0            0.08    2309          0    1    0    0    0    0   \n",
       "14          0            0.10    6782          0    1    1    0    0    0   \n",
       "15          0            0.00    6285          0    1    0    0    0    0   \n",
       "16          0            0.03    6443          0    1    0    0    0    0   \n",
       "17          1            1.00    6297          1    1    1    1    1    1   \n",
       "18          0            0.03    7861          0    1    0    0    0    0   \n",
       "19          0            0.03    2229          0    1    0    0    0    0   \n",
       "20          1            0.60     831          1    1    1    1    1    1   \n",
       "21          0            0.15    3039          0    1    1    0    0    0   \n",
       "22          0            0.03    6336          0    1    0    0    0    0   \n",
       "23          0            0.01    8477          0    1    0    0    0    0   \n",
       "24          0            0.09     368          0    1    0    0    0    0   \n",
       "25          1            0.84    3824          1    1    1    1    1    1   \n",
       "26          1            1.00     994          1    1    1    1    1    1   \n",
       "27          0            0.37    4274          0    1    1    1    1    0   \n",
       "28          1            0.99    5345          1    1    1    1    1    1   \n",
       "29          0            0.10    7998          0    1    0    0    0    0   \n",
       "\n",
       "    0.5  0.6  0.7  0.8  0.9  final_predicted  lead_score  \n",
       "0     0    0    0    0    0                0          10  \n",
       "1     0    0    0    0    0                0           3  \n",
       "2     0    0    0    0    0                0          15  \n",
       "3     0    0    0    0    0                0           1  \n",
       "4     1    1    1    1    1                1          99  \n",
       "5     0    0    0    0    0                0           7  \n",
       "6     0    0    0    0    0                0           1  \n",
       "7     0    0    0    0    0                0           4  \n",
       "8     1    1    1    1    1                1          99  \n",
       "9     0    0    0    0    0                0          10  \n",
       "10    1    1    1    1    1                1          97  \n",
       "11    0    0    0    0    0                0           9  \n",
       "12    1    1    1    1    1                1         100  \n",
       "13    0    0    0    0    0                0           8  \n",
       "14    0    0    0    0    0                0          10  \n",
       "15    0    0    0    0    0                0           0  \n",
       "16    0    0    0    0    0                0           3  \n",
       "17    1    1    1    1    1                1         100  \n",
       "18    0    0    0    0    0                0           3  \n",
       "19    0    0    0    0    0                0           3  \n",
       "20    1    1    0    0    0                1          60  \n",
       "21    0    0    0    0    0                0          15  \n",
       "22    0    0    0    0    0                0           3  \n",
       "23    0    0    0    0    0                0           1  \n",
       "24    0    0    0    0    0                0           9  \n",
       "25    1    1    1    1    0                1          84  \n",
       "26    1    1    1    1    1                1         100  \n",
       "27    0    0    0    0    0                1          37  \n",
       "28    1    1    1    1    1                1          99  \n",
       "29    0    0    0    0    0                0          10  "
      ]
     },
     "execution_count": 185,
     "metadata": {},
     "output_type": "execute_result"
    }
   ],
   "source": [
    "y_train_pred_df.head(30)"
   ]
  }
 ],
 "metadata": {
  "kernelspec": {
   "display_name": "Python 3",
   "language": "python",
   "name": "python3"
  },
  "language_info": {
   "codemirror_mode": {
    "name": "ipython",
    "version": 3
   },
   "file_extension": ".py",
   "mimetype": "text/x-python",
   "name": "python",
   "nbconvert_exporter": "python",
   "pygments_lexer": "ipython3",
   "version": "3.8.3"
  }
 },
 "nbformat": 4,
 "nbformat_minor": 4
}
